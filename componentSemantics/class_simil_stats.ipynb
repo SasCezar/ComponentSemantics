{
 "cells": [
  {
   "cell_type": "code",
   "execution_count": 1,
   "outputs": [],
   "source": [
    "import operator\n",
    "import os\n",
    "from collections import defaultdict, Counter\n",
    "\n",
    "import matplotlib.pyplot as plt\n",
    "from sklearn.model_selection import train_test_split\n",
    "import multiset\n",
    "\n",
    "from utils import load_embeddings, load_projects_new, load_stopwords"
   ],
   "metadata": {
    "collapsed": false,
    "pycharm": {
     "name": "#%%\n"
    }
   }
  },
  {
   "cell_type": "code",
   "execution_count": 2,
   "outputs": [],
   "source": [
    "level  = '3rd'\n",
    "max_df = 0.8\n",
    "min_df = 0.1\n",
    "\n",
    "sett = f'_{max_df}_{min_df}'"
   ],
   "metadata": {
    "collapsed": false,
    "pycharm": {
     "name": "#%%\n"
    }
   }
  },
  {
   "cell_type": "code",
   "execution_count": 3,
   "outputs": [],
   "source": [
    "projects, imapping = load_projects_new('.', 'java-projects .final.csv', level=f'{level} level')\n",
    "labels = {k:v for k,v in zip(projects['names'], projects['labels_id'])}"
   ],
   "metadata": {
    "collapsed": false,
    "pycharm": {
     "name": "#%%\n"
    }
   }
  },
  {
   "cell_type": "code",
   "execution_count": 4,
   "outputs": [],
   "source": [
    "path = \"resources/java/stopwords.txt\"\n",
    "stopwords = load_stopwords(path)\n",
    "path = \"resources/en/stopwords.txt\"\n",
    "stopwords.update(load_stopwords(path))"
   ],
   "metadata": {
    "collapsed": false,
    "pycharm": {
     "name": "#%%\n"
    }
   }
  },
  {
   "cell_type": "code",
   "execution_count": 5,
   "outputs": [],
   "source": [
    "\n",
    "terms_path = '../data/embeddings/terms-count/'\n",
    "mapping = {v:k for k,v in imapping.items()}"
   ],
   "metadata": {
    "collapsed": false,
    "pycharm": {
     "name": "#%%\n"
    }
   }
  },
  {
   "cell_type": "code",
   "execution_count": 6,
   "outputs": [
    {
     "data": {
      "text/plain": "{3: 'Bean Mapping',\n 4: 'Build',\n 5: 'Bytecode Manipulation',\n 8: 'Caching',\n 6: 'CLI',\n 9: 'Cluster Management',\n 10: 'Code Analysis',\n 11: 'Code Coverage',\n 12: 'Code Generators',\n 13: 'Compilercompiler',\n 14: 'Configuration',\n 15: 'Constraint Satisfaction Problem Solver',\n 7: 'CSV',\n 16: 'Data Structures',\n 17: 'Database',\n 18: 'Date and Time',\n 19: 'Dependency Injection',\n 20: 'Development',\n 21: 'Distributed Applications',\n 22: 'Distributed Transactions',\n 23: 'Distribution',\n 24: 'Document Processing',\n 25: 'Financial',\n 27: 'Formal Verification',\n 29: 'Functional Programming',\n 31: 'Game Development',\n 32: 'Geospatial',\n 30: 'GUI',\n 34: 'High Performance',\n 33: 'HTTP Clients',\n 35: 'Hypermedia Types',\n 36: 'Imagery',\n 37: 'Introspection',\n 40: 'Job Scheduling',\n 38: 'JSON',\n 39: 'JVM and JDK',\n 41: 'Logging',\n 42: 'Machine Learning',\n 44: 'Messaging',\n 45: 'Microservice',\n 46: 'Miscellaneous',\n 48: 'Monitoring',\n 49: 'Native',\n 50: 'Natural Language Processing',\n 51: 'Networking',\n 52: 'ORM',\n 54: 'PDF',\n 55: 'Performance analysis',\n 0: 'Apache Commons',\n 53: 'Other',\n 56: 'Processes',\n 58: 'Reactive libraries',\n 57: 'REST Frameworks',\n 59: 'Science',\n 60: 'Search',\n 61: 'Security',\n 62: 'Serialization',\n 63: 'Server',\n 64: 'Template Engine',\n 1: 'Asynchronous',\n 2: 'BDD',\n 26: 'Fixtures',\n 28: 'Frameworks',\n 43: 'Matchers',\n 47: 'Mocking',\n 65: 'Utility',\n 66: 'Web Crawling',\n 67: 'Web Frameworks'}"
     },
     "execution_count": 6,
     "metadata": {},
     "output_type": "execute_result"
    }
   ],
   "source": [
    "mapping"
   ],
   "metadata": {
    "collapsed": false,
    "pycharm": {
     "name": "#%%\n"
    }
   }
  },
  {
   "cell_type": "code",
   "execution_count": 7,
   "outputs": [
    {
     "name": "stdout",
     "output_type": "stream",
     "text": [
      "[Errno 2] No such file or directory: '../data/embeddings/terms-count/asm.vec'\n",
      "[Errno 2] No such file or directory: '../data/embeddings/terms-count/infinispan.vec'\n",
      "[Errno 2] No such file or directory: '../data/embeddings/terms-count/infer.vec'\n",
      "[Errno 2] No such file or directory: '../data/embeddings/terms-count/source.vec'\n",
      "[Errno 2] No such file or directory: '../data/embeddings/terms-count/org.aspectj.vec'\n",
      "[Errno 2] No such file or directory: '../data/embeddings/terms-count/JGroups.vec'\n",
      "[Errno 2] No such file or directory: '../data/embeddings/terms-count/checker-framework.vec'\n",
      "[Errno 2] No such file or directory: '../data/embeddings/terms-count/libgdx.vec'\n",
      "[Errno 2] No such file or directory: '../data/embeddings/terms-count/eclipse.platform.swt.vec'\n",
      "[Errno 2] No such file or directory: '../data/embeddings/terms-count/reflectasm.vec'\n",
      "[Errno 2] No such file or directory: '../data/embeddings/terms-count/flink.vec'\n",
      "[Errno 2] No such file or directory: '../data/embeddings/terms-count/Smack.vec'\n",
      "[Errno 2] No such file or directory: '../data/embeddings/terms-count/Sysmon.vec'\n",
      "[Errno 2] No such file or directory: '../data/embeddings/terms-count/cogcomp-nlp.vec'\n",
      "[Errno 2] No such file or directory: '../data/embeddings/terms-count/CoreNLP.vec'\n",
      "[Errno 2] No such file or directory: '../data/embeddings/terms-count/kryonet.vec'\n",
      "[Errno 2] No such file or directory: '../data/embeddings/terms-count/commons-classscan.vec'\n",
      "[Errno 2] No such file or directory: '../data/embeddings/terms-count/gs-core.vec'\n",
      "[Errno 2] No such file or directory: '../data/embeddings/terms-count/jgraphx.vec'\n",
      "[Errno 2] No such file or directory: '../data/embeddings/terms-count/lucene-solr.vec'\n",
      "[Errno 2] No such file or directory: '../data/embeddings/terms-count/xmlunit.vec'\n",
      "[Errno 2] No such file or directory: '../data/embeddings/terms-count/jgit.vec'\n",
      "[Errno 2] No such file or directory: '../data/embeddings/terms-count/webprotege.vec'\n",
      "[Errno 2] No such file or directory: '../data/embeddings/terms-count/nutch.apache.org.vec'\n"
     ]
    }
   ],
   "source": [
    "from textblob import  Word\n",
    "\n",
    "data = defaultdict(str)\n",
    "for project in labels:\n",
    "    category = mapping[labels[project]]\n",
    "    if category == 'NA':\n",
    "        category = 'Miscellaneous'\n",
    "\n",
    "    try:\n",
    "        terms_count = load_embeddings(os.path.join(terms_path, f\"{project}.vec\"))\n",
    "        terms = []\n",
    "        for x, y in terms_count.items():\n",
    "            lemma = Word(x).lemmatize()\n",
    "            if lemma not in stopwords and len(x) > 1 and x not in stopwords:\n",
    "                tokens = [lemma] * int(y[0])\n",
    "                terms.extend(tokens)\n",
    "        #terms = [[Word(x).lemmatize()] * int(y[0]) for x, y in terms_count.items() if Word(x).lemmatize() not in stopwords and len(x) > 1]\n",
    "        data[category] += ' ' + \" \".join(terms)\n",
    "    except Exception as e:\n",
    "        print(e)"
   ],
   "metadata": {
    "collapsed": false,
    "pycharm": {
     "name": "#%%\n"
    }
   }
  },
  {
   "cell_type": "code",
   "execution_count": 8,
   "outputs": [],
   "source": [
    "lab = list(data.keys())\n",
    "text = [data[k] for k in lab]"
   ],
   "metadata": {
    "collapsed": false,
    "pycharm": {
     "name": "#%%\n"
    }
   }
  },
  {
   "cell_type": "code",
   "execution_count": 9,
   "outputs": [],
   "source": [
    "import pandas\n",
    "\n",
    "df = pandas.DataFrame({'text': text, 'label': lab})\n",
    "#df = df[~df['label'].isin(['NA', 'Miscellaneous'])]\n",
    "\n",
    "y = df['label'].to_frame()\n",
    "X = df['text']\n"
   ],
   "metadata": {
    "collapsed": false,
    "pycharm": {
     "name": "#%%\n"
    }
   }
  },
  {
   "cell_type": "code",
   "execution_count": 9,
   "outputs": [],
   "source": [],
   "metadata": {
    "collapsed": false,
    "pycharm": {
     "name": "#%%\n"
    }
   }
  },
  {
   "cell_type": "code",
   "execution_count": 10,
   "outputs": [],
   "source": [
    "from sklearn.feature_extraction.text import TfidfVectorizer\n",
    "\n",
    "vectorizer = TfidfVectorizer(max_features=1000, max_df=max_df, min_df=min_df)\n",
    "#vectorizer.fit(X)\n",
    "X_mat = vectorizer.fit_transform(X)"
   ],
   "metadata": {
    "collapsed": false,
    "pycharm": {
     "name": "#%%\n"
    }
   }
  },
  {
   "cell_type": "code",
   "execution_count": 11,
   "outputs": [
    {
     "data": {
      "text/plain": "(67, 1000)"
     },
     "execution_count": 11,
     "metadata": {},
     "output_type": "execute_result"
    }
   ],
   "source": [
    "X_mat.shape"
   ],
   "metadata": {
    "collapsed": false,
    "pycharm": {
     "name": "#%%\n"
    }
   }
  },
  {
   "cell_type": "code",
   "execution_count": 12,
   "outputs": [],
   "source": [
    "from sklearn import metrics\n",
    "\n",
    "simil = metrics.pairwise.cosine_similarity(X_mat)"
   ],
   "metadata": {
    "collapsed": false,
    "pycharm": {
     "name": "#%%\n"
    }
   }
  },
  {
   "cell_type": "code",
   "execution_count": 13,
   "outputs": [],
   "source": [
    "import numpy as np\n",
    "import copy\n",
    "\n",
    "simill = copy.deepcopy(simil)\n"
   ],
   "metadata": {
    "collapsed": false,
    "pycharm": {
     "name": "#%%\n"
    }
   }
  },
  {
   "cell_type": "code",
   "execution_count": 14,
   "outputs": [],
   "source": [
    "similarities_3rd = simil[np.triu_indices(simil.shape[0], k=1)]"
   ],
   "metadata": {
    "collapsed": false,
    "pycharm": {
     "name": "#%%\n"
    }
   }
  },
  {
   "cell_type": "code",
   "execution_count": 15,
   "outputs": [
    {
     "data": {
      "text/plain": "array([0.0404819 , 0.01134311, 0.0293974 , ..., 0.01274767, 0.08416172,\n       0.0414547 ])"
     },
     "execution_count": 15,
     "metadata": {},
     "output_type": "execute_result"
    }
   ],
   "source": [
    "similarities_3rd"
   ],
   "metadata": {
    "collapsed": false,
    "pycharm": {
     "name": "#%%\n"
    }
   }
  },
  {
   "cell_type": "code",
   "execution_count": 15,
   "outputs": [],
   "source": [],
   "metadata": {
    "collapsed": false,
    "pycharm": {
     "name": "#%%\n"
    }
   }
  },
  {
   "cell_type": "code",
   "execution_count": 16,
   "outputs": [],
   "source": [
    "\n",
    "level  = '1st'\n",
    "max_df = 0.8\n",
    "min_df = 0.1\n",
    "\n",
    "sett = f'_{max_df}_{min_df}'"
   ],
   "metadata": {
    "collapsed": false,
    "pycharm": {
     "name": "#%%\n"
    }
   }
  },
  {
   "cell_type": "code",
   "execution_count": 17,
   "outputs": [],
   "source": [
    "projects, imapping = load_projects_new('.', 'java-projects .final.csv', level=f'{level} level')\n",
    "labels = {k:v for k,v in zip(projects['names'], projects['labels_id'])}"
   ],
   "metadata": {
    "collapsed": false,
    "pycharm": {
     "name": "#%%\n"
    }
   }
  },
  {
   "cell_type": "code",
   "execution_count": 18,
   "outputs": [],
   "source": [
    "path = \"resources/java/stopwords.txt\"\n",
    "stopwords = load_stopwords(path)\n",
    "path = \"resources/en/stopwords.txt\"\n",
    "stopwords.update(load_stopwords(path))"
   ],
   "metadata": {
    "collapsed": false,
    "pycharm": {
     "name": "#%%\n"
    }
   }
  },
  {
   "cell_type": "code",
   "execution_count": 19,
   "outputs": [],
   "source": [
    "\n",
    "terms_path = '../data/embeddings/terms-count/'\n",
    "mapping = {v:k for k,v in imapping.items()}"
   ],
   "metadata": {
    "collapsed": false,
    "pycharm": {
     "name": "#%%\n"
    }
   }
  },
  {
   "cell_type": "code",
   "execution_count": 20,
   "outputs": [
    {
     "data": {
      "text/plain": "{4: 'Introspection',\n 2: 'Development',\n 0: 'CLI',\n 8: 'Parser',\n 11: 'Server',\n 9: 'Scientific/Engineering',\n 1: 'Data',\n 12: 'Testing',\n 6: 'NA',\n 3: 'Graphical',\n 13: 'Web',\n 7: 'Networking',\n 5: 'Miscellaneous',\n 10: 'Security'}"
     },
     "execution_count": 20,
     "metadata": {},
     "output_type": "execute_result"
    }
   ],
   "source": [
    "mapping"
   ],
   "metadata": {
    "collapsed": false,
    "pycharm": {
     "name": "#%%\n"
    }
   }
  },
  {
   "cell_type": "code",
   "execution_count": 21,
   "outputs": [
    {
     "name": "stdout",
     "output_type": "stream",
     "text": [
      "[Errno 2] No such file or directory: '../data/embeddings/terms-count/asm.vec'\n",
      "[Errno 2] No such file or directory: '../data/embeddings/terms-count/infinispan.vec'\n",
      "[Errno 2] No such file or directory: '../data/embeddings/terms-count/infer.vec'\n",
      "[Errno 2] No such file or directory: '../data/embeddings/terms-count/source.vec'\n",
      "[Errno 2] No such file or directory: '../data/embeddings/terms-count/org.aspectj.vec'\n",
      "[Errno 2] No such file or directory: '../data/embeddings/terms-count/JGroups.vec'\n",
      "[Errno 2] No such file or directory: '../data/embeddings/terms-count/checker-framework.vec'\n",
      "[Errno 2] No such file or directory: '../data/embeddings/terms-count/libgdx.vec'\n",
      "[Errno 2] No such file or directory: '../data/embeddings/terms-count/eclipse.platform.swt.vec'\n",
      "[Errno 2] No such file or directory: '../data/embeddings/terms-count/reflectasm.vec'\n",
      "[Errno 2] No such file or directory: '../data/embeddings/terms-count/flink.vec'\n",
      "[Errno 2] No such file or directory: '../data/embeddings/terms-count/Smack.vec'\n",
      "[Errno 2] No such file or directory: '../data/embeddings/terms-count/Sysmon.vec'\n",
      "[Errno 2] No such file or directory: '../data/embeddings/terms-count/cogcomp-nlp.vec'\n",
      "[Errno 2] No such file or directory: '../data/embeddings/terms-count/CoreNLP.vec'\n",
      "[Errno 2] No such file or directory: '../data/embeddings/terms-count/kryonet.vec'\n",
      "[Errno 2] No such file or directory: '../data/embeddings/terms-count/commons-classscan.vec'\n",
      "[Errno 2] No such file or directory: '../data/embeddings/terms-count/gs-core.vec'\n",
      "[Errno 2] No such file or directory: '../data/embeddings/terms-count/jgraphx.vec'\n",
      "[Errno 2] No such file or directory: '../data/embeddings/terms-count/lucene-solr.vec'\n",
      "[Errno 2] No such file or directory: '../data/embeddings/terms-count/xmlunit.vec'\n",
      "[Errno 2] No such file or directory: '../data/embeddings/terms-count/jgit.vec'\n",
      "[Errno 2] No such file or directory: '../data/embeddings/terms-count/webprotege.vec'\n",
      "[Errno 2] No such file or directory: '../data/embeddings/terms-count/nutch.apache.org.vec'\n"
     ]
    }
   ],
   "source": [
    "from textblob import  Word\n",
    "\n",
    "data = defaultdict(str)\n",
    "for project in labels:\n",
    "    category = mapping[labels[project]]\n",
    "    if category == 'NA':\n",
    "        category = 'Miscellaneous'\n",
    "\n",
    "    try:\n",
    "        terms_count = load_embeddings(os.path.join(terms_path, f\"{project}.vec\"))\n",
    "        terms = []\n",
    "        for x, y in terms_count.items():\n",
    "            lemma = Word(x).lemmatize()\n",
    "            if lemma not in stopwords and len(x) > 1 and x not in stopwords:\n",
    "                tokens = [lemma] * int(y[0])\n",
    "                terms.extend(tokens)\n",
    "        #terms = [[Word(x).lemmatize()] * int(y[0]) for x, y in terms_count.items() if Word(x).lemmatize() not in stopwords and len(x) > 1]\n",
    "        data[category] += ' ' + \" \".join(terms)\n",
    "    except Exception as e:\n",
    "        print(e)"
   ],
   "metadata": {
    "collapsed": false,
    "pycharm": {
     "name": "#%%\n"
    }
   }
  },
  {
   "cell_type": "code",
   "execution_count": 22,
   "outputs": [],
   "source": [
    "lab = list(data.keys())\n",
    "text = [data[k] for k in lab]"
   ],
   "metadata": {
    "collapsed": false,
    "pycharm": {
     "name": "#%%\n"
    }
   }
  },
  {
   "cell_type": "code",
   "execution_count": 23,
   "outputs": [],
   "source": [
    "import pandas\n",
    "\n",
    "df = pandas.DataFrame({'text': text, 'label': lab})\n",
    "#df = df[~df['label'].isin(['NA', 'Miscellaneous'])]\n",
    "\n",
    "y = df['label'].to_frame()\n",
    "X = df['text']\n"
   ],
   "metadata": {
    "collapsed": false,
    "pycharm": {
     "name": "#%%\n"
    }
   }
  },
  {
   "cell_type": "code",
   "execution_count": 23,
   "outputs": [],
   "source": [],
   "metadata": {
    "collapsed": false,
    "pycharm": {
     "name": "#%%\n"
    }
   }
  },
  {
   "cell_type": "code",
   "execution_count": 24,
   "outputs": [],
   "source": [
    "from sklearn.feature_extraction.text import TfidfVectorizer\n",
    "\n",
    "vectorizer = TfidfVectorizer(max_features=1000, max_df=max_df, min_df=min_df)\n",
    "#vectorizer.fit(X)\n",
    "X_mat = vectorizer.fit_transform(X)"
   ],
   "metadata": {
    "collapsed": false,
    "pycharm": {
     "name": "#%%\n"
    }
   }
  },
  {
   "cell_type": "code",
   "execution_count": 25,
   "outputs": [
    {
     "data": {
      "text/plain": "(13, 1000)"
     },
     "execution_count": 25,
     "metadata": {},
     "output_type": "execute_result"
    }
   ],
   "source": [
    "X_mat.shape"
   ],
   "metadata": {
    "collapsed": false,
    "pycharm": {
     "name": "#%%\n"
    }
   }
  },
  {
   "cell_type": "code",
   "execution_count": 26,
   "outputs": [],
   "source": [
    "from sklearn import metrics\n",
    "\n",
    "simil = metrics.pairwise.cosine_similarity(X_mat)"
   ],
   "metadata": {
    "collapsed": false,
    "pycharm": {
     "name": "#%%\n"
    }
   }
  },
  {
   "cell_type": "code",
   "execution_count": 27,
   "outputs": [],
   "source": [
    "import numpy as np\n",
    "import copy\n",
    "\n",
    "simill = copy.deepcopy(simil)\n"
   ],
   "metadata": {
    "collapsed": false,
    "pycharm": {
     "name": "#%%\n"
    }
   }
  },
  {
   "cell_type": "code",
   "execution_count": 28,
   "outputs": [],
   "source": [
    "similarities = simil[np.triu_indices(simil.shape[0], k=1)]"
   ],
   "metadata": {
    "collapsed": false,
    "pycharm": {
     "name": "#%%\n"
    }
   }
  },
  {
   "cell_type": "code",
   "execution_count": 29,
   "outputs": [
    {
     "name": "stderr",
     "output_type": "stream",
     "text": [
      "/home/sasce/anaconda3/envs/gML/lib/python3.8/site-packages/seaborn/distributions.py:2557: FutureWarning: `distplot` is a deprecated function and will be removed in a future version. Please adapt your code to use either `displot` (a figure-level function with similar flexibility) or `kdeplot` (an axes-level function for kernel density plots).\n",
      "  warnings.warn(msg, FutureWarning)\n",
      "/home/sasce/anaconda3/envs/gML/lib/python3.8/site-packages/seaborn/distributions.py:2056: FutureWarning: The `axis` variable is no longer used and will be removed. Instead, assign variables directly to `x` or `y`.\n",
      "  warnings.warn(msg, FutureWarning)\n",
      "/home/sasce/anaconda3/envs/gML/lib/python3.8/site-packages/seaborn/distributions.py:2557: FutureWarning: `distplot` is a deprecated function and will be removed in a future version. Please adapt your code to use either `displot` (a figure-level function with similar flexibility) or `kdeplot` (an axes-level function for kernel density plots).\n",
      "  warnings.warn(msg, FutureWarning)\n",
      "/home/sasce/anaconda3/envs/gML/lib/python3.8/site-packages/seaborn/distributions.py:2056: FutureWarning: The `axis` variable is no longer used and will be removed. Instead, assign variables directly to `x` or `y`.\n",
      "  warnings.warn(msg, FutureWarning)\n"
     ]
    },
    {
     "data": {
      "text/plain": "<matplotlib.axes._subplots.AxesSubplot at 0x7f50b511ae80>"
     },
     "execution_count": 29,
     "metadata": {},
     "output_type": "execute_result"
    },
    {
     "data": {
      "text/plain": "<Figure size 432x288 with 1 Axes>",
      "image/png": "[encoded data removed]"
     },
     "metadata": {
      "needs_background": "light"
     },
     "output_type": "display_data"
    }
   ],
   "source": [
    "import seaborn as sns\n",
    "\n",
    "sns.distplot(similarities_3rd, hist=False, rug=True)\n",
    "sns.distplot(similarities, hist=False, rug=True)\n"
   ],
   "metadata": {
    "collapsed": false,
    "pycharm": {
     "name": "#%%\n"
    }
   }
  },
  {
   "cell_type": "code",
   "execution_count": 30,
   "outputs": [],
   "source": [
    "m1 = np.mean(similarities)\n",
    "s1 = np.std(similarities)\n",
    "\n",
    "m3 = np.mean(similarities_3rd)\n",
    "s3 = np.std(similarities_3rd)"
   ],
   "metadata": {
    "collapsed": false,
    "pycharm": {
     "name": "#%%\n"
    }
   }
  },
  {
   "cell_type": "code",
   "execution_count": 38,
   "outputs": [
    {
     "name": "stdout",
     "output_type": "stream",
     "text": [
      "0.0210\\pm0.0290\n",
      "0.0520\\pm0.0677\n"
     ]
    }
   ],
   "source": [
    "print(f'{m1:.4f}\\pm{s1:.4f}')\n",
    "print(f'{m3:.4f}\\pm{s3:.4f}')"
   ],
   "metadata": {
    "collapsed": false,
    "pycharm": {
     "name": "#%%\n"
    }
   }
  },
  {
   "cell_type": "code",
   "execution_count": null,
   "outputs": [],
   "source": [],
   "metadata": {
    "collapsed": false,
    "pycharm": {
     "name": "#%%\n"
    }
   }
  }
 ],
 "metadata": {
  "kernelspec": {
   "display_name": "Python 3",
   "language": "python",
   "name": "python3"
  },
  "language_info": {
   "codemirror_mode": {
    "name": "ipython",
    "version": 2
   },
   "file_extension": ".py",
   "mimetype": "text/x-python",
   "name": "python",
   "nbconvert_exporter": "python",
   "pygments_lexer": "ipython2",
   "version": "2.7.6"
  }
 },
 "nbformat": 4,
 "nbformat_minor": 0
}