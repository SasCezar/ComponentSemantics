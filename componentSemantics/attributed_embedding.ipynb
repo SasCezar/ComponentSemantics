{
 "cells": [
  {
   "cell_type": "code",
   "execution_count": 17,
   "metadata": {
    "collapsed": true
   },
   "outputs": [],
   "source": [
    "import glob\n",
    "import os\n",
    "from csio.graph_load import ArcanGraphLoader\n",
    "project = \"avro\"\n",
    "in_path = \"../data/arcanOutput\"\n",
    "\n",
    "\n",
    "filepath = glob.glob(os.path.join(in_path, project, \"dep-graph-*.graphml\"))[0]"
   ]
  },
  {
   "cell_type": "code",
   "execution_count": 18,
   "outputs": [],
   "source": [
    "graph = ArcanGraphLoader().load(filepath)"
   ],
   "metadata": {
    "collapsed": false,
    "pycharm": {
     "name": "#%%\n"
    }
   }
  },
  {
   "cell_type": "code",
   "execution_count": 19,
   "outputs": [],
   "source": [
    "import numpy\n",
    "\n",
    "def load_embeddings(path):\n",
    "    embeddings = {}\n",
    "    with open(path, \"rt\", encoding=\"utf8\") as inf:\n",
    "        for line in inf:\n",
    "            splitLines = line.split()\n",
    "            word = splitLines[0]\n",
    "            embedding = numpy.array([float(value) for value in splitLines[1:]])\n",
    "            embeddings[word] = embedding\n",
    "\n",
    "    return embeddings"
   ],
   "metadata": {
    "collapsed": false,
    "pycharm": {
     "name": "#%%\n"
    }
   }
  },
  {
   "cell_type": "code",
   "execution_count": 20,
   "outputs": [],
   "source": [
    "embedding_method = \"fastText\"\n",
    "embeddings_path = f\"../data/embeddings/{embedding_method}/{project}.vec\"\n",
    "\n",
    "embeddings = load_embeddings(embeddings_path)"
   ],
   "metadata": {
    "collapsed": false,
    "pycharm": {
     "name": "#%%\n"
    }
   }
  },
  {
   "cell_type": "code",
   "execution_count": 21,
   "outputs": [],
   "source": [
    "def dict_to_array(graph, embeddings):\n",
    "    doc_emb = []\n",
    "    for node in graph.vs:\n",
    "        name = node[\"filePathReal\"]\n",
    "        if name == \".\":\n",
    "            continue\n",
    "\n",
    "        node_features = numpy.array(embeddings[name]).astype(numpy.float)\n",
    "        doc_emb.append(node_features)\n",
    "\n",
    "    return doc_emb"
   ],
   "metadata": {
    "collapsed": false,
    "pycharm": {
     "name": "#%%\n"
    }
   }
  },
  {
   "cell_type": "code",
   "execution_count": 22,
   "outputs": [],
   "source": [
    "from sklearn.cluster import DBSCAN, KMeans\n",
    "from sklearn.decomposition import PCA\n",
    "\n",
    "X = numpy.array(dict_to_array(graph, embeddings))\n",
    "#pca = PCA(n_components=20)\n",
    "#X_red = pca.fit_transform(X)\n",
    "\n",
    "#z = DBSCAN(min_samples=4).fit_predict(X_red)\n"
   ],
   "metadata": {
    "collapsed": false,
    "pycharm": {
     "name": "#%%\n"
    }
   }
  },
  {
   "cell_type": "code",
   "execution_count": 23,
   "outputs": [],
   "source": [
    "partitions = []\n",
    "for i in range(7, 13):\n",
    "    clustering = KMeans(n_clusters=10).fit(X)\n",
    "    partitions.append(clustering.labels_)"
   ],
   "metadata": {
    "collapsed": false,
    "pycharm": {
     "name": "#%%\n"
    }
   }
  },
  {
   "cell_type": "code",
   "execution_count": 24,
   "outputs": [
    {
     "ename": "KeyError",
     "evalue": "'G'",
     "output_type": "error",
     "traceback": [
      "\u001B[0;31m---------------------------------------------------------------------------\u001B[0m",
      "\u001B[0;31mKeyError\u001B[0m                                  Traceback (most recent call last)",
      "\u001B[0;32m<ipython-input-24-a8440e9356a6>\u001B[0m in \u001B[0;36m<module>\u001B[0;34m\u001B[0m\n\u001B[1;32m     12\u001B[0m     \u001B[0;32mfor\u001B[0m \u001B[0mnode\u001B[0m \u001B[0;32min\u001B[0m \u001B[0mg_attr\u001B[0m\u001B[0;34m.\u001B[0m\u001B[0mnodes\u001B[0m\u001B[0;34m(\u001B[0m\u001B[0;34m)\u001B[0m\u001B[0;34m:\u001B[0m\u001B[0;34m\u001B[0m\u001B[0;34m\u001B[0m\u001B[0m\n\u001B[1;32m     13\u001B[0m         \u001B[0mlabels\u001B[0m\u001B[0;34m[\u001B[0m\u001B[0mnode\u001B[0m\u001B[0;34m]\u001B[0m\u001B[0;34m=\u001B[0m\u001B[0;34m{\u001B[0m\u001B[0;34m\"l1\"\u001B[0m\u001B[0;34m:\u001B[0m \u001B[0mrandom\u001B[0m\u001B[0;34m.\u001B[0m\u001B[0mchoice\u001B[0m\u001B[0;34m(\u001B[0m\u001B[0ml2\u001B[0m\u001B[0;34m)\u001B[0m\u001B[0;34m}\u001B[0m\u001B[0;31m#, \"l2\":random.choice(l2)}\u001B[0m\u001B[0;34m\u001B[0m\u001B[0;34m\u001B[0m\u001B[0m\n\u001B[0;32m---> 14\u001B[0;31m     \u001B[0mcommunities\u001B[0m \u001B[0;34m=\u001B[0m \u001B[0meva\u001B[0m\u001B[0;34m(\u001B[0m\u001B[0mg_attr\u001B[0m\u001B[0;34m,\u001B[0m \u001B[0mlabels\u001B[0m\u001B[0;34m,\u001B[0m \u001B[0malpha\u001B[0m\u001B[0;34m=\u001B[0m\u001B[0;36m0.8\u001B[0m\u001B[0;34m)\u001B[0m\u001B[0;34m\u001B[0m\u001B[0;34m\u001B[0m\u001B[0m\n\u001B[0m\u001B[1;32m     15\u001B[0m     \u001B[0mprint\u001B[0m\u001B[0;34m(\u001B[0m\u001B[0mi\u001B[0m\u001B[0;34m,\u001B[0m \u001B[0mlen\u001B[0m\u001B[0;34m(\u001B[0m\u001B[0mcommunities\u001B[0m\u001B[0;34m.\u001B[0m\u001B[0mcommunities\u001B[0m\u001B[0;34m)\u001B[0m\u001B[0;34m)\u001B[0m\u001B[0;34m\u001B[0m\u001B[0;34m\u001B[0m\u001B[0m\n",
      "\u001B[0;32m~/anaconda3/envs/gML/lib/python3.8/site-packages/cdlib/algorithms/attribute_clustering.py\u001B[0m in \u001B[0;36meva\u001B[0;34m(g_original, labels, weight, resolution, randomize, alpha)\u001B[0m\n\u001B[1;32m     51\u001B[0m     \u001B[0mnx\u001B[0m\u001B[0;34m.\u001B[0m\u001B[0mset_node_attributes\u001B[0m\u001B[0;34m(\u001B[0m\u001B[0mg\u001B[0m\u001B[0;34m,\u001B[0m \u001B[0mlabels\u001B[0m\u001B[0;34m)\u001B[0m\u001B[0;34m\u001B[0m\u001B[0;34m\u001B[0m\u001B[0m\n\u001B[1;32m     52\u001B[0m \u001B[0;34m\u001B[0m\u001B[0m\n\u001B[0;32m---> 53\u001B[0;31m     \u001B[0mcoms\u001B[0m\u001B[0;34m,\u001B[0m \u001B[0mcoms_labels\u001B[0m \u001B[0;34m=\u001B[0m \u001B[0mEva\u001B[0m\u001B[0;34m.\u001B[0m\u001B[0meva_best_partition\u001B[0m\u001B[0;34m(\u001B[0m\u001B[0mg\u001B[0m\u001B[0;34m,\u001B[0m \u001B[0mweight\u001B[0m\u001B[0;34m=\u001B[0m\u001B[0mweight\u001B[0m\u001B[0;34m,\u001B[0m \u001B[0mresolution\u001B[0m\u001B[0;34m=\u001B[0m\u001B[0mresolution\u001B[0m\u001B[0;34m,\u001B[0m \u001B[0mrandomize\u001B[0m\u001B[0;34m=\u001B[0m\u001B[0mrandomize\u001B[0m\u001B[0;34m,\u001B[0m \u001B[0malpha\u001B[0m\u001B[0;34m=\u001B[0m\u001B[0malpha\u001B[0m\u001B[0;34m)\u001B[0m\u001B[0;34m\u001B[0m\u001B[0;34m\u001B[0m\u001B[0m\n\u001B[0m\u001B[1;32m     54\u001B[0m \u001B[0;34m\u001B[0m\u001B[0m\n\u001B[1;32m     55\u001B[0m     \u001B[0;31m# Reshaping the results\u001B[0m\u001B[0;34m\u001B[0m\u001B[0;34m\u001B[0m\u001B[0;34m\u001B[0m\u001B[0m\n",
      "\u001B[0;32m~/anaconda3/envs/gML/lib/python3.8/site-packages/Eva/eva.py\u001B[0m in \u001B[0;36meva_best_partition\u001B[0;34m(graph, partition, weight, resolution, randomize, random_state, alpha)\u001B[0m\n\u001B[1;32m    216\u001B[0m         \u001B[0;32mraise\u001B[0m \u001B[0mValueError\u001B[0m\u001B[0;34m(\u001B[0m\u001B[0;34m\"Alpha must be positive floating point numbers in [0,1]\"\u001B[0m\u001B[0;34m)\u001B[0m\u001B[0;34m\u001B[0m\u001B[0;34m\u001B[0m\u001B[0m\n\u001B[1;32m    217\u001B[0m \u001B[0;34m\u001B[0m\u001B[0m\n\u001B[0;32m--> 218\u001B[0;31m     dendo, labels = generate_dendrogram(graph,\n\u001B[0m\u001B[1;32m    219\u001B[0m                                         \u001B[0mpartition\u001B[0m\u001B[0;34m,\u001B[0m\u001B[0;34m\u001B[0m\u001B[0;34m\u001B[0m\u001B[0m\n\u001B[1;32m    220\u001B[0m                                         \u001B[0mweight\u001B[0m\u001B[0;34m,\u001B[0m\u001B[0;34m\u001B[0m\u001B[0;34m\u001B[0m\u001B[0m\n",
      "\u001B[0;32m~/anaconda3/envs/gML/lib/python3.8/site-packages/Eva/eva.py\u001B[0m in \u001B[0;36mgenerate_dendrogram\u001B[0;34m(graph, part_init, weight, resolution, randomize, random_state, alpha)\u001B[0m\n\u001B[1;32m    312\u001B[0m     \u001B[0mstatus\u001B[0m\u001B[0;34m.\u001B[0m\u001B[0minit\u001B[0m\u001B[0;34m(\u001B[0m\u001B[0mcurrent_graph\u001B[0m\u001B[0;34m,\u001B[0m \u001B[0mweight\u001B[0m\u001B[0;34m,\u001B[0m \u001B[0mpart_init\u001B[0m\u001B[0;34m)\u001B[0m\u001B[0;34m\u001B[0m\u001B[0;34m\u001B[0m\u001B[0m\n\u001B[1;32m    313\u001B[0m     \u001B[0mstatus_list\u001B[0m \u001B[0;34m=\u001B[0m \u001B[0mlist\u001B[0m\u001B[0;34m(\u001B[0m\u001B[0;34m)\u001B[0m\u001B[0;34m\u001B[0m\u001B[0;34m\u001B[0m\u001B[0m\n\u001B[0;32m--> 314\u001B[0;31m     \u001B[0m__one_level\u001B[0m\u001B[0;34m(\u001B[0m\u001B[0mcurrent_graph\u001B[0m\u001B[0;34m,\u001B[0m \u001B[0mstatus\u001B[0m\u001B[0;34m,\u001B[0m \u001B[0mweight\u001B[0m\u001B[0;34m,\u001B[0m \u001B[0mresolution\u001B[0m\u001B[0;34m,\u001B[0m \u001B[0mrandom_state\u001B[0m\u001B[0;34m,\u001B[0m \u001B[0malpha\u001B[0m\u001B[0;34m)\u001B[0m\u001B[0;34m\u001B[0m\u001B[0;34m\u001B[0m\u001B[0m\n\u001B[0m\u001B[1;32m    315\u001B[0m     \u001B[0mnew_mod\u001B[0m \u001B[0;34m=\u001B[0m \u001B[0m__modularity\u001B[0m\u001B[0;34m(\u001B[0m\u001B[0mstatus\u001B[0m\u001B[0;34m)\u001B[0m\u001B[0;34m\u001B[0m\u001B[0;34m\u001B[0m\u001B[0m\n\u001B[1;32m    316\u001B[0m     \u001B[0mnew_purity\u001B[0m \u001B[0;34m=\u001B[0m \u001B[0m__overall_purity\u001B[0m\u001B[0;34m(\u001B[0m\u001B[0mstatus\u001B[0m\u001B[0;34m)\u001B[0m\u001B[0;34m\u001B[0m\u001B[0;34m\u001B[0m\u001B[0m\n",
      "\u001B[0;32m~/anaconda3/envs/gML/lib/python3.8/site-packages/Eva/eva.py\u001B[0m in \u001B[0;36m__one_level\u001B[0;34m(graph, status, weight_key, resolution, random_state, alpha)\u001B[0m\n\u001B[1;32m    433\u001B[0m             \u001B[0mremove_cost\u001B[0m \u001B[0;34m=\u001B[0m \u001B[0;34m-\u001B[0m \u001B[0mresolution\u001B[0m \u001B[0;34m*\u001B[0m \u001B[0mneigh_communities\u001B[0m\u001B[0;34m.\u001B[0m\u001B[0mget\u001B[0m\u001B[0;34m(\u001B[0m\u001B[0mcom_node\u001B[0m\u001B[0;34m,\u001B[0m \u001B[0;36m0\u001B[0m\u001B[0;34m)\u001B[0m \u001B[0;34m+\u001B[0m\u001B[0;31m \u001B[0m\u001B[0;31m\\\u001B[0m\u001B[0;34m\u001B[0m\u001B[0;34m\u001B[0m\u001B[0m\n\u001B[1;32m    434\u001B[0m                           \u001B[0;34m(\u001B[0m\u001B[0mstatus\u001B[0m\u001B[0;34m.\u001B[0m\u001B[0mdegrees\u001B[0m\u001B[0;34m.\u001B[0m\u001B[0mget\u001B[0m\u001B[0;34m(\u001B[0m\u001B[0mcom_node\u001B[0m\u001B[0;34m,\u001B[0m \u001B[0;36m0.\u001B[0m\u001B[0;34m)\u001B[0m \u001B[0;34m-\u001B[0m \u001B[0mstatus\u001B[0m\u001B[0;34m.\u001B[0m\u001B[0mgdegrees\u001B[0m\u001B[0;34m.\u001B[0m\u001B[0mget\u001B[0m\u001B[0;34m(\u001B[0m\u001B[0mnode\u001B[0m\u001B[0;34m,\u001B[0m \u001B[0;36m0.\u001B[0m\u001B[0;34m)\u001B[0m\u001B[0;34m)\u001B[0m \u001B[0;34m*\u001B[0m \u001B[0mdegc_totw\u001B[0m\u001B[0;34m\u001B[0m\u001B[0;34m\u001B[0m\u001B[0m\n\u001B[0;32m--> 435\u001B[0;31m             __remove(node, com_node,\n\u001B[0m\u001B[1;32m    436\u001B[0m                      neigh_communities.get(com_node, 0.), status)\n\u001B[1;32m    437\u001B[0m \u001B[0;34m\u001B[0m\u001B[0m\n",
      "\u001B[0;32m~/anaconda3/envs/gML/lib/python3.8/site-packages/Eva/eva.py\u001B[0m in \u001B[0;36m__remove\u001B[0;34m(node, com, weight, status)\u001B[0m\n\u001B[1;32m    563\u001B[0m             \u001B[0;32mfor\u001B[0m \u001B[0mk\u001B[0m\u001B[0;34m,\u001B[0m \u001B[0mvn\u001B[0m \u001B[0;32min\u001B[0m \u001B[0mstatus\u001B[0m\u001B[0;34m.\u001B[0m\u001B[0mattr\u001B[0m\u001B[0;34m[\u001B[0m\u001B[0mnode\u001B[0m\u001B[0;34m]\u001B[0m\u001B[0;34m[\u001B[0m\u001B[0mlabel\u001B[0m\u001B[0;34m]\u001B[0m\u001B[0;34m.\u001B[0m\u001B[0mitems\u001B[0m\u001B[0;34m(\u001B[0m\u001B[0;34m)\u001B[0m\u001B[0;34m:\u001B[0m\u001B[0;34m\u001B[0m\u001B[0;34m\u001B[0m\u001B[0m\n\u001B[1;32m    564\u001B[0m                 \u001B[0;32mif\u001B[0m \u001B[0mvn\u001B[0m \u001B[0;34m>\u001B[0m \u001B[0;36m0\u001B[0m\u001B[0;34m:\u001B[0m\u001B[0;34m\u001B[0m\u001B[0;34m\u001B[0m\u001B[0m\n\u001B[0;32m--> 565\u001B[0;31m                     \u001B[0mstatus\u001B[0m\u001B[0;34m.\u001B[0m\u001B[0mcom_attr\u001B[0m\u001B[0;34m[\u001B[0m\u001B[0mcom\u001B[0m\u001B[0;34m]\u001B[0m\u001B[0;34m[\u001B[0m\u001B[0mlabel\u001B[0m\u001B[0;34m]\u001B[0m\u001B[0;34m[\u001B[0m\u001B[0mk\u001B[0m\u001B[0;34m]\u001B[0m \u001B[0;34m-=\u001B[0m \u001B[0mstatus\u001B[0m\u001B[0;34m.\u001B[0m\u001B[0mattr\u001B[0m\u001B[0;34m[\u001B[0m\u001B[0mnode\u001B[0m\u001B[0;34m]\u001B[0m\u001B[0;34m[\u001B[0m\u001B[0mlabel\u001B[0m\u001B[0;34m]\u001B[0m\u001B[0;34m[\u001B[0m\u001B[0mk\u001B[0m\u001B[0;34m]\u001B[0m\u001B[0;34m\u001B[0m\u001B[0;34m\u001B[0m\u001B[0m\n\u001B[0m\u001B[1;32m    566\u001B[0m \u001B[0;34m\u001B[0m\u001B[0m\n\u001B[1;32m    567\u001B[0m \u001B[0;34m\u001B[0m\u001B[0m\n",
      "\u001B[0;31mKeyError\u001B[0m: 'G'"
     ]
    }
   ],
   "source": [
    "from cdlib.algorithms import eva\n",
    "import networkx as nx\n",
    "import random\n",
    "#l1 = ['A', 'B', 'C', 'D']\n",
    "l2 = [\"E\", \"F\", \"G\"]\n",
    "#g_attr = nx.barabasi_albert_graph(100, 5)\n",
    "\n",
    "for i, part in enumerate(partitions):\n",
    "    A = graph.get_edgelist()\n",
    "    g_attr = nx.Graph(A)\n",
    "    labels=dict()\n",
    "    for node in g_attr.nodes():\n",
    "        labels[node]={\"l1\": random.choice(l2)}#, \"l2\":random.choice(l2)}\n",
    "    communities = eva(g_attr, labels, alpha=0.8)\n",
    "    print(i, len(communities.communities))"
   ],
   "metadata": {
    "collapsed": false,
    "pycharm": {
     "name": "#%%\n"
    }
   }
  }
 ],
 "metadata": {
  "kernelspec": {
   "display_name": "Python 3",
   "language": "python",
   "name": "python3"
  },
  "language_info": {
   "codemirror_mode": {
    "name": "ipython",
    "version": 2
   },
   "file_extension": ".py",
   "mimetype": "text/x-python",
   "name": "python",
   "nbconvert_exporter": "python",
   "pygments_lexer": "ipython2",
   "version": "2.7.6"
  }
 },
 "nbformat": 4,
 "nbformat_minor": 0
}