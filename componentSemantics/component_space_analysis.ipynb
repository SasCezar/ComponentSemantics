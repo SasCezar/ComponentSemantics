{
 "cells": [
  {
   "cell_type": "code",
   "execution_count": 1,
   "metadata": {
    "collapsed": true
   },
   "outputs": [],
   "source": [
    "from gensim.models import KeyedVectors"
   ]
  },
  {
   "cell_type": "code",
   "execution_count": 2,
   "outputs": [],
   "source": [
    "w2v_code2vec = KeyedVectors.load_word2vec_format('../data/components_embeddings/proj_infomap-code2vec.vec')"
   ],
   "metadata": {
    "collapsed": false,
    "pycharm": {
     "name": "#%%\n"
    }
   }
  },
  {
   "cell_type": "code",
   "execution_count": 3,
   "outputs": [
    {
     "data": {
      "text/plain": "[('logstash', 0.8926457166671753),\n ('jacop', 0.8793194890022278),\n ('jmonkeyengine', 0.8594093322753906),\n ('activej', 0.8555209636688232),\n ('permazen', 0.854244589805603),\n ('drill', 0.8519116640090942),\n ('presto', 0.8514980673789978),\n ('zipkin', 0.8441914319992065),\n ('glowroot', 0.8436815738677979),\n ('speedment', 0.8419654369354248)]"
     },
     "execution_count": 3,
     "metadata": {},
     "output_type": "execute_result"
    }
   ],
   "source": [
    "w2v_code2vec.most_similar('deeplearning4j')"
   ],
   "metadata": {
    "collapsed": false,
    "pycharm": {
     "name": "#%%\n"
    }
   }
  },
  {
   "cell_type": "code",
   "execution_count": 13,
   "outputs": [],
   "source": [
    "w2v_code2vec_multi = KeyedVectors.load_word2vec_format('../data/components_embeddings/proj_infomap-code2vec-multi.vec')"
   ],
   "metadata": {
    "collapsed": false,
    "pycharm": {
     "name": "#%%\n"
    }
   }
  },
  {
   "cell_type": "code",
   "execution_count": 15,
   "outputs": [
    {
     "data": {
      "text/plain": "[('SimpleFlatMapper', 0.9146631360054016),\n ('genson', 0.8878117203712463),\n ('mybatis-3', 0.869081974029541),\n ('commons-beanutils', 0.8582847118377686),\n ('commons-lang', 0.8499178886413574),\n ('feign', 0.837111234664917),\n ('gson', 0.835770845413208),\n ('LoganSquare', 0.8335804343223572),\n ('java', 0.8333248496055603),\n ('selma', 0.8300716876983643)]"
     },
     "execution_count": 15,
     "metadata": {},
     "output_type": "execute_result"
    }
   ],
   "source": [
    "w2v_code2vec_multi.most_similar('sql2o')\n"
   ],
   "metadata": {
    "collapsed": false,
    "pycharm": {
     "name": "#%%\n"
    }
   }
  },
  {
   "cell_type": "code",
   "execution_count": 10,
   "outputs": [],
   "source": [
    "w2v_code2vec_multi_stop = KeyedVectors.load_word2vec_format('../data/components_embeddings/proj_infomap-code2vec-multi-stop.vec')"
   ],
   "metadata": {
    "collapsed": false,
    "pycharm": {
     "name": "#%%\n"
    }
   }
  },
  {
   "cell_type": "code",
   "execution_count": 16,
   "outputs": [
    {
     "data": {
      "text/plain": "[('SimpleFlatMapper', 0.9118413925170898),\n ('genson', 0.8842399716377258),\n ('mybatis-3', 0.8581172227859497),\n ('commons-beanutils', 0.8508679270744324),\n ('commons-lang', 0.8374869227409363),\n ('LoganSquare', 0.8296871185302734),\n ('feign', 0.8290736675262451),\n ('gson', 0.8239482641220093),\n ('selma', 0.8196296691894531),\n ('zipkin', 0.8152704238891602)]"
     },
     "execution_count": 16,
     "metadata": {},
     "output_type": "execute_result"
    }
   ],
   "source": [
    "w2v_code2vec_multi_stop.most_similar('sql2o')\n"
   ],
   "metadata": {
    "collapsed": false,
    "pycharm": {
     "name": "#%%\n"
    }
   }
  },
  {
   "cell_type": "code",
   "execution_count": 17,
   "outputs": [],
   "source": [
    "w2v_fastText = KeyedVectors.load_word2vec_format('../data/components_embeddings/proj_infomap-fastText.vec')"
   ],
   "metadata": {
    "collapsed": false,
    "pycharm": {
     "name": "#%%\n"
    }
   }
  },
  {
   "cell_type": "code",
   "execution_count": 23,
   "outputs": [
    {
     "data": {
      "text/plain": "[('SimpleFlatMapper', 0.9821116328239441),\n ('mybatis-3', 0.9811203479766846),\n ('calcite', 0.980814516544342),\n ('logstash', 0.9807043075561523),\n ('geotools', 0.980522871017456),\n ('querydsl', 0.9801862239837646),\n ('jOOQ', 0.9800746440887451),\n ('spring-framework', 0.9797653555870056),\n ('exist', 0.979633629322052),\n ('tinylog', 0.9793291687965393)]"
     },
     "execution_count": 23,
     "metadata": {},
     "output_type": "execute_result"
    }
   ],
   "source": [
    "w2v_fastText.most_similar('sql2o', topn=10)"
   ],
   "metadata": {
    "collapsed": false,
    "pycharm": {
     "name": "#%%\n"
    }
   }
  },
  {
   "cell_type": "code",
   "execution_count": 24,
   "outputs": [],
   "source": [
    "w2v_fastText_multi_stop = KeyedVectors.load_word2vec_format('../data/components_embeddings/proj_infomap-fastText-multi-stop.vec')"
   ],
   "metadata": {
    "collapsed": false,
    "pycharm": {
     "name": "#%%\n"
    }
   }
  },
  {
   "cell_type": "code",
   "execution_count": 25,
   "outputs": [
    {
     "data": {
      "text/plain": "[('logstash', 0.9800887703895569),\n ('SimpleFlatMapper', 0.9794686436653137),\n ('modality', 0.9792330861091614),\n ('javassist', 0.9792060852050781),\n ('mybatis-3', 0.9790579080581665),\n ('geotools', 0.9789963960647583),\n ('drill', 0.9785271883010864),\n ('druid', 0.9784684181213379),\n ('exist', 0.9784533977508545),\n ('manifold', 0.9784107208251953)]"
     },
     "execution_count": 25,
     "metadata": {},
     "output_type": "execute_result"
    }
   ],
   "source": [
    "w2v_fastText_multi_stop.most_similar('sql2o', topn=10)"
   ],
   "metadata": {
    "collapsed": false,
    "pycharm": {
     "name": "#%%\n"
    }
   }
  },
  {
   "cell_type": "code",
   "execution_count": 27,
   "outputs": [],
   "source": [
    "w2v_package = KeyedVectors.load_word2vec_format('../data/components_embeddings/proj_infomap-package.vec')"
   ],
   "metadata": {
    "collapsed": false,
    "pycharm": {
     "name": "#%%\n"
    }
   }
  },
  {
   "cell_type": "code",
   "execution_count": 28,
   "outputs": [
    {
     "data": {
      "text/plain": "[('geotools', 0.9706461429595947),\n ('JCTools', 0.9639329314231873),\n ('graphhopper', 0.9628857970237732),\n ('rest.li', 0.9622758626937866),\n ('stagemonitor', 0.9610816240310669),\n ('weka-3.8', 0.9593304395675659),\n ('permazen', 0.956873893737793),\n ('presto', 0.955422043800354),\n ('bc-java', 0.9551830291748047),\n ('mockserver', 0.9544898271560669)]"
     },
     "execution_count": 28,
     "metadata": {},
     "output_type": "execute_result"
    }
   ],
   "source": [
    "w2v_package.most_similar('deeplearning4j')"
   ],
   "metadata": {
    "collapsed": false,
    "pycharm": {
     "name": "#%%\n"
    }
   }
  },
  {
   "cell_type": "code",
   "execution_count": 45,
   "outputs": [],
   "source": [
    "\n",
    "w2v_code2vec_all = KeyedVectors.load_word2vec_format('../data/models/code2vec/token_vecs.txt')"
   ],
   "metadata": {
    "collapsed": false,
    "pycharm": {
     "name": "#%%\n"
    }
   }
  },
  {
   "cell_type": "code",
   "execution_count": 46,
   "outputs": [],
   "source": [
    "words = []\n",
    "vecs = []\n",
    "for word in w2v_code2vec.vocab:\n",
    "    words.append(f'PROJ-{word}')\n",
    "    vecs.append(w2v_code2vec[word])\n",
    "\n",
    "w2v_code2vec_all.add(words, vecs)"
   ],
   "metadata": {
    "collapsed": false,
    "pycharm": {
     "name": "#%%\n"
    }
   }
  },
  {
   "cell_type": "code",
   "execution_count": 47,
   "outputs": [
    {
     "data": {
      "text/plain": "[('PROJ-SimpleFlatMapper', 0.9146631360054016),\n ('PROJ-genson', 0.8878117203712463),\n ('PROJ-mybatis-3', 0.869081974029541),\n ('PROJ-commons-beanutils', 0.8582847118377686),\n ('PROJ-commons-lang', 0.8499178886413574),\n ('PROJ-feign', 0.837111234664917),\n ('PROJ-gson', 0.835770845413208),\n ('PROJ-LoganSquare', 0.8335804343223572),\n ('PROJ-java', 0.8333248496055603),\n ('PROJ-selma', 0.8300716876983643),\n ('PROJ-commons-jexl', 0.8284368515014648),\n ('PROJ-zipkin', 0.8274993896484375),\n ('PROJ-h2database', 0.8257461786270142),\n ('PROJ-jdbi', 0.8255512714385986),\n ('PROJ-manifold', 0.8194659948348999),\n ('PROJ-modality', 0.8140082359313965),\n ('PROJ-sis', 0.8123093247413635),\n ('PROJ-xmlbeam', 0.8119918704032898),\n ('PROJ-karate', 0.8119416236877441),\n ('PROJ-docx4j', 0.8112562894821167),\n ('PROJ-pojo-tester', 0.8087872862815857),\n ('PROJ-activej', 0.8073519468307495),\n ('PROJ-blade', 0.8069677948951721),\n ('PROJ-morpheus-core', 0.8067159652709961),\n ('PROJ-speedment', 0.8064318895339966),\n ('PROJ-JGiven', 0.8039007782936096),\n ('PROJ-tinylog', 0.8028934001922607),\n ('PROJ-owner', 0.8018592596054077),\n ('PROJ-logstash', 0.8005906343460083),\n ('PROJ-jooby', 0.7990719676017761),\n ('PROJ-clover', 0.7977480292320251),\n ('PROJ-embulk', 0.79622882604599),\n ('PROJ-realm-java', 0.7958159446716309),\n ('PROJ-glowroot', 0.7952637672424316),\n ('PROJ-randomizedtesting', 0.7919826507568359),\n ('PROJ-ff4j', 0.7912715673446655),\n ('PROJ-cqengine', 0.7908248901367188),\n ('PROJ-commons-ognl', 0.7885744571685791),\n ('PROJ-beanmother', 0.7880645990371704),\n ('PROJ-classgraph', 0.7819621562957764),\n ('PROJ-jline3', 0.781508207321167),\n ('PROJ-arthas', 0.7812312841415405),\n ('PROJ-permazen', 0.7806041836738586),\n ('PROJ-javacpp', 0.7796493768692017),\n ('PROJ-jitwatch', 0.7777946591377258),\n ('PROJ-jmxtrans', 0.7777803540229797),\n ('PROJ-JCTools', 0.7768268585205078),\n ('PROJ-orika', 0.7763676643371582),\n ('PROJ-javamelody', 0.7761415243148804),\n ('PROJ-handlebars.java', 0.7734619975090027),\n ('PROJ-NullAway', 0.7723931670188904),\n ('PROJ-JsonSurfer', 0.7712850570678711),\n ('PROJ-storm-crawler', 0.7708555459976196),\n ('PROJ-querydsl', 0.7707754373550415),\n ('PROJ-yasson', 0.7707421183586121),\n ('PROJ-dsl-json', 0.7684962749481201),\n ('PROJ-fast-serialization', 0.7679662108421326),\n ('PROJ-modelmapper', 0.7663334012031555),\n ('PROJ-cache2k', 0.7663127183914185),\n ('PROJ-debezium', 0.7655167579650879),\n ('PROJ-doma', 0.7651775479316711),\n ('PROJ-commons-dbutils', 0.7644382119178772),\n ('PROJ-armeria', 0.7643998265266418),\n ('PROJ-spring-framework', 0.7642682194709778),\n ('PROJ-commons-bsf', 0.7642638683319092),\n ('PROJ-simple-java-mail', 0.7637912034988403),\n ('PROJ-immutables', 0.7635095119476318),\n ('PROJ-RestExpress', 0.7632144093513489),\n ('PROJ-pebble', 0.762261152267456),\n ('PROJ-redisson', 0.7620201110839844),\n ('PROJ-FreeBuilder', 0.7617765665054321),\n ('PROJ-light-4j', 0.7612437009811401),\n ('PROJ-swagger-core', 0.7607768177986145),\n ('PROJ-stagemonitor', 0.760536789894104),\n ('PROJ-jqa-core-framework', 0.7601643204689026),\n ('PROJ-mapstruct', 0.7581080794334412),\n ('PROJ-simple-binary-encoding', 0.7575331926345825),\n ('PROJ-avro', 0.7572519779205322),\n ('PROJ-pippo', 0.7562587261199951),\n ('PROJ-jaeger-client-java', 0.7559763789176941),\n ('PROJ-pitest', 0.7559372186660767),\n ('PROJ-doov', 0.7544263601303101),\n ('PROJ-reflections', 0.7539889812469482),\n ('PROJ-micronaut-core', 0.7533878087997437),\n ('PROJ-crash', 0.753268837928772),\n ('PROJ-deltaspike', 0.7528970241546631),\n ('PROJ-logbook', 0.7520127296447754),\n ('PROJ-logging-log4j2', 0.7506567239761353),\n ('PROJ-client_java', 0.7503666281700134),\n ('PROJ-tomee', 0.750306248664856),\n ('PROJ-p6spy', 0.7500293254852295),\n ('PROJ-deeplearning4j', 0.7494629621505737),\n ('PROJ-MutabilityDetector', 0.7492889165878296),\n ('PROJ-dkpro-core', 0.748562216758728),\n ('PROJ-mapdb', 0.747295081615448),\n ('PROJ-openj9', 0.7472319602966309),\n ('PROJ-flyway', 0.7469124794006348),\n ('PROJ-rapidoid', 0.7455531358718872),\n ('PROJ-fixture-factory', 0.7452353835105896),\n ('PROJ-tablesaw', 0.7450814843177795),\n ('PROJ-polyglot-maven', 0.7449343800544739),\n ('PROJ-dropwizard', 0.7436230182647705),\n ('PROJ-lambda-behave', 0.7431191205978394),\n ('PROJ-bootique', 0.7415372133255005),\n ('PROJ-firefly', 0.7414804697036743),\n ('PROJ-protobuf', 0.7411099672317505),\n ('PROJ-guava', 0.7411023378372192),\n ('PROJ-thymeleaf', 0.739935040473938),\n ('PROJ-CodenameOne', 0.7396001219749451),\n ('PROJ-commons-configuration', 0.7384993433952332),\n ('PROJ-poi', 0.7384662628173828),\n ('PROJ-easy-batch', 0.737799882888794),\n ('PROJ-commons-jxpath', 0.7376895546913147),\n ('PROJ-pact-jvm', 0.7370346188545227),\n ('PROJ-cukes', 0.7369875907897949),\n ('PROJ-druid', 0.7365986704826355),\n ('PROJ-auto', 0.7363817691802979),\n ('PROJ-nakadi', 0.7361143231391907),\n ('PROJ-dozer', 0.733713686466217),\n ('PROJ-lwjgl3', 0.7331709861755371),\n ('PROJ-drift', 0.7324547171592712),\n ('PROJ-tapestry-5', 0.732018768787384),\n ('PROJ-pulsar', 0.7314937710762024),\n ('PROJ-hppc', 0.7309194207191467),\n ('PROJ-jbehave-core', 0.7305507659912109),\n ('PROJ-jobrunr', 0.7303814888000488),\n ('PROJ-izpack', 0.7301570177078247),\n ('PROJ-Time4J', 0.7301420569419861),\n ('PROJ-arangodb-java-driver', 0.7296323180198669),\n ('PROJ-documents4j', 0.7289415597915649),\n ('PROJ-helidon', 0.7283238172531128),\n ('PROJ-siren4j', 0.7280635833740234),\n ('PROJ-powermock', 0.727786660194397),\n ('PROJ-cucumber-jvm', 0.7277531623840332),\n ('PROJ-slf4j', 0.7276623249053955),\n ('PROJ-presto', 0.7270181179046631),\n ('PROJ-graphhopper', 0.7265345454216003),\n ('PROJ-tomcat', 0.7243558168411255),\n ('PROJ-vavr', 0.7243233919143677),\n ('PROJ-micro-server', 0.7238267064094543),\n ('PROJ-ninja', 0.7228566408157349),\n ('PROJ-togglz', 0.7227727770805359),\n ('PROJ-centraldogma', 0.7220296859741211),\n ('PROJ-HotswapAgent', 0.7215352058410645),\n ('PROJ-mockserver', 0.7213042974472046),\n ('PROJ-jflex', 0.720870852470398),\n ('PROJ-inspectit-ocelot', 0.7205687761306763),\n ('PROJ-exist', 0.7200791835784912),\n ('PROJ-univocity-parsers', 0.7194988131523132),\n ('PROJ-smooks', 0.7187114357948303),\n ('PROJ-config', 0.7185415029525757),\n ('PROJ-quarkus', 0.7181559801101685),\n ('PROJ-ArchUnit', 0.7178082466125488),\n ('PROJ-retrofit', 0.7177021503448486),\n ('PROJ-cfg4j', 0.7172638177871704),\n ('PROJ-orc', 0.7165810465812683),\n ('PROJ-restlet-framework-java', 0.7163209915161133),\n ('PROJ-derive4j', 0.7157025337219238),\n ('PROJ-unirest-java', 0.7150258421897888),\n ('PROJ-jolt', 0.7145695686340332),\n ('PROJ-pinpoint', 0.7145371437072754),\n ('PROJ-connect-java-sdk', 0.7143287658691406),\n ('PROJ-fastjson', 0.7143225073814392),\n ('PROJ-phoenix', 0.7135472893714905),\n ('PROJ-jackson-databind', 0.7135361433029175),\n ('PROJ-jmonkeyengine', 0.7134829163551331),\n ('PROJ-text-io', 0.7129195928573608),\n ('PROJ-oryx', 0.7115383148193359),\n ('PROJ-atomix', 0.7115036249160767),\n ('PROJ-akka', 0.7114462852478027),\n ('PROJ-ical4j', 0.7109383940696716),\n ('PROJ-ebean', 0.7097511887550354),\n ('PROJ-mockito', 0.7091724276542664),\n ('PROJ-commons-scxml', 0.7087775468826294),\n ('PROJ-yGuard', 0.708713710308075),\n ('PROJ-Resteasy', 0.708590030670166),\n ('PROJ-jbock', 0.7081886529922485),\n ('PROJ-geotools', 0.7077915668487549),\n ('PROJ-calcite', 0.7074103951454163),\n ('setiaisset', 0.7070482969284058),\n ('PROJ-hibernate-orm', 0.7066961526870728),\n ('PROJ-requery', 0.7065485715866089),\n ('PROJ-jopt-simple', 0.706495463848114),\n ('PROJ-javassist', 0.7064714431762695),\n ('PROJ-commons-proxy', 0.7062488794326782),\n ('PROJ-cglib', 0.705984354019165),\n ('PROJ-dubbo', 0.7053773999214172),\n ('PROJ-hazelcast', 0.7046452760696411),\n ('PROJ-ehcache3', 0.7045973539352417),\n ('PROJ-hdiv', 0.7042241096496582),\n ('PROJ-freemarker', 0.7041528224945068),\n ('PROJ-minio-java', 0.7039167284965515),\n ('PROJ-storm', 0.7038142681121826),\n ('PROJ-webmagic', 0.7035659551620483),\n ('PROJ-orson-charts', 0.7033094167709351),\n ('PROJ-siddhi', 0.703055739402771),\n ('PROJ-eclipse-collections', 0.701389729976654),\n ('PROJ-junit-dataprovider', 0.7013720870018005),\n ('PROJ-grpc-java', 0.7013435363769531),\n ('PROJ-reactor-core', 0.7012776732444763),\n ('PROJ-bytecode-viewer', 0.7012195587158203),\n ('PROJ-smile', 0.7010942697525024),\n ('PROJ-parquet-mr', 0.7010311484336853),\n ('PROJ-hoverfly-java', 0.6982651948928833),\n ('PROJ-kafka', 0.6980959177017212),\n ('PROJ-commons-jcs', 0.6979361772537231),\n ('PROJ-jcommander', 0.6965890526771545),\n ('reminderdao', 0.6960513591766357),\n ('PROJ-takes', 0.6951869130134583),\n ('PROJ-commons-collections', 0.6948269605636597),\n ('PROJ-jacop', 0.6946810483932495),\n ('PROJ-commons-validator', 0.6946559548377991),\n ('PROJ-Chronicle-Map', 0.6935594081878662),\n ('PROJ-btm', 0.6932573914527893),\n ('PROJ-jersey', 0.692306399345398),\n ('PROJ-optaplanner', 0.691791296005249),\n ('PROJ-commons-weaver', 0.691231369972229),\n ('getanzahleinheiten', 0.6906956434249878),\n ('PROJ-jnr-ffi', 0.6904805898666382),\n ('PROJ-airline', 0.6903184056282043),\n ('PROJ-jqwik', 0.6895110607147217),\n ('PROJ-Agrona', 0.688472330570221),\n ('termoffglobe', 0.6877109408378601),\n ('PROJ-Orienteer', 0.6874601244926453),\n ('PROJ-vert.x', 0.6869808435440063),\n ('PROJ-mapsforge', 0.6867596507072449),\n ('PROJ-msgpack-java', 0.6858011484146118),\n ('PROJ-caffeine', 0.6857383847236633),\n ('attachattribute', 0.6854649186134338),\n ('PROJ-crnk-framework', 0.6850231885910034),\n ('PROJ-cobertura', 0.6838973760604858),\n ('PROJ-springdoc-openapi', 0.6827932000160217),\n ('PROJ-javacv', 0.6826706528663635),\n ('PROJ-jolokia', 0.6825916767120361),\n ('PROJ-rocker', 0.6807053685188293),\n ('outerclassconstantaccept', 0.6803045272827148),\n ('PROJ-byteman', 0.680155336856842),\n ('PROJ-JsonPath', 0.6799619197845459),\n ('PROJ-jbake', 0.6790674924850464),\n ('PROJ-mina', 0.6785953044891357),\n ('PROJ-wicket', 0.6780508756637573),\n ('PROJ-jimfs', 0.6774643063545227),\n ('PROJ-spotbugs', 0.6773368120193481),\n ('PROJ-keywhiz', 0.6770579218864441),\n ('PROJ-pdfbox', 0.6769227981567383),\n ('PROJ-zookeeper', 0.6766477823257446),\n ('cmopt', 0.6755896806716919),\n ('PROJ-h2gis', 0.6753126382827759),\n ('PROJ-opentracing-toolbox', 0.6753039360046387),\n ('PROJ-weka-3.8', 0.6751185059547424),\n ('PROJ-microconfig', 0.6748393774032593),\n ('PROJ-jsoup', 0.6745744943618774),\n ('PROJ-ShedLock', 0.6744061708450317),\n ('PROJ-commons-dbcp', 0.6714187860488892),\n ('PROJ-super-csv', 0.6700820922851562),\n ('PROJ-drill', 0.6692917346954346),\n ('PROJ-serenity-core', 0.6688822507858276),\n ('PROJ-attic-aurora', 0.6685717105865479),\n ('PROJ-cactoos', 0.668479323387146),\n ('PROJ-elide', 0.6677433252334595),\n ('setissueid', 0.6673129200935364),\n ('PROJ-jmeter', 0.6648527979850769),\n ('PROJ-quasar', 0.6647220849990845),\n ('PROJ-rocketmq', 0.6645126342773438),\n ('toplevelpackagestring', 0.6634920835494995),\n ('debugsimplename', 0.663423478603363),\n ('leadingresizable', 0.6630648374557495),\n ('PROJ-oacc-core', 0.661443293094635),\n ('PROJ-nacos', 0.6614382863044739),\n ('basicsetcontentmetadata', 0.6612123847007751),\n ('PROJ-JSAT', 0.6608701348304749),\n ('cellactioncreatechildrangeselection', 0.660605251789093),\n ('PROJ-HikariCP', 0.6598947048187256),\n ('PROJ-jade4j', 0.6592273712158203),\n ('orderitemcontainer', 0.6592077016830444),\n ('preservationtarget', 0.6588988304138184),\n ('multisettype', 0.6582260131835938),\n ('movetoimapfolder', 0.6578762531280518),\n ('PROJ-automon', 0.657463550567627),\n ('PROJ-honest-profiler', 0.6572684049606323),\n ('safterconsolelogctxtostringtreenullthisdeclaratore', 0.6562767028808594),\n ('PROJ-comsat', 0.6560779213905334),\n ('attributeautoenabled', 0.6559406518936157),\n ('innerpid', 0.6558894515037537),\n ('macchickenlevel', 0.6557931900024414),\n ('PROJ-camel', 0.6557832956314087),\n ('PROJ-args4j', 0.6551514863967896),\n ('PROJ-philadelphia', 0.6550495624542236),\n ('getentryoid', 0.6549930572509766),\n ('addonkillevent', 0.6548603773117065),\n ('PROJ-commons-codec', 0.6539870500564575),\n ('PROJ-spark', 0.6525677442550659),\n ('PROJ-servicetalk', 0.6505265235900879),\n ('PROJ-RxJava', 0.6500553488731384),\n ('moverlaylayout', 0.6497561931610107),\n ('PROJ-pmd', 0.6484454870223999),\n ('PROJ-metrics', 0.6483798623085022),\n ('PROJ-jjwt', 0.6483738422393799),\n ('addroutenodebutton', 0.6480394005775452),\n ('PROJ-governator', 0.6474603414535522),\n ('setisvalidating', 0.6471776366233826),\n ('getreferencedatasource', 0.6469911932945251),\n ('transactionresourcedefinition', 0.6469868421554565),\n ('PROJ-rest.li', 0.6467698216438293),\n ('PROJ-awaitility', 0.646504282951355),\n ('+1234567', 0.6461798548698425),\n ('scheduledpsmpsupported', 0.6457157135009766),\n ('setqualifierisset', 0.6453818678855896),\n ('setisinvalidating', 0.6451804637908936),\n ('samschemavaluesamschemaactions', 0.6450108289718628),\n ('erprototaculous', 0.6448768377304077),\n ('followeofinentryrulexswitchexpression', 0.6442103981971741),\n ('basicsetadapted', 0.6441354751586914),\n ('PROJ-mahout', 0.6438799500465393),\n ('PROJ-gatling', 0.6437050104141235),\n ('PROJ-restQL-java', 0.6436479687690735),\n ('teloptcharset', 0.6433167457580566),\n ('cancelbetsresult', 0.6430892944335938),\n ('PROJ-consul-api', 0.6422973871231079),\n ('lcalfdef', 0.6418477296829224),\n ('samoperatorsamschemavalues', 0.6415491104125977),\n ('tometadatas', 0.6414873003959656),\n ('PROJ-raml-tester', 0.6412618160247803),\n ('PROJ-riptide', 0.6411360502243042),\n ('PROJ-junit5', 0.6409770846366882),\n ('PROJ-shiro', 0.6408557891845703),\n ('PROJ-nbvcxz', 0.6403999328613281),\n ('PROJ-async-http-client', 0.6399294137954712),\n ('notifymessagewaitingindicator', 0.6398211717605591),\n ('maxframewidth', 0.6397460103034973),\n ('emptyparagraphnodeletshouldhavenochldren', 0.6396011114120483),\n ('typedparser', 0.6392961740493774),\n ('fulltextuniqueindex', 0.6391785144805908),\n ('PROJ-byte-buddy', 0.6391704678535461),\n ('PROJ-adt4j', 0.638776421546936),\n ('artifactncname', 0.6387368440628052),\n ('woodlogs', 0.6387272477149963),\n ('PROJ-stripe-java', 0.6385281682014465),\n ('statemachineownedregions', 0.638007402420044),\n ('bracepositionforenumdeclaration', 0.6378832459449768),\n ('predefinedbuckets', 0.63762366771698),\n ('getconjugationtype', 0.6376190185546875),\n ('PROJ-guice', 0.6371786594390869),\n ('groupbymapexpression', 0.6370126008987427),\n ('PROJ-gradle', 0.636548638343811),\n ('installelementcellactions', 0.6364642381668091),\n ('valueinitvalue', 0.6363958120346069),\n ('retrievecardbillingaddresschecklimbmessage', 0.6362791061401367),\n ('PROJ-testcontainers-java', 0.6361786127090454),\n ('PROJ-undertow', 0.6359463930130005),\n ('PROJ-commons-digester', 0.6359443068504333),\n ('PROJ-sshj', 0.6349804997444153),\n ('PROJ-httpcomponents-core', 0.6348689198493958),\n ('newobjecttype', 0.6348495483398438),\n ('samschemavariablesamschemavalues', 0.6346164345741272),\n ('configurationcontenttypemappings', 0.6343915462493896),\n ('prmapliteralpartcs', 0.6343218088150024),\n ('lmetaoffsetplusdelimiter', 0.6341956257820129),\n ('servicetypefees', 0.6341871023178101),\n ('getanalytename', 0.6341108679771423),\n ('sslwrite', 0.6340884566307068),\n ('buffernextobjectoffset', 0.6340656280517578),\n ('getbusytaskkey', 0.6339747309684753),\n ('PROJ-functionaljava', 0.6339325308799744),\n ('PROJ-spoon', 0.6334989666938782),\n ('PROJ-crawler4j', 0.6334314346313477),\n ('PROJ-commons-chain', 0.6334027051925659),\n ('basicsetsamaction', 0.6333240270614624),\n ('forcetabwidth', 0.6330306529998779),\n ('basicheadervalueformatter', 0.6328766345977783),\n ('esperabanegativevalueexception', 0.6325065493583679),\n ('getscalevalueelevation', 0.6324282288551331),\n ('PROJ-Mixin', 0.6322231292724609),\n ('PROJ-commons-io', 0.632182240486145),\n ('PROJ-Jest', 0.6319707632064819),\n ('getextraconnectionattributes', 0.6319306492805481),\n ('mtooncolor', 0.6317698955535889),\n ('incep', 0.6316834688186646),\n ('commentdamagerrepairer', 0.6315476894378662),\n ('setfixedstartlocation', 0.6314802765846252),\n ('getrdates', 0.6312299966812134),\n ('mselectorindices', 0.6312147974967957),\n ('setismarkedprecs', 0.6310210227966309),\n ('mselectorelementheight', 0.6308750510215759),\n ('typecodenotsupported', 0.6306767463684082),\n ('heightfactordelta', 0.6304929256439209),\n ('promptusernameandpassword', 0.6304541826248169),\n ('setmultivaluedseparator', 0.6304399967193604),\n ('literalspart', 0.6301102638244629),\n ('fullheadset', 0.6300129890441895),\n ('getqualifiersstatickeyword', 0.6298823356628418),\n ('definc', 0.6293997168540955),\n ('selectitemmultiplepicklist', 0.6292988061904907),\n ('parenttypecode', 0.6284556984901428),\n ('snapshotclusteridentifier', 0.6282315254211426),\n ('getfloatvar', 0.6279923915863037),\n ('PROJ-openhtmltopdf', 0.6278927326202393),\n ('middlesymbollocationcontrolpoint', 0.627796471118927),\n ('PROJ-elasticsearch', 0.6277939081192017),\n ('8710', 0.6277509331703186),\n ('ngramfeatkey', 0.6277207136154175),\n ('previsvisible', 0.6277012825012207),\n ('basicsetextendedcapabilities', 0.6272373795509338),\n ('PROJ-cyclops', 0.6269866228103638),\n ('basicsettypecs', 0.6267789602279663),\n ('dkoperation', 0.6267713308334351),\n ('getconnectionproperty', 0.6264786124229431),\n ('variabletypestartposition', 0.6264661550521851),\n ('compileregularexpressionimpl', 0.626275360584259),\n ('lookasideused', 0.6262149214744568),\n ('amazonsnowball', 0.6262108683586121),\n ('refreshprogresswindow', 0.6260061264038086),\n ('downloadlimiters', 0.6258649826049805),\n ('inputdescriptiontypeboundingboxdata', 0.625849723815918),\n ('stringdatatypedefaultcalibrator', 0.6257525086402893),\n ('whitespaceoptionsparameterizedtype', 0.6256101727485657),\n ('sequenceedgencname', 0.6255788803100586),\n ('deletiontarget', 0.6254591941833496),\n ('operationspart', 0.625251293182373),\n ('PROJ-jOOQ', 0.6251668334007263),\n ('basicsetrangesubset', 0.6251227855682373),\n ('forcekeys', 0.6249562501907349),\n ('200000.0', 0.6249518990516663),\n ('listmactiondeactivate', 0.6248987913131714),\n ('univariatestatisticsvariance', 0.6244961023330688),\n ('getnthtypeclass', 0.624347448348999),\n ('econnrefused', 0.6242536902427673),\n ('accumulatedmaxy', 0.6239523887634277),\n ('PROJ-mini2Dx', 0.6237851977348328),\n ('getfinanzamt', 0.623231053352356),\n ('PROJ-jackson-modules-java8', 0.623127281665802),\n ('declaredref', 0.6230672001838684),\n ('getcommentscanner', 0.6230175495147705),\n ('dependentvariableoptions', 0.6229555606842041),\n ('blockblocksequence', 0.6227259039878845),\n ('rcdate', 0.6227043271064758),\n ('cupphpastparserdoaction', 0.6226372718811035),\n ('getsearchenabled', 0.622502326965332),\n ('PROJ-methanol', 0.6223374605178833),\n ('fontvaluesize', 0.6222989559173584),\n ('widthpixel', 0.6221445202827454),\n ('overridependingapptransition', 0.6221103668212891),\n ('debugenablecheckjni', 0.6220114827156067),\n ('showmessageandwaituserconfirmation', 0.6219929456710815),\n ('basicsetiospecification', 0.6218515634536743),\n ('incurrentmodule', 0.6218251585960388),\n ('trailingresizable', 0.6217396259307861),\n ('deltahistorybytes', 0.6216233968734741),\n ('getisoduration', 0.6215667724609375),\n ('ckkdh', 0.6214805841445923),\n ('getspaceinstbyid', 0.621373176574707),\n ('istaticentrypusherservice', 0.621010422706604),\n ('roundingf', 0.6209615468978882),\n ('PROJ-cryptomator', 0.6208387613296509),\n ('createboxrelativeanchor', 0.6208323836326599),\n ('unhashabletype', 0.620818018913269),\n ('xvcalendarsyntaxparserlistener', 0.6207492351531982),\n ('getinputartifacts', 0.6207329630851746),\n ('basicsetconfigurationbusinessoption', 0.6206769943237305),\n ('timesinceaccel', 0.6204420924186707),\n ('bexist', 0.6203386783599854),\n ('eventdestinationname', 0.6203364729881287),\n ('composell', 0.6202592849731445),\n ('mofclassname', 0.6201453804969788),\n ('PROJ-netty', 0.6199658513069153),\n ('capabilitiesbasetypeoperationsmetadata', 0.6199297904968262),\n ('fillcolorattributecombo', 0.6194477081298828),\n ('dialoginputbolditalicjapanese', 0.6190955638885498),\n ('durationis', 0.6190885305404663),\n ('newfederateset', 0.6190653443336487),\n ('featurelabelmappingviewpattern', 0.6185013055801392),\n ('confdefaulttypes', 0.6184070706367493),\n ('PROJ-Aeron', 0.6183792352676392),\n ('unexpectedsaxexception', 0.6182995438575745),\n ('gmlobjecttypetypeoutputformats', 0.6182335615158081),\n ('doubletesttol', 0.6179471015930176),\n ('getservicealertbeanasptsituationelementstructure', 0.61790531873703),\n ('ruleoseattributeopclausegroup', 0.6178675889968872),\n ('getsoftscore', 0.6177417635917664),\n ('confsupportedtypes', 0.6176358461380005),\n ('bundleinstancetaskssettype', 0.6172689199447632),\n ('618.7500', 0.6170931458473206),\n ('oldtemporaldomain', 0.6170370578765869),\n ('followrulexunaryoperationgroupinrulexunaryoperatio', 0.6169605255126953),\n ('countpublicstatics', 0.6168732047080994),\n ('PROJ-commons-imaging', 0.6168339252471924),\n ('productionendpoint', 0.6168081760406494),\n ('recommendedretrievalmodemanual', 0.6167742013931274),\n ('cameljpabindingtypeproduce', 0.6165201663970947),\n ('attributeforpath', 0.6164945363998413),\n ('kbetweencatchandrightparen', 0.6164002418518066),\n ('describespotpricehistorytype', 0.6161885261535645),\n ('PROJ-zuul', 0.6161161065101624),\n ('onerotation', 0.6157101392745972),\n ('ownedparameterlistsize', 0.615685760974884),\n ('cmplt', 0.6153507232666016),\n ('getnotificationtargetarn', 0.6152197122573853),\n ('fpexceptions', 0.615181565284729),\n ('addrolesforwhichdownloadisallowed', 0.6149781942367554),\n ('borderopacityspinner', 0.6148240566253662),\n ('setrightsource', 0.6147737503051758),\n ('loadedbunch', 0.6146646738052368),\n ('operationcssimplenamecs', 0.6145331859588623),\n ('cellsetfactstype', 0.6145168542861938),\n ('nostaticurlprefixspecifiedinproperty', 0.6144149303436279),\n ('quotedtablealias', 0.614273726940155),\n ('attributespart', 0.6142724752426147),\n ('addblogcomment', 0.6142614483833313),\n ('maxexecutionmilliseconds', 0.6142105460166931),\n ('mhttpdiskcache', 0.6141787767410278),\n ('newvalidity', 0.6141750812530518),\n ('deletionposition', 0.6139888763427734),\n ('getmincapacity', 0.6138743162155151),\n ('filteredprinters', 0.6137442588806152),\n ('assignedou', 0.6136945486068726),\n ('foldedresultvy', 0.6136883497238159),\n ('setsleeping', 0.6136558055877686),\n ('lengthshorter', 0.6136242747306824),\n ('initializingaspect', 0.6135984659194946),\n ('filtertypelogicopsgroup', 0.6134583950042725),\n ('followruleopothergroupinruleopothergroup', 0.6131731271743774),\n ('buildvalueselector', 0.6130375862121582),\n ('sourcevalueexists', 0.6129881739616394),\n ('parentcaseid', 0.6129672527313232),\n ('norule', 0.6129571199417114),\n ('hungaria', 0.6128886938095093),\n ('defaultoperationname', 0.6127676963806152),\n ('keyautorb', 0.612730085849762),\n ('getparenteditor', 0.6126691102981567),\n ('getstatusvalueproxyvalue', 0.6126216053962708),\n ('utilitiespackage', 0.6126017570495605),\n ('gfpolysdonothavesamegffield', 0.6126012802124023),\n ('unsupportedtablemodelexception', 0.6125441789627075),\n ('xceecafabl', 0.6125361323356628),\n ('availablebalances', 0.6124073266983032),\n ('smallesttabwidth', 0.6121553778648376),\n ('querypc', 0.6120975017547607),\n ('itemorcategory', 0.6120303869247437),\n ('innertypemethod', 0.6119500398635864),\n ('followeofinentryrulexwhileexpression', 0.6119385957717896),\n ('safterprintctxtostringtreerecogselfdeclaratoreofmu', 0.611883819103241),\n ('wpscapabilitiestypeprocessofferings', 0.611831784248352),\n ('gettopdefaccess', 0.611538290977478),\n ('iocompressioncodeclzobuffersize', 0.6114010810852051),\n ('replytoparts', 0.6113762259483337),\n ('getsourcefilenames', 0.611320972442627),\n ('getrectanglecontur', 0.6111567616462708),\n ('platzhaltergefunden', 0.6110805869102478),\n ('oldtemporalsubset', 0.6110498905181885),\n ('docidsfortopic', 0.6110478043556213),\n ('wfscapabilitiestypesupportsgmlobjecttypelist', 0.6109789609909058),\n ('pushfrom', 0.6106064319610596),\n ('varcharbinary', 0.6105015873908997),\n ('incorrectexceptionmessage', 0.6104599237442017),\n ('fatjarpackagerutil', 0.610364556312561),\n ('ruledecisionreviewdefgroup', 0.6103616952896118),\n ('newuploadlimiters', 0.6103218197822571),\n ('tdlsprohibited', 0.610281765460968),\n ('theexercisepackage', 0.6101967692375183),\n ('cloneclass', 0.6101542711257935),\n ('importertag', 0.6101434826850891),\n ('settransactionidentifier', 0.6101009249687195),\n ('partmodreduction', 0.6100072860717773),\n ('getmaxqueryresults', 0.6099956035614014),\n ('nouploaddirectoryspecifiedinproperty', 0.6099549531936646),\n ('measurechildforcells', 0.6099179983139038),\n ('getrecheight', 0.6098294854164124),\n ('getconfigurationstaletimeout', 0.6096487045288086),\n ('getrightparentcharacter', 0.6096380949020386),\n ('intgetter', 0.6095708012580872),\n ('getqualifiersdefinitionkeyword', 0.6095488667488098),\n ('localjoomlaserveradminusercredentials', 0.6095317006111145),\n ('fillcurrentpositionblocksdownwards', 0.6095285415649414),\n ('PROJ-vibur-dbcp', 0.6093816757202148),\n ('byteindexedopaque', 0.6092251539230347),\n ('lthighpoly', 0.6091957688331604),\n ('sortvaluesmultikeys', 0.6091461777687073),\n ('returnedanitemthatexceedsmaxmsgsizeandshouldbedrop', 0.6091386675834656),\n ('fakefoldericonview', 0.6090002655982971),\n ('axistypeuom', 0.6089965105056763),\n ('thatisnotashareduid', 0.6089426875114441),\n ('transformerfactorymin', 0.6088959574699402),\n ('setstoreisset', 0.6088765263557434),\n ('vaultsoutheast', 0.6088352203369141),\n ('tagtiepointoffsetx', 0.6087510585784912),\n ('getstartregister', 0.6087363958358765),\n ('mmaxntpcacheage', 0.6087249517440796),\n ('PROJ-bazel', 0.6086311936378479),\n ('getrecwidth', 0.6086127758026123),\n ('ehe', 0.6086061000823975),\n ('PROJ-java-ascii-render', 0.6085808277130127),\n ('rulecreatepeerreviewruledefgroup', 0.6085426807403564),\n ('opxfy', 0.6084887981414795),\n ('PROJ-commons-net', 0.6084433197975159),\n ('entryrule', 0.6083245277404785),\n ('elementusage', 0.6083188056945801),\n ('PROJ-wiremock', 0.6083097457885742),\n ('followeofinentryrulexliteral', 0.6082462072372437),\n ('localinsetwallwe', 0.6081808805465698),\n ('mcallingapp', 0.6081021428108215),\n ('xffffxx', 0.6079350709915161),\n ('safterconsolewritelinectxtostringtreethisdeclarato', 0.6079310178756714),\n ('marshaldefinitionjibx', 0.6079217791557312),\n ('artifactreturned', 0.607876181602478),\n ('hasbooleanvalue', 0.6078067421913147),\n ('contentjar', 0.6077530384063721),\n ('productcodesettype', 0.607704758644104),\n ('PROJ-commons-rdf', 0.6075420379638672),\n ('endplusonedate', 0.6073967218399048),\n ('followrulexassignmentgroupinrulexassignmentgroup', 0.6073914766311646),\n ('getsuccessconditionbycode', 0.6073715686798096),\n ('timeusedms', 0.6072860956192017),\n ('yypactvalueisdefault', 0.6072761416435242),\n ('fetchoperationdidreturnnull', 0.6072412729263306),\n ('comparefirstofnamelist', 0.6072217226028442),\n ('opsizeofparameterpack', 0.6070871353149414),\n ('emptyclasspath', 0.6070539355278015),\n ('rootmsggenerror', 0.6069605350494385),\n ('metacommandtypeargumentlist', 0.6069128513336182),\n ('descriptionabstract', 0.6069042086601257),\n ('setimageowneralias', 0.6068858504295349),\n ('thisamount', 0.6068766117095947),\n ('thisalgo', 0.6067997217178345),\n ('remotedeviceinstancenumber', 0.6066467761993408),\n ('streamsystemenforced', 0.6066293120384216),\n ('listmactionactivate', 0.6065163612365723),\n ('completeenvironmentownedcompletemodel', 0.6064963340759277),\n ('PROJ-maven', 0.606473982334137),\n ('tmpdependencies', 0.6064732074737549),\n ('preeditstring', 0.6064617037773132),\n ('mailmessageid', 0.6063981652259827),\n ('dialoginputitalicjapanese', 0.6063462495803833),\n ('chestdef', 0.6063358187675476),\n ('dexoptfailed', 0.6062837839126587),\n ('enableuseridentitynegotiationwithspecifiedusername', 0.6062817573547363),\n ('followeofinentryrulexvariabledeclaration', 0.6061148643493652),\n ('lastwaslf', 0.6060894727706909),\n ('modifyimageattributetypechoicetype', 0.606053352355957),\n ('captionlineisgreaterthanthelastfoldedline', 0.6060375571250916),\n ('getalloverlays', 0.6057500839233398),\n ('digittypemask', 0.6057407855987549),\n ('getfgcallconnections', 0.6057313084602356),\n ('followrulexcasepartgroupinrulexcasepartgroup', 0.6057277321815491),\n ('PROJ-Singularity', 0.6056617498397827),\n ('usbstateservicestartup', 0.6055755615234375),\n ('gettopofchildofitem', 0.6055114269256592),\n ('leftlayout', 0.6054329872131348),\n ('showmoretext', 0.6053825616836548),\n ('ruleuiactiongroup', 0.6053575277328491),\n ('getincludeminimum', 0.6053214073181152),\n ('setcsequencenumber', 0.605316162109375),\n ('failedtoroundproperly', 0.6052843332290649),\n ('getformresponses', 0.6052734851837158),\n ('ruleradialgradientgroup', 0.6052084565162659),\n ('setscannerid', 0.6052082777023315),\n ('notbar', 0.6051942110061646),\n ('errorinpreparedstateafterstop', 0.6051639914512634),\n ('mpreviewcolor', 0.6051638722419739),\n ('enablecoloredlabels', 0.6050850749015808),\n ('2010-03-31', 0.6049771308898926),\n ('clusteredindex', 0.6049255132675171),\n ('linecommentinfo', 0.6049208641052246),\n ('getskewinseconds', 0.6048871874809265),\n ('foreignkeyspart', 0.6047412157058716),\n ('seprintev', 0.6046723127365112),\n ('basicsetlinearring', 0.6045318841934204),\n ('lupperarmdef', 0.6045174598693848),\n ('ownedoperation', 0.604447603225708),\n ('basicsetaxisdescription', 0.6044448614120483),\n ('PROJ-commons-functor', 0.6044266819953918),\n ('setlegenditemlabelgenerator', 0.6043599247932434),\n ('connectionfactorydefinitioninjectionsource', 0.6043193340301514),\n ('setlevellen', 0.6042788028717041),\n ('xzcell', 0.6042701005935669),\n ('casesignatureimplementation', 0.6042650938034058),\n ('cannotsavetrackerstatus', 0.6042414903640747),\n ('firstnamestrategy', 0.604149341583252),\n ('spatialdomaintypeimagecrs', 0.6040953397750854),\n ('wasmoving', 0.6038756370544434),\n ('ebasicremovefromcontainer', 0.6038036346435547),\n ('musbstate', 0.603797197341919),\n ('malreadyloggedviolatedstacks', 0.6037954092025757),\n ('mapcan', 0.6036015748977661),\n ('cachecontrolhttpheader', 0.6035898327827454),\n ('cancelpostdial', 0.6035511493682861),\n ('justificanteplatino', 0.6035200357437134),\n ('wifidatacolumnkey', 0.6034286618232727),\n ('mismatchedestablishedtunnelremoteaddress', 0.6033635139465332),\n ('addtestprovider', 0.6033533811569214),\n ('followrulewidgetdefgroupinrulewidgetdefgroup', 0.6033403873443604),\n ('getpackagecsrule', 0.603240966796875),\n ('getparentworkflowexecution', 0.6032277345657349),\n ('getheightaxis', 0.6032189130783081),\n ('inconsistentdatawhilemanagingadjustablesegmentinre', 0.6031491756439209),\n ('valuestocompare', 0.6031289100646973),\n ('basicsetprocessofferings', 0.6030682325363159),\n ('existingtargetproj', 0.6030521392822266),\n ('settypemodifier', 0.6030148267745972),\n ('sdapk', 0.6030038595199585),\n ('0.5625', 0.6029597520828247),\n ('maxvotes', 0.6029398441314697),\n ('PROJ-jetty.project', 0.6028738617897034),\n ('coanamesdto', 0.6028459072113037),\n ('setavailabilityzonegroup', 0.6028339266777039),\n ('followruleuiactiongroupinruleuiactiongroup', 0.6027947664260864),\n ('setactivationnumerator', 0.6027213931083679),\n ('getxmlscanner', 0.6026871204376221),\n ('dictionaryfilter', 0.6026522517204285),\n ('stereotypeattributespropertieseditioncomponent', 0.6025687456130981),\n ('releaseputfromloadlock', 0.6024431586265564),\n ('PROJ-playframework', 0.6023316383361816),\n ('lazyoutput', 0.602325439453125),\n ('draglayerpos', 0.6022827625274658),\n ('oszpc', 0.6022803783416748),\n ('nonnlsn', 0.6022138595581055),\n ('usedefaultcss', 0.6020969748497009),\n ('flagdelegate', 0.6019991040229797),\n ('663.7500', 0.6019669771194458),\n ('ternarytrueexpr', 0.6019287109375),\n ('icanbeoptimistic', 0.6018615365028381),\n ('followrulecreatetaskruledefgroupinrulecreatetaskru', 0.601857602596283),\n ('formatsqlstring', 0.6018552780151367),\n ('mmeettaa', 0.6017682552337646),\n ('nonpublicchildtypenonpublicchildsmethodv', 0.6017409563064575),\n ('observefieldfrequency', 0.6015101075172424),\n ('requestedenvelopetoosmallresultinginemptycroppedra', 0.6014634370803833),\n ('usingwrapper', 0.6014273166656494),\n ('documentrootrangeclosure', 0.6013802886009216),\n ('6378206.4', 0.6013179421424866),\n ('settypeset', 0.6012709736824036),\n ('rulexrelationtypegroup', 0.6012395620346069),\n ('mbluetoothadpconnected', 0.6009806394577026),\n ('dcmcodingschemeversion', 0.600967526435852),\n ('affectedversions', 0.600928544998169),\n ('beansbean', 0.600885272026062),\n ('getlonepair', 0.6008633375167847),\n ('getcacheclusterenabled', 0.6008081436157227),\n ('messageidselement', 0.6007513999938965),\n ('getdepositamount', 0.6007511615753174),\n ('contextcategoryvalueexcludedvaluesconfiguration', 0.6007442474365234),\n ('getredefinableheader', 0.6006540060043335),\n ('lanencname', 0.6006420850753784),\n ('rulelineargradientgroup', 0.6005911827087402),\n ('trainkeypointsmat', 0.6005745530128479),\n ('examplehashcode', 0.6005717515945435),\n ('serviceconditionenumeration', 0.600544810295105),\n ('getaffectedownerornull', 0.6004955768585205),\n ('destinationisafile', 0.6004817485809326),\n ('colorgif', 0.6002060174942017),\n ('mjprinterparams', 0.6001114845275879),\n ('subqueryclause', 0.6000415086746216),\n ('rootelementsubelement', 0.6000316143035889),\n ('typenameexpcsownedpathname', 0.5999530553817749),\n ('ueflatinsmallletteriwithdiaeresissetmorekeysof', 0.5997204184532166),\n ('doubleequalsdelta', 0.5997172594070435),\n ('iteminteger', 0.5997125506401062),\n ('propertiessectiondata', 0.5996446013450623),\n ('typeargumentspreview', 0.5995724201202393),\n ('abcdabcd', 0.5995664596557617),\n ('followeofinentryrulexifexpression', 0.5995662212371826),\n ('markparameterused', 0.5995466709136963),\n ('matchblockedlistbyprovider', 0.599432647228241),\n ('2010-05-15', 0.599415123462677),\n ('formatterinsertspacebeforeclosingpareninparenthesi', 0.5994049310684204),\n ('dimensionexpressioncellset', 0.599366307258606),\n ('usevariablesubstitution', 0.5993620753288269),\n ('expandedid', 0.5992695093154907),\n ('keymaxlrows', 0.5992252826690674),\n ('letpluginhandlenavkey', 0.5991185903549194),\n ('postsplitdists', 0.5990523099899292),\n ('getunflattenedpos', 0.5990192294120789),\n ('argarraylen', 0.5990126132965088),\n ('maxeerevqbparameters', 0.5989888310432434),\n ('nostretch', 0.5989871025085449),\n ('isatpre', 0.598865270614624),\n ('codeschemename', 0.5988468527793884),\n ('aretries', 0.5988373756408691),\n ('extraballrollovers', 0.5988286733627319),\n ('getalarmconfiguration', 0.5987818241119385),\n ('ifacestats', 0.5987404584884644),\n ('cacheddelta', 0.5987244844436646),\n ('zztranspacked', 0.598671555519104),\n ('nativeagpssetreflocationcellid', 0.5986658930778503),\n ('connectionconfigapntablecreated', 0.5986586213111877),\n ('lforearmpoly', 0.598558783531189),\n ('idtolocaledatestring', 0.5983014106750488),\n ('addfileversion', 0.5982670187950134),\n ('PROJ-pac4j', 0.5982468724250793),\n ('followruleresourceexpressiongroupinruleresourceexp', 0.5982348918914795),\n ('touchmodeis', 0.5980054140090942),\n ('filealignment', 0.5979982614517212),\n ('PROJ-grizzly', 0.5979787111282349),\n ('initialcolorindex', 0.5979565978050232),\n ('prefpbunuseddeclaredthrownexception', 0.5979083776473999),\n ('getinvalidaddresses', 0.5977791547775269),\n ('followrulexunaryoperationinrulexmultiplicativeexpr', 0.5977638363838196),\n ('stylesubgroup', 0.5977295637130737),\n ('getoptpredicate', 0.5977169871330261),\n ('PROJ-eureka', 0.5977156162261963),\n ('emptyrightexpression', 0.5975350141525269),\n ('limitoffsettemplate', 0.5975260734558105),\n ('basicsetboundingbox', 0.5974815487861633),\n ('mtopselectiondividertop', 0.5974578261375427),\n ('followeofinentryrulexnumberliteral', 0.5974453687667847),\n ('flexcomma', 0.5974335074424744),\n ('getrequestedsyncmode', 0.5974067449569702),\n ('followrulenumbergroupinrulenumbergroup', 0.5973867177963257),\n ('getqualifiersuniquekeyword', 0.5973742008209229),\n ('dcmcustomattribute', 0.5973361730575562),\n ('0.01405521', 0.5973272323608398),\n ('dkvaluemember', 0.5972822308540344),\n ('regexpatternpimpl', 0.5972626209259033),\n ('nomechanismcontextyet', 0.5971612930297852),\n ('mapstringmapmark', 0.5970824956893921),\n ('prefpbmissingoverrideannotation', 0.597079336643219),\n ('fullsubset', 0.5970141887664795),\n ('nextisvisible', 0.5969774723052979),\n ('smlegionleavemember', 0.5969741344451904),\n ('unexpecteds', 0.5968184471130371),\n ('scanlinechanged', 0.5967589616775513),\n ('nexttokenis', 0.5967538356781006),\n ('groupresponses', 0.5964613556861877),\n ('nwithcoords', 0.5964312553405762),\n ('emailparser', 0.5963953137397766),\n ('testregionobserverinterface', 0.5963460206985474),\n ('flagcompatiblewindow', 0.5962313413619995),\n ('ruleadministrator', 0.5962144732475281),\n ('controleqhash', 0.5960827469825745),\n ('basicsetgroupby', 0.596079409122467),\n ('lteoncdmatrue', 0.5960273742675781),\n ('sfeditpolicy', 0.5959213972091675),\n ('accessibilitydelegatecompatics', 0.5959000587463379),\n ('formatterwrapbeforebinaryoperator', 0.5956121683120728),\n ('dirtystateneeded', 0.5955976843833923),\n ('mlocksounds', 0.5955406427383423),\n ('ecfoobar', 0.5955333709716797),\n ('intitiatorsize', 0.5955158472061157),\n ('mspring', 0.5955102443695068),\n ('threadnotinterrupted', 0.5955029129981995),\n ('editorannotationrollover', 0.5954856872558594),\n ('PROJ-flexy-pool', 0.5953929424285889),\n ('hardexpiry', 0.5953892469406128),\n ('samstatusschemasamschemavariables', 0.5953763723373413),\n ('verifyparity', 0.5951589345932007),\n ('sendsubmitpdu', 0.595108151435852),\n ('mcplayerportalevent', 0.5950658321380615),\n ('setcurrtask', 0.5949554443359375),\n ('PROJ-telosys-cli', 0.5949231386184692),\n ('goodcacrl', 0.5949078798294067),\n ('dspeerstatuschangemock', 0.5948721170425415),\n ('forceparceler', 0.5948718786239624),\n ('PROJ-jexer', 0.5947851538658142),\n ('foreachcompletioncondition', 0.5947792530059814),\n ('noldapauthorizationdnspecified', 0.5947206616401672),\n ('tostringclass', 0.5945781469345093),\n ('gmaxnidx', 0.5945210456848145),\n ('ivruleupper', 0.5944957137107849),\n ('onenormalforallvertices', 0.5944911241531372),\n ('tenvalue', 0.5944898128509521),\n ('mapversionreadservice', 0.5944736003875732),\n ('serviceprovidertypeservicecontact', 0.5944512486457825),\n ('filetransferconsumesprocessorpooltimeout', 0.5944398641586304),\n ('ddbendpoint', 0.5944045782089233),\n ('nodatamodeldidyoucallsetdatamodel', 0.5943816900253296),\n ('featurelabelmodelfaceteditorpattern', 0.5943586826324463),\n ('getcolumnchecksum', 0.5943217277526855),\n ('followeofinentryrulearraybrackets', 0.5943065285682678),\n ('thepathtovelocitytemplateinaction', 0.5942734479904175),\n ('keyfixlrows', 0.5942343473434448),\n ('PROJ-jeromq', 0.5941908359527588),\n ('getparameterizedclasses', 0.5941870212554932),\n ('rulepeerreviewdefgroup', 0.5940544009208679),\n ('currentenclosingtype', 0.5940364599227905),\n ('getclassfilenames', 0.5939906239509583),\n ('mschemetofilter', 0.5938769578933716),\n ('checkident', 0.593875527381897),\n ('rulesoperationtypefaults', 0.5938094854354858),\n ('riotinfofilter', 0.5937423706054688),\n ('processstatusexception', 0.5937409400939941),\n ('basicsetconfiguredelement', 0.5936586260795593),\n ('attidxname', 0.5935091972351074),\n ('foundationsteps', 0.5934489965438843),\n ('levenshteinautomata', 0.5933418273925781),\n ('timetonextcheck', 0.5932842493057251),\n ('ddbuilder', 0.5932680368423462),\n ('schemegeo', 0.5931816697120667),\n ('basicsetmaximumvalue', 0.5931805968284607),\n ('finalistpodium', 0.5931156873703003),\n ('axistypedatatype', 0.5930873155593872),\n ('followruleteamdefgroupinruleteamdefgroup', 0.5930672287940979),\n ('gradientratio', 0.5929962992668152),\n ('mpendingscoforwbs', 0.592974066734314),\n ('getbuildingpolygon', 0.5928852558135986),\n ('bfrag', 0.5928177833557129),\n ('unhscenario', 0.5927879214286804),\n ('classnamepropertyproperty', 0.5927863121032715),\n ('onrotateview', 0.592760443687439),\n ('ampegedefault', 0.5927281379699707),\n ('ftcolumn', 0.5926526784896851),\n ('mautopairingexactnameblacklist', 0.592630922794342),\n ('encodingtypeintegerdataencoding', 0.592626690864563),\n ('sqltypestrategies', 0.5926169157028198),\n ('phantomtext', 0.5926093459129333),\n ('wrappedrootobject', 0.5925755500793457),\n ('setmutationsisset', 0.5925184488296509),\n ('PROJ-scalecube-services', 0.5924975872039795),\n ('cachingaspect', 0.5924688577651978),\n ('validatefactory', 0.592411994934082),\n ('bwlist', 0.592343807220459),\n ('viewindicatorstrategy', 0.5923418998718262),\n ('removemultilinecomment', 0.5921226143836975),\n ('statelinestyle', 0.5921211242675781),\n ('newdownloadlimiters', 0.5920721292495728),\n ('bmx', 0.5920669436454773),\n ('roncheck', 0.5920573472976685),\n ('keyautolrows', 0.5920038819313049),\n ('jpanelfunctionbuttondefinition', 0.5920025706291199),\n ('damagerrepairer', 0.5919896364212036),\n ('waitforchannelsuccessorfailure', 0.591924786567688),\n ('predictedarrivaltimea', 0.59190833568573),\n ('marketsummary', 0.5918573141098022),\n ('getmultilinecommentscanner', 0.5918558835983276),\n ('eventpolicychanged', 0.5918060541152954),\n ('inputvariablename', 0.5916863679885864),\n ('hashtableiteratorhashtable', 0.591680645942688),\n ('getcurrentbetslite', 0.5915957093238831),\n ('getsnapshotsource', 0.5914573669433594),\n ('propformattedvaluebase', 0.5914362668991089),\n ('screenshotattachments', 0.5913686156272888),\n ('imagereferencepeer', 0.5913679003715515),\n ('followrulevalididinrulexswitchexpression', 0.5912637710571289),\n ('getblogusers', 0.5912390947341919),\n ('parsemateriallist', 0.5912333726882935),\n ('matchesselectiontextnodes', 0.5912100076675415),\n ('mlastwriteelapsedtime', 0.5911116003990173),\n ('unabletoexecuteupdate', 0.5910873413085938),\n ('startbegindate', 0.5910699367523193),\n ('basicsetownersignature', 0.5910367369651794),\n ('resultxmlelement', 0.5910329818725586),\n ('solicitudfirmaexcepcion', 0.5909284353256226),\n ('getdfuworkunits', 0.5909048318862915),\n ('runrequestpostprocessors', 0.5907853841781616),\n ('PROJ-antlr4', 0.5907717943191528),\n ('getfeaturedefault', 0.5907593965530396),\n ('2009-04-15', 0.5906915664672852),\n ('youcaneithercontinueediting', 0.5906515121459961),\n ('dummyxadatasource', 0.59051513671875),\n ('getconverterbetweenparametrizationsconversionmetho', 0.590495228767395),\n ('getmappedtabforlayoutid', 0.5903943777084351),\n ('formatterblanklinesbetweentypedeclarations', 0.5903622508049011),\n ('basicsetowningnameexp', 0.590221643447876),\n ('casegapprop', 0.5901445150375366),\n ('gettimeoutinminutes', 0.5901297330856323),\n ('disabledebugprompt', 0.5900569558143616),\n ('setscopedproxymode', 0.5899715423583984),\n ('psireferenceproviderbase', 0.5899589657783508),\n ('statuscriterion', 0.5899482369422913),\n ('winnetbioslanamonitor', 0.5899385213851929),\n ('dontexplode', 0.5898988246917725),\n ('iconmultiminus', 0.5898559093475342),\n ('PROJ-javacc', 0.5898524522781372),\n ('prefpbunuseddeclaredthrownexceptionexemptexception', 0.589808464050293),\n ('emoticonsproperties', 0.5897918343544006),\n ('PROJ-jaywire', 0.5897848606109619),\n ('appendchannelhistory', 0.5897480249404907),\n ('startrolloverindex', 0.5897229909896851),\n ('tosourcecode', 0.5897148847579956),\n ('literalinputtypevaluesreference', 0.5896422863006592),\n ('versiontabpanelmodulecreator', 0.5896244645118713),\n ('axistypereferencesystem', 0.5894646048545837),\n ('lastnodeletchildshouldbespacer', 0.5894277691841125),\n ('forwardresultflagusedwhilealsorequestingaresult', 0.589425265789032),\n ('alarmnameslist', 0.5893555879592896),\n ('getapplicationmetrics', 0.5893450379371643),\n ('casedctype', 0.5893261432647705),\n ('remoteworkermonitorod', 0.5893039703369141),\n ('compoundcontentassistprocessor', 0.5892658233642578),\n ('destinationvalueexists', 0.5891920328140259),\n ('feestrxn', 0.589046061038971),\n ('interesados', 0.589020311832428),\n ('bytesfreed', 0.589009165763855),\n ('iqmlimport', 0.5889970064163208),\n ('PROJ-moco', 0.5889725089073181),\n ('loopcardinalitywidgets', 0.5888843536376953),\n ('iscurrentorientationset', 0.5888597965240479),\n ('errorinstartedstateafterpause', 0.5887985825538635),\n ('ruleconditionimplgroup', 0.5887202620506287),\n ('jsregglob', 0.5886951684951782),\n ('mappanimator', 0.5886157751083374),\n ('mapreducestage', 0.5885624289512634),\n ('getnumberofcars', 0.5885489583015442),\n ('tabletd', 0.5885269641876221),\n ('modifiermismatch', 0.5885176658630371),\n ('originalencodeddebuginfo', 0.5885053873062134),\n ('createbucketconfiguration', 0.5884668827056885),\n ('areaheightfactordelta', 0.5884093642234802),\n ('productcompatibility', 0.5883519053459167),\n ('addondie', 0.588249921798706),\n ('maxnetworkdelayoption', 0.5882366895675659),\n ('sourceisnonnull', 0.5882059335708618)]"
     },
     "execution_count": 47,
     "metadata": {},
     "output_type": "execute_result"
    }
   ],
   "source": [
    "w2v_code2vec_all.most_similar('PROJ-sql2o', topn=1000)"
   ],
   "metadata": {
    "collapsed": false,
    "pycharm": {
     "name": "#%%\n"
    }
   }
  },
  {
   "cell_type": "code",
   "execution_count": null,
   "outputs": [],
   "source": [],
   "metadata": {
    "collapsed": false,
    "pycharm": {
     "name": "#%%\n"
    }
   }
  }
 ],
 "metadata": {
  "kernelspec": {
   "display_name": "Python 3",
   "language": "python",
   "name": "python3"
  },
  "language_info": {
   "codemirror_mode": {
    "name": "ipython",
    "version": 2
   },
   "file_extension": ".py",
   "mimetype": "text/x-python",
   "name": "python",
   "nbconvert_exporter": "python",
   "pygments_lexer": "ipython2",
   "version": "2.7.6"
  }
 },
 "nbformat": 4,
 "nbformat_minor": 0
}