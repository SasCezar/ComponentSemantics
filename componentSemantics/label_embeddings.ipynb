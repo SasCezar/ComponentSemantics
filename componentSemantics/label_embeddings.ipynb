{
 "cells": [
  {
   "cell_type": "code",
   "execution_count": 2,
   "metadata": {
    "collapsed": true
   },
   "outputs": [],
   "source": [
    "from gensim.models import KeyedVectors\n",
    "\n",
    "embedding = 'id-code2vec'\n",
    "labels = {'Introspection':None,\n",
    "          'Development':None,\n",
    "          'CLI':None,\n",
    "          'Parser':None,\n",
    "          'Server':None,\n",
    "          'Scientific/Engineering': ('Scientific', 'Engineering'),\n",
    "          'Data':None,\n",
    "          'Graphical':None,\n",
    "          'Web':None,\n",
    "          'Networking':None,\n",
    "          'Miscellaneous':None,\n",
    "          'Security':None,\n",
    "          'Testing':None}"
   ]
  },
  {
   "cell_type": "code",
   "execution_count": null,
   "outputs": [],
   "source": [
    "w2v = KeyedVectors.load_word2vec_format(\"../data/models/code2vec/token_vecs.txt\")"
   ],
   "metadata": {
    "collapsed": false,
    "pycharm": {
     "name": "#%%\n"
    }
   }
  },
  {
   "cell_type": "code",
   "execution_count": 9,
   "outputs": [],
   "source": [
    "import numpy as np\n",
    "embeddings = {}\n",
    "for x in labels:\n",
    "    if labels[x]:\n",
    "        mean = []\n",
    "        for k in labels[x]:\n",
    "            mean.append(w2v[k.lower()])\n",
    "        vector = np.mean(mean, axis=0)\n",
    "    else:\n",
    "        vector = w2v[x.lower()]\n",
    "\n",
    "    embeddings[x] = vector"
   ],
   "metadata": {
    "collapsed": false,
    "pycharm": {
     "name": "#%%\n"
    }
   }
  },
  {
   "cell_type": "code",
   "execution_count": 13,
   "outputs": [],
   "source": [
    "with open('label_embedding.vec', 'wt', encoding='utf8') as outf:\n",
    "    for word in embeddings:\n",
    "        vector = list(embeddings[word])\n",
    "        vec = \" \".join([str(x) for x in vector])\n",
    "        outf.write(f'{word} {vec}\\n')"
   ],
   "metadata": {
    "collapsed": false,
    "pycharm": {
     "name": "#%%\n"
    }
   }
  },
  {
   "cell_type": "code",
   "execution_count": null,
   "outputs": [],
   "source": [],
   "metadata": {
    "collapsed": false,
    "pycharm": {
     "name": "#%%\n"
    }
   }
  }
 ],
 "metadata": {
  "kernelspec": {
   "display_name": "Python 3",
   "language": "python",
   "name": "python3"
  },
  "language_info": {
   "codemirror_mode": {
    "name": "ipython",
    "version": 2
   },
   "file_extension": ".py",
   "mimetype": "text/x-python",
   "name": "python",
   "nbconvert_exporter": "python",
   "pygments_lexer": "ipython2",
   "version": "2.7.6"
  }
 },
 "nbformat": 4,
 "nbformat_minor": 0
}