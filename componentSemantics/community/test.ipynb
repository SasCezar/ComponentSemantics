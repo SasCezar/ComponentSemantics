{
 "cells": [
  {
   "cell_type": "code",
   "execution_count": 1,
   "metadata": {
    "collapsed": true
   },
   "outputs": [],
   "source": [
    "import glob\n",
    "import os\n",
    "import shutil\n",
    "import igraph\n",
    "import numpy as np\n",
    "from collections import Counter\n",
    "import spacy\n",
    "import re\n",
    "from tqdm import tqdm"
   ]
  },
  {
   "cell_type": "code",
   "execution_count": 2,
   "outputs": [
    {
     "name": "stdout",
     "output_type": "stream",
     "text": [
      "54143\n",
      "6774\n",
      "30945\n",
      "3901\n"
     ]
    }
   ],
   "source": [
    "project = \"elasticsearch\"\n",
    "filepath = glob.glob(f\"../../data/projects/arcanOutput/{project}/dep-graph-*.graphml\")[0]\n",
    "\n",
    "graph = igraph.Graph.Read_GraphML(filepath)\n",
    "print(len(graph.es))\n",
    "print(len(graph.vs))\n",
    "\n",
    "delete = [x.index for x in graph.vs if \"$\" in x['name']]\n",
    "graph.delete_vertices(delete)\n",
    "graph.es.select(labelE='isChildOf').delete()\n",
    "graph.es.select(labelE='isImplementationOf').delete()\n",
    "graph.es.select(labelE='nestedTo').delete()\n",
    "graph.es.select(labelE='belongsTo').delete()\n",
    "graph.es.select(labelE='implementedBy').delete()\n",
    "graph.es.select(labelE='definedBy').delete()\n",
    "\n",
    "graph.vs.select(_degree=0).delete()\n",
    "print(len(graph.es))\n",
    "print(len(graph.vs))"
   ],
   "metadata": {
    "collapsed": false,
    "pycharm": {
     "name": "#%%\n"
    }
   }
  },
  {
   "cell_type": "code",
   "execution_count": 3,
   "outputs": [],
   "source": [
    "communities_info = graph.community_infomap()"
   ],
   "metadata": {
    "collapsed": false,
    "pycharm": {
     "name": "#%%\n"
    }
   }
  },
  {
   "cell_type": "code",
   "execution_count": 4,
   "outputs": [
    {
     "data": {
      "text/plain": "249"
     },
     "execution_count": 4,
     "metadata": {},
     "output_type": "execute_result"
    }
   ],
   "source": [
    "len(set(communities_info.membership))\n"
   ],
   "metadata": {
    "collapsed": false,
    "pycharm": {
     "name": "#%%\n"
    }
   }
  },
  {
   "cell_type": "code",
   "execution_count": 8,
   "outputs": [
    {
     "name": "stdout",
     "output_type": "stream",
     "text": [
      "0.535410350341681\n"
     ]
    }
   ],
   "source": [
    "import leidenalg\n",
    "\n",
    "communities_leiden = leidenalg.find_partition(graph, leidenalg.ModularityVertexPartition)\n",
    "print(communities_leiden.quality())\n",
    "\n",
    "graph.vs['infomap'] = communities_info.membership\n",
    "graph.vs['leiden'] = communities_leiden.membership"
   ],
   "metadata": {
    "collapsed": false,
    "pycharm": {
     "name": "#%%%\n"
    }
   }
  },
  {
   "cell_type": "code",
   "execution_count": 11,
   "outputs": [],
   "source": [
    "#graph.write_graphml(f\"{project}_communities.graphml\")"
   ],
   "metadata": {
    "collapsed": false,
    "pycharm": {
     "name": "#%%\n"
    }
   }
  },
  {
   "cell_type": "code",
   "execution_count": 12,
   "outputs": [],
   "source": [
    "visual_style = {}\n",
    "layout = graph.layout_fruchterman_reingold()\n",
    "visual_style[\"vertex_size\"] = 20\n",
    "visual_style[\"vertex_label\"] = graph.vs[\"name\"]\n",
    "graph.es[\"label\"] = graph.es[\"labelE\"]\n",
    "\n",
    "visual_style[\"layout\"] = layout\n",
    "visual_style[\"bbox\"] = (10000, 10000)\n",
    "visual_style[\"margin\"] = 20"
   ],
   "metadata": {
    "collapsed": false,
    "pycharm": {
     "name": "#%%\n"
    }
   }
  },
  {
   "cell_type": "code",
   "execution_count": 13,
   "outputs": [],
   "source": [
    "def plot_graph(graph, method, visual_style):\n",
    "    pal = igraph.drawing.colors.ClusterColoringPalette(len(set(graph.vs[method])))\n",
    "    graph.vs['color'] = pal.get_many(graph.vs[method])\n",
    "    print(os.path.join(*[method, project, \"community.pdf\"]))\n",
    "    igraph.plot(graph, os.path.join(*[method, project, \"community.pdf\"]), **visual_style)"
   ],
   "metadata": {
    "collapsed": false,
    "pycharm": {
     "name": "#%%\n"
    }
   }
  },
  {
   "cell_type": "code",
   "execution_count": 14,
   "outputs": [],
   "source": [
    "def folder(method, project):\n",
    "    if not os.path.exists(method):\n",
    "        os.makedirs(method)\n",
    "\n",
    "    project_path = os.path.join(method, project)\n",
    "    if not os.path.exists(project_path):\n",
    "        #shutil.rmtree(project_path)\n",
    "\n",
    "        os.makedirs(project_path)"
   ],
   "metadata": {
    "collapsed": false,
    "pycharm": {
     "name": "#%%\n"
    }
   }
  },
  {
   "cell_type": "code",
   "execution_count": 16,
   "outputs": [
    {
     "name": "stdout",
     "output_type": "stream",
     "text": [
      "infomap/elasticsearch/community.pdf\n"
     ]
    }
   ],
   "source": [
    "method = \"infomap\"\n",
    "folder(method, project)\n",
    "plot_graph(graph, method, visual_style)"
   ],
   "metadata": {
    "collapsed": false,
    "pycharm": {
     "name": "#%%\n"
    }
   }
  },
  {
   "cell_type": "code",
   "execution_count": 17,
   "outputs": [
    {
     "name": "stdout",
     "output_type": "stream",
     "text": [
      "leiden/elasticsearch/community.pdf\n",
      "{'unitIsAfferentOf', 'dependsOn', 'containerIsAfferentOf'}\n"
     ]
    }
   ],
   "source": [
    "method = \"leiden\"\n",
    "folder(method, project)\n",
    "plot_graph(graph, method, visual_style)#%%\n",
    "\n",
    "\n",
    "print(set(graph.es[\"labelE\"]))"
   ],
   "metadata": {
    "collapsed": false,
    "pycharm": {
     "name": "#%%\n"
    }
   }
  },
  {
   "cell_type": "code",
   "execution_count": 18,
   "outputs": [],
   "source": [
    "def extract_community_dependency(graph, method):\n",
    "    counter = Counter()\n",
    "    total = 0\n",
    "    connected = set()\n",
    "    for edge in graph.es:\n",
    "        source_vertex = graph.vs[edge.source]\n",
    "        target_vertex = graph.vs[edge.target]\n",
    "        source_community = source_vertex[method]\n",
    "        target_community = target_vertex[method]\n",
    "        if source_community != target_community:\n",
    "            total += 1\n",
    "            counter[(source_community, target_community)] += 1\n",
    "            connected.add(source_community)\n",
    "            connected.add(target_community)\n",
    "\n",
    "        # using get_eid() you can do the opposite:\n",
    "        #same_edge_id = graph.get_eid(source_vertex_id, target_vertex_id)\n",
    "        #same_edge = graph.es[same_edge_id]\n",
    "        # by .index you get the id from the Vertex or Edge object:\n",
    "        #source_vertex.index == source_vertex_id\n",
    "        # True\n",
    "        #edge.index == same_edge_id\n",
    "        # True\n",
    "    return counter, total, connected\n"
   ],
   "metadata": {
    "collapsed": false,
    "pycharm": {
     "name": "#%%\n"
    }
   }
  },
  {
   "cell_type": "code",
   "execution_count": 20,
   "outputs": [
    {
     "name": "stdout",
     "output_type": "stream",
     "text": [
      "17742\n",
      "[((32, 15), 522), ((22, 18), 307), ((32, 13), 222), ((30, 15), 201), ((22, 15), 199), ((22, 30), 195), ((20, 15), 190), ((32, 20), 177), ((32, 81), 169), ((53, 15), 166), ((32, 69), 160), ((22, 40), 155), ((32, 53), 141), ((49, 32), 139), ((69, 32), 139), ((18, 15), 134), ((20, 13), 134), ((18, 22), 132), ((49, 13), 130), ((15, 13), 122), ((49, 15), 119), ((34, 15), 112), ((53, 32), 111), ((77, 32), 105), ((69, 15), 100), ((49, 39), 100), ((32, 30), 97), ((30, 22), 95), ((32, 71), 94), ((39, 15), 91), ((49, 47), 88), ((77, 15), 86), ((24, 15), 86), ((20, 32), 83), ((32, 105), 83), ((3, 13), 83), ((34, 32), 81), ((32, 47), 78), ((30, 14), 77), ((69, 13), 67), ((30, 13), 66), ((53, 13), 66), ((49, 34), 65), ((30, 32), 65), ((52, 15), 63), ((18, 13), 62), ((24, 32), 61), ((49, 11), 61), ((30, 20), 61), ((30, 18), 61), ((9, 15), 57), ((49, 52), 57), ((14, 13), 56), ((13, 3), 56), ((0, 3), 55), ((22, 13), 54), ((32, 11), 53), ((32, 39), 53), ((17, 30), 52), ((10, 16), 51), ((65, 18), 49), ((69, 53), 45), ((49, 20), 43), ((11, 15), 43), ((49, 53), 43), ((31, 15), 43), ((22, 8), 43), ((39, 13), 43), ((66, 15), 42), ((66, 32), 42), ((130, 15), 42), ((30, 47), 41), ((34, 13), 41), ((59, 15), 39), ((34, 20), 38), ((32, 34), 38), ((30, 150), 38), ((53, 20), 38), ((71, 15), 37), ((24, 13), 37), ((32, 52), 36), ((81, 15), 36), ((44, 15), 36), ((17, 15), 35), ((92, 15), 35), ((22, 20), 34), ((24, 30), 34), ((54, 15), 34), ((65, 22), 34), ((3, 0), 34), ((78, 15), 33), ((53, 81), 33), ((24, 71), 33), ((52, 3), 32), ((24, 31), 32), ((17, 22), 31), ((32, 77), 31), ((20, 53), 31), ((65, 3), 31), ((11, 13), 31)]\n",
      "[((32, 15), 0.029421711193777476), ((22, 18), 0.01730357344155112), ((32, 13), 0.012512681772066284), ((30, 15), 0.0113290497125465), ((22, 15), 0.011216322849735092), ((22, 30), 0.010990869124112276), ((20, 15), 0.010709051967083756), ((32, 20), 0.009976327358809604), ((32, 81), 0.009525419907563972), ((53, 15), 0.009356329613346861), ((32, 69), 0.009018149024912638), ((22, 40), 0.008736331867884117), ((32, 53), 0.007947243828204262), ((49, 32), 0.007834516965392854), ((69, 32), 0.007834516965392854), ((18, 15), 0.007552699808364333), ((20, 13), 0.007552699808364333), ((18, 22), 0.0074399729455529254), ((49, 13), 0.0073272460827415176), ((15, 13), 0.006876338631495885), ((49, 15), 0.006707248337278773), ((34, 15), 0.006312704317438846), ((53, 32), 0.006256340886033142), ((77, 32), 0.005918160297598918), ((69, 15), 0.005636343140570398), ((49, 39), 0.005636343140570398), ((32, 30), 0.005467252846353286), ((30, 22), 0.005354525983541878), ((32, 71), 0.005298162552136174), ((39, 15), 0.005129072257919062), ((49, 47), 0.00495998196370195), ((77, 15), 0.004847255100890542), ((24, 15), 0.004847255100890542), ((20, 32), 0.004678164806673431), ((32, 105), 0.004678164806673431), ((3, 13), 0.004678164806673431), ((34, 32), 0.004565437943862023), ((32, 47), 0.00439634764964491), ((30, 14), 0.004339984218239206), ((69, 13), 0.0037763499041821667), ((30, 13), 0.0037199864727764627), ((53, 13), 0.0037199864727764627), ((49, 34), 0.0036636230413707588), ((30, 32), 0.0036636230413707588), ((52, 15), 0.003550896178559351), ((18, 13), 0.0034945327471536465), ((24, 32), 0.0034381693157479426), ((49, 11), 0.0034381693157479426), ((30, 20), 0.0034381693157479426), ((30, 18), 0.0034381693157479426), ((9, 15), 0.003212715590125127), ((49, 52), 0.003212715590125127), ((14, 13), 0.003156352158719423), ((13, 3), 0.003156352158719423), ((0, 3), 0.003099988727313719), ((22, 13), 0.003043625295908015), ((32, 11), 0.002987261864502311), ((32, 39), 0.002987261864502311), ((17, 30), 0.002930898433096607), ((10, 16), 0.0028745350016909027), ((65, 18), 0.002761808138879495), ((69, 53), 0.002536354413256679), ((49, 20), 0.002423627550445271), ((11, 15), 0.002423627550445271), ((49, 53), 0.002423627550445271), ((31, 15), 0.002423627550445271), ((22, 8), 0.002423627550445271), ((39, 13), 0.002423627550445271), ((66, 15), 0.0023672641190395673), ((66, 32), 0.0023672641190395673), ((130, 15), 0.0023672641190395673), ((30, 47), 0.0023109006876338633), ((34, 13), 0.0023109006876338633), ((59, 15), 0.002198173824822455), ((34, 20), 0.002141810393416751), ((32, 34), 0.002141810393416751), ((30, 150), 0.002141810393416751), ((53, 20), 0.002141810393416751), ((71, 15), 0.002085446962011047), ((24, 13), 0.002085446962011047), ((32, 52), 0.002029083530605343), ((81, 15), 0.002029083530605343), ((44, 15), 0.002029083530605343), ((17, 15), 0.0019727200991996392), ((92, 15), 0.0019727200991996392), ((22, 20), 0.0019163566677939353), ((24, 30), 0.0019163566677939353), ((54, 15), 0.0019163566677939353), ((65, 22), 0.0019163566677939353), ((3, 0), 0.0019163566677939353), ((78, 15), 0.0018599932363882314), ((53, 81), 0.0018599932363882314), ((24, 71), 0.0018599932363882314), ((52, 3), 0.0018036298049825274), ((24, 31), 0.0018036298049825274), ((17, 22), 0.0017472663735768233), ((32, 77), 0.0017472663735768233), ((20, 53), 0.0017472663735768233), ((65, 3), 0.0017472663735768233), ((11, 13), 0.0017472663735768233), ((66, 13), 0.0017472663735768233), ((3, 47), 0.0016909029421711193), ((51, 15), 0.0016909029421711193), ((60, 15), 0.0016909029421711193), ((197, 15), 0.0016909029421711193), ((81, 13), 0.0016909029421711193), ((30, 8), 0.0016345395107654154), ((49, 176), 0.0016345395107654154), ((96, 39), 0.0016345395107654154), ((9, 13), 0.0016345395107654154), ((77, 20), 0.0015781760793597114), ((30, 86), 0.0015781760793597114), ((52, 39), 0.0015781760793597114), ((51, 32), 0.0015781760793597114), ((33, 15), 0.0015781760793597114), ((8, 15), 0.0015218126479540075), ((22, 57), 0.0015218126479540075), ((25, 22), 0.0015218126479540075), ((8, 13), 0.0015218126479540075), ((32, 49), 0.0014654492165483036), ((123, 3), 0.0014654492165483036), ((176, 15), 0.0014654492165483036), ((9, 32), 0.0014654492165483036), ((22, 25), 0.0014654492165483036), ((24, 53), 0.0014654492165483036), ((47, 13), 0.0014654492165483036), ((32, 24), 0.0014090857851425994), ((49, 71), 0.0014090857851425994), ((32, 176), 0.0013527223537368955), ((49, 81), 0.0013527223537368955), ((214, 18), 0.0013527223537368955), ((145, 32), 0.0013527223537368955), ((52, 13), 0.0013527223537368955), ((30, 17), 0.0012963589223311915), ((32, 74), 0.0012963589223311915), ((8, 30), 0.0012963589223311915), ((92, 32), 0.0012963589223311915), ((77, 13), 0.0012963589223311915), ((3, 27), 0.0012399954909254876), ((32, 54), 0.0012399954909254876), ((170, 15), 0.0012399954909254876), ((71, 13), 0.0012399954909254876), ((32, 40), 0.0011836320595197836), ((31, 30), 0.0011836320595197836), ((51, 20), 0.0011836320595197836), ((9, 20), 0.0011836320595197836), ((49, 130), 0.0011836320595197836), ((34, 81), 0.0011836320595197836), ((22, 14), 0.0011836320595197836), ((116, 15), 0.0011836320595197836), ((164, 30), 0.0011836320595197836), ((15, 47), 0.0011272686281140797), ((20, 47), 0.0011272686281140797), ((24, 33), 0.0011272686281140797), ((24, 22), 0.0011272686281140797), ((103, 15), 0.0011272686281140797), ((34, 39), 0.0011272686281140797), ((104, 15), 0.0011272686281140797), ((50, 3), 0.0011272686281140797), ((96, 11), 0.0011272686281140797), ((0, 13), 0.0011272686281140797), ((34, 47), 0.0010709051967083755), ((32, 60), 0.0010709051967083755), ((32, 61), 0.0010709051967083755), ((32, 96), 0.0010709051967083755), ((24, 52), 0.0010709051967083755), ((32, 169), 0.0010709051967083755), ((34, 30), 0.0010709051967083755), ((25, 40), 0.0010709051967083755), ((17, 13), 0.0010709051967083755), ((40, 13), 0.0010709051967083755), ((185, 15), 0.0010145417653026716), ((44, 30), 0.0010145417653026716), ((78, 13), 0.0010145417653026716), ((69, 20), 0.0009581783338969677), ((39, 47), 0.0009581783338969677), ((32, 9), 0.0009581783338969677), ((143, 15), 0.0009581783338969677), ((150, 15), 0.0009581783338969677), ((150, 66), 0.0009581783338969677), ((53, 47), 0.0009581783338969677), ((22, 24), 0.0009581783338969677), ((49, 143), 0.0009581783338969677), ((79, 15), 0.0009581783338969677), ((59, 40), 0.0009581783338969677), ((53, 49), 0.0009581783338969677), ((125, 3), 0.0009581783338969677), ((25, 13), 0.0009581783338969677), ((60, 13), 0.0009581783338969677), ((15, 32), 0.0009018149024912637), ((77, 47), 0.0009018149024912637), ((52, 32), 0.0009018149024912637), ((32, 150), 0.0009018149024912637), ((145, 15), 0.0009018149024912637), ((31, 22), 0.0009018149024912637), ((48, 15), 0.0009018149024912637), ((211, 18), 0.0009018149024912637), ((21, 30), 0.0009018149024912637), ((53, 71), 0.0009018149024912637), ((49, 109), 0.0009018149024912637), ((176, 13), 0.0009018149024912637), ((197, 13), 0.0009018149024912637), ((22, 37), 0.0008454514710855597), ((11, 81), 0.0008454514710855597), ((45, 15), 0.0008454514710855597), ((52, 47), 0.0008454514710855597), ((32, 51), 0.0008454514710855597), ((93, 15), 0.0008454514710855597), ((197, 32), 0.0008454514710855597), ((49, 92), 0.0008454514710855597), ((141, 15), 0.0008454514710855597), ((49, 31), 0.0008454514710855597), ((53, 60), 0.0008454514710855597), ((44, 13), 0.0008454514710855597), ((11, 3), 0.0008454514710855597), ((185, 13), 0.0008454514710855597), ((45, 20), 0.0007890880396798557), ((167, 15), 0.0007890880396798557), ((193, 15), 0.0007890880396798557), ((30, 25), 0.0007890880396798557), ((74, 15), 0.0007890880396798557), ((74, 30), 0.0007890880396798557), ((112, 15), 0.0007890880396798557), ((139, 15), 0.0007890880396798557), ((30, 52), 0.0007890880396798557), ((32, 145), 0.0007890880396798557), ((212, 15), 0.0007890880396798557), ((65, 34), 0.0007890880396798557), ((31, 13), 0.0007890880396798557), ((34, 49), 0.0007327246082741518), ((159, 15), 0.0007327246082741518), ((30, 78), 0.0007327246082741518), ((32, 167), 0.0007327246082741518), ((32, 68), 0.0007327246082741518), ((20, 9), 0.0007327246082741518), ((24, 18), 0.0007327246082741518), ((31, 32), 0.0007327246082741518), ((24, 20), 0.0007327246082741518), ((74, 32), 0.0007327246082741518), ((30, 26), 0.0007327246082741518), ((196, 15), 0.0007327246082741518), ((18, 214), 0.0007327246082741518), ((226, 15), 0.0007327246082741518), ((49, 235), 0.0007327246082741518), ((21, 15), 0.0007327246082741518), ((44, 14), 0.0007327246082741518), ((32, 103), 0.0007327246082741518), ((220, 15), 0.0007327246082741518), ((92, 13), 0.0007327246082741518)]\n"
     ]
    }
   ],
   "source": [
    "method = \"infomap\"\n",
    "counter, total = extract_community_dependency(graph, method)\n",
    "n_count = [(x, y/total) for x, y in counter.most_common(len(set(graph.vs[method])))]\n",
    "print(total)\n",
    "print(counter.most_common(100))\n",
    "print(n_count)"
   ],
   "metadata": {
    "collapsed": false,
    "pycharm": {
     "name": "#%%\n"
    }
   }
  },
  {
   "cell_type": "code",
   "execution_count": 21,
   "outputs": [
    {
     "name": "stdout",
     "output_type": "stream",
     "text": [
      "9607\n",
      "[((1, 4), 1352), ((3, 4), 665), ((3, 1), 634), ((1, 3), 571), ((4, 1), 557), ((2, 5), 445), ((5, 4), 437), ((2, 4), 384), ((0, 3), 247), ((5, 2), 211), ((6, 4), 210), ((6, 1), 203), ((3, 0), 202), ((5, 1), 186), ((6, 5), 155), ((0, 4), 153), ((4, 5), 142), ((1, 5), 133), ((9, 1), 115), ((3, 5), 109), ((0, 1), 106), ((4, 3), 103), ((9, 4), 99), ((1, 0), 92), ((7, 1), 88), ((2, 1), 84), ((6, 2), 82), ((1, 6), 80), ((3, 9), 80), ((1, 7), 78), ((5, 3), 77), ((1, 9), 74), ((3, 6), 72), ((5, 6), 71), ((6, 3), 71), ((2, 0), 69), ((4, 0), 68), ((1, 2), 61), ((7, 4), 60), ((0, 5), 59), ((5, 9), 58), ((5, 0), 56), ((4, 2), 52), ((10, 1), 50), ((10, 4), 45), ((2, 6), 43), ((0, 2), 41), ((2, 3), 41), ((4, 9), 40), ((9, 2), 35), ((5, 7), 35), ((0, 9), 34), ((11, 4), 32), ((6, 0), 28), ((9, 3), 24), ((0, 6), 23), ((4, 6), 22), ((9, 0), 22), ((10, 5), 19), ((7, 5), 17), ((4, 7), 14), ((10, 3), 14), ((3, 10), 14), ((1, 8), 13), ((11, 5), 12), ((1, 10), 11), ((2, 9), 10), ((6, 9), 9), ((3, 2), 9), ((8, 1), 8), ((5, 10), 8), ((10, 9), 6), ((11, 2), 6), ((8, 0), 5), ((5, 11), 5), ((10, 7), 5), ((7, 9), 5), ((3, 7), 5), ((7, 0), 5), ((10, 0), 5), ((7, 8), 4), ((11, 1), 3), ((9, 6), 3), ((0, 7), 3), ((0, 8), 3), ((7, 2), 3), ((7, 3), 2), ((4, 10), 2), ((9, 7), 2), ((2, 11), 2), ((5, 8), 2), ((9, 5), 2), ((3, 8), 2), ((4, 8), 2), ((11, 6), 1)]\n",
      "[((1, 4), 0.14073071718538566), ((3, 4), 0.06922036015405433), ((3, 1), 0.06599354637243676), ((1, 3), 0.05943582804205267), ((4, 1), 0.05797855730196731), ((2, 5), 0.04632039138128448), ((5, 4), 0.04548766524409285), ((2, 4), 0.03997085458519829), ((0, 3), 0.02571041948579161), ((5, 2), 0.02196315186842927), ((6, 4), 0.021859061101280317), ((6, 1), 0.021130425731237638)]\n"
     ]
    }
   ],
   "source": [
    "method = \"leiden\"\n",
    "counter, total = extract_community_dependency(graph, method)\n",
    "n_count = [(x, y/total) for x, y in counter.most_common(len(set(graph.vs[method])))]\n",
    "print(total)\n",
    "print(counter.most_common(100))\n",
    "print(n_count)"
   ],
   "metadata": {
    "collapsed": false,
    "pycharm": {
     "name": "#%%\n"
    }
   }
  },
  {
   "cell_type": "code",
   "execution_count": 22,
   "outputs": [],
   "source": [
    "def get_intersection_matrix(comm_members_1, comm_members_2):\n",
    "    clusters_number = len(set(comm_members_1.values()))\n",
    "    ground_clusters_number = len(set(comm_members_2.values()))\n",
    "\n",
    "    clusters_members = {}\n",
    "    for pedestrian_id in comm_members_1:\n",
    "        cluster_number = comm_members_1[pedestrian_id]\n",
    "        clusters_members[cluster_number] = clusters_members[cluster_number] + [\n",
    "            pedestrian_id] if cluster_number in clusters_members else [pedestrian_id]\n",
    "\n",
    "    ground_clusters_members = {}\n",
    "    for pedestrian_id in comm_members_2:\n",
    "        cluster_number = comm_members_2[pedestrian_id]\n",
    "        ground_clusters_members[cluster_number] = ground_clusters_members[cluster_number] + [\n",
    "            pedestrian_id] if cluster_number in ground_clusters_members else [pedestrian_id]\n",
    "\n",
    "    intersection_count = np.zeros(shape=(ground_clusters_number, clusters_number))\n",
    "\n",
    "    for ground_key in ground_clusters_members:\n",
    "        for cluster_key in clusters_members:\n",
    "            a = ground_clusters_members[ground_key]\n",
    "            b = clusters_members[cluster_key]\n",
    "            intersection = list(set(a) & set(b))\n",
    "            intersection_count[ground_key, cluster_key] = len(intersection)\n",
    "\n",
    "    return intersection_count\n",
    "\n",
    "def equivalence_classes(confusion_matrix):\n",
    "    return [(i, v) for i, v in enumerate(np.argmax(confusion_matrix, axis=0))]"
   ],
   "metadata": {
    "collapsed": false,
    "pycharm": {
     "name": "#%%\n"
    }
   }
  },
  {
   "cell_type": "code",
   "execution_count": 23,
   "outputs": [],
   "source": [
    "comm_info_dict = {k: v for k, v in enumerate(communities_info.membership)}\n",
    "comm_leiden_dict = {k: v for k, v in enumerate(communities_leiden.membership)}\n"
   ],
   "metadata": {
    "collapsed": false,
    "pycharm": {
     "name": "#%%\n"
    }
   }
  },
  {
   "cell_type": "code",
   "execution_count": 25,
   "outputs": [
    {
     "name": "stdout",
     "output_type": "stream",
     "text": [
      "[(0, 0), (1, 2), (2, 1), (3, 3), (4, 4), (5, 5), (6, 4), (7, 6), (8, 8), (9, 7), (10, 0), (11, 9), (12, 11), (13, 7), (14, 0)]\n"
     ]
    }
   ],
   "source": [
    "int_matrix = get_intersection_matrix(comm_info_dict, comm_leiden_dict)\n",
    "equiv_classes = equivalence_classes(int_matrix)\n",
    "print(equiv_classes)"
   ],
   "metadata": {
    "collapsed": false,
    "pycharm": {
     "name": "#%%\n"
    }
   }
  },
  {
   "cell_type": "code",
   "execution_count": 26,
   "outputs": [],
   "source": [
    "def get_subgraph(graph:igraph.Graph, method):\n",
    "    for i in set(graph.vs[method]):\n",
    "        ids = [x.index for x in graph.vs if x[method] == i]\n",
    "        comm = graph.subgraph(ids)\n",
    "        yield comm\n",
    "        #comm.write_graphml(os.path.join(project_path, f\"comm_{i}.graphml\"))\n",
    "\n",
    "subgraphs = list(get_subgraph(graph, \"leiden\"))"
   ],
   "metadata": {
    "collapsed": false,
    "pycharm": {
     "name": "#%%\n"
    }
   }
  },
  {
   "cell_type": "code",
   "execution_count": 27,
   "outputs": [
    {
     "ename": "OSError",
     "evalue": "[E050] Can't find model 'en_trf_bertbaseuncased_lg'. It doesn't seem to be a shortcut link, a Python package or a valid path to a data directory.",
     "output_type": "error",
     "traceback": [
      "\u001B[0;31m---------------------------------------------------------------------------\u001B[0m",
      "\u001B[0;31mOSError\u001B[0m                                   Traceback (most recent call last)",
      "\u001B[0;32m<ipython-input-27-34c2559d27aa>\u001B[0m in \u001B[0;36m<module>\u001B[0;34m\u001B[0m\n\u001B[0;32m----> 1\u001B[0;31m \u001B[0mnlp\u001B[0m \u001B[0;34m=\u001B[0m \u001B[0mspacy\u001B[0m\u001B[0;34m.\u001B[0m\u001B[0mload\u001B[0m\u001B[0;34m(\u001B[0m\u001B[0;34m\"en_trf_bertbaseuncased_lg\"\u001B[0m\u001B[0;34m)\u001B[0m\u001B[0;34m\u001B[0m\u001B[0;34m\u001B[0m\u001B[0m\n\u001B[0m\u001B[1;32m      2\u001B[0m \u001B[0;32mdef\u001B[0m \u001B[0msplit_camel\u001B[0m\u001B[0;34m(\u001B[0m\u001B[0mname\u001B[0m\u001B[0;34m)\u001B[0m\u001B[0;34m:\u001B[0m\u001B[0;34m\u001B[0m\u001B[0;34m\u001B[0m\u001B[0m\n\u001B[1;32m      3\u001B[0m     \u001B[0msplitted\u001B[0m \u001B[0;34m=\u001B[0m \u001B[0mre\u001B[0m\u001B[0;34m.\u001B[0m\u001B[0msub\u001B[0m\u001B[0;34m(\u001B[0m\u001B[0;34m'([A-Z][a-z]+)|_'\u001B[0m\u001B[0;34m,\u001B[0m \u001B[0;34mr' \\1'\u001B[0m\u001B[0;34m,\u001B[0m \u001B[0mre\u001B[0m\u001B[0;34m.\u001B[0m\u001B[0msub\u001B[0m\u001B[0;34m(\u001B[0m\u001B[0;34m'([A-Z]+)'\u001B[0m\u001B[0;34m,\u001B[0m \u001B[0;34mr' \\1'\u001B[0m\u001B[0;34m,\u001B[0m \u001B[0mname\u001B[0m\u001B[0;34m)\u001B[0m\u001B[0;34m)\u001B[0m\u001B[0;34m.\u001B[0m\u001B[0msplit\u001B[0m\u001B[0;34m(\u001B[0m\u001B[0;34m)\u001B[0m\u001B[0;34m\u001B[0m\u001B[0;34m\u001B[0m\u001B[0m\n\u001B[1;32m      4\u001B[0m     \u001B[0;32mreturn\u001B[0m \u001B[0msplitted\u001B[0m\u001B[0;34m\u001B[0m\u001B[0;34m\u001B[0m\u001B[0m\n\u001B[1;32m      5\u001B[0m \u001B[0;34m\u001B[0m\u001B[0m\n",
      "\u001B[0;32m~/anaconda3/envs/sGNN/lib/python3.8/site-packages/spacy/__init__.py\u001B[0m in \u001B[0;36mload\u001B[0;34m(name, **overrides)\u001B[0m\n\u001B[1;32m     28\u001B[0m     \u001B[0;32mif\u001B[0m \u001B[0mdepr_path\u001B[0m \u001B[0;32mnot\u001B[0m \u001B[0;32min\u001B[0m \u001B[0;34m(\u001B[0m\u001B[0;32mTrue\u001B[0m\u001B[0;34m,\u001B[0m \u001B[0;32mFalse\u001B[0m\u001B[0;34m,\u001B[0m \u001B[0;32mNone\u001B[0m\u001B[0;34m)\u001B[0m\u001B[0;34m:\u001B[0m\u001B[0;34m\u001B[0m\u001B[0;34m\u001B[0m\u001B[0m\n\u001B[1;32m     29\u001B[0m         \u001B[0mwarnings\u001B[0m\u001B[0;34m.\u001B[0m\u001B[0mwarn\u001B[0m\u001B[0;34m(\u001B[0m\u001B[0mWarnings\u001B[0m\u001B[0;34m.\u001B[0m\u001B[0mW001\u001B[0m\u001B[0;34m.\u001B[0m\u001B[0mformat\u001B[0m\u001B[0;34m(\u001B[0m\u001B[0mpath\u001B[0m\u001B[0;34m=\u001B[0m\u001B[0mdepr_path\u001B[0m\u001B[0;34m)\u001B[0m\u001B[0;34m,\u001B[0m \u001B[0mDeprecationWarning\u001B[0m\u001B[0;34m)\u001B[0m\u001B[0;34m\u001B[0m\u001B[0;34m\u001B[0m\u001B[0m\n\u001B[0;32m---> 30\u001B[0;31m     \u001B[0;32mreturn\u001B[0m \u001B[0mutil\u001B[0m\u001B[0;34m.\u001B[0m\u001B[0mload_model\u001B[0m\u001B[0;34m(\u001B[0m\u001B[0mname\u001B[0m\u001B[0;34m,\u001B[0m \u001B[0;34m**\u001B[0m\u001B[0moverrides\u001B[0m\u001B[0;34m)\u001B[0m\u001B[0;34m\u001B[0m\u001B[0;34m\u001B[0m\u001B[0m\n\u001B[0m\u001B[1;32m     31\u001B[0m \u001B[0;34m\u001B[0m\u001B[0m\n\u001B[1;32m     32\u001B[0m \u001B[0;34m\u001B[0m\u001B[0m\n",
      "\u001B[0;32m~/anaconda3/envs/sGNN/lib/python3.8/site-packages/spacy/util.py\u001B[0m in \u001B[0;36mload_model\u001B[0;34m(name, **overrides)\u001B[0m\n\u001B[1;32m    173\u001B[0m     \u001B[0;32melif\u001B[0m \u001B[0mhasattr\u001B[0m\u001B[0;34m(\u001B[0m\u001B[0mname\u001B[0m\u001B[0;34m,\u001B[0m \u001B[0;34m\"exists\"\u001B[0m\u001B[0;34m)\u001B[0m\u001B[0;34m:\u001B[0m  \u001B[0;31m# Path or Path-like to model data\u001B[0m\u001B[0;34m\u001B[0m\u001B[0;34m\u001B[0m\u001B[0m\n\u001B[1;32m    174\u001B[0m         \u001B[0;32mreturn\u001B[0m \u001B[0mload_model_from_path\u001B[0m\u001B[0;34m(\u001B[0m\u001B[0mname\u001B[0m\u001B[0;34m,\u001B[0m \u001B[0;34m**\u001B[0m\u001B[0moverrides\u001B[0m\u001B[0;34m)\u001B[0m\u001B[0;34m\u001B[0m\u001B[0;34m\u001B[0m\u001B[0m\n\u001B[0;32m--> 175\u001B[0;31m     \u001B[0;32mraise\u001B[0m \u001B[0mIOError\u001B[0m\u001B[0;34m(\u001B[0m\u001B[0mErrors\u001B[0m\u001B[0;34m.\u001B[0m\u001B[0mE050\u001B[0m\u001B[0;34m.\u001B[0m\u001B[0mformat\u001B[0m\u001B[0;34m(\u001B[0m\u001B[0mname\u001B[0m\u001B[0;34m=\u001B[0m\u001B[0mname\u001B[0m\u001B[0;34m)\u001B[0m\u001B[0;34m)\u001B[0m\u001B[0;34m\u001B[0m\u001B[0;34m\u001B[0m\u001B[0m\n\u001B[0m\u001B[1;32m    176\u001B[0m \u001B[0;34m\u001B[0m\u001B[0m\n\u001B[1;32m    177\u001B[0m \u001B[0;34m\u001B[0m\u001B[0m\n",
      "\u001B[0;31mOSError\u001B[0m: [E050] Can't find model 'en_trf_bertbaseuncased_lg'. It doesn't seem to be a shortcut link, a Python package or a valid path to a data directory."
     ]
    }
   ],
   "source": [
    "nlp = spacy.load(\"en_trf_bertbaseuncased_lg\")\n",
    "def split_camel(name):\n",
    "    splitted = re.sub('([A-Z][a-z]+)|_', r' \\1', re.sub('([A-Z]+)', r' \\1', name)).split()\n",
    "    return splitted\n",
    "\n",
    "def name_to_sentence(name):\n",
    "    tokens = name.split(\".\")[2:]\n",
    "    clean = []\n",
    "    for token in tokens:\n",
    "        clean.extend(split_camel(token))\n",
    "\n",
    "    return name, \" \".join(clean).lower()\n"
   ],
   "metadata": {
    "collapsed": false,
    "pycharm": {
     "name": "#%%\n"
    }
   }
  },
  {
   "cell_type": "code",
   "execution_count": 64,
   "outputs": [],
   "source": [
    "# import scipy.sparse as sparse\n",
    "#\n",
    "# def get_coo_adj_list(subgraph):\n",
    "#     source_vertices = []\n",
    "#     target_vertices = []\n",
    "#     for edge in subgraph.es:\n",
    "#         source_vertex_id = edge.source\n",
    "#         target_vertex_id = edge.target\n",
    "#\n",
    "#         source_vertices.append(source_vertex_id)\n",
    "#         target_vertices.append(target_vertex_id)\n",
    "#\n",
    "#     coo = sparse.csr_matrix([source_vertices, target_vertices]).tocoo()\n",
    "#     return coo"
   ],
   "metadata": {
    "collapsed": false,
    "pycharm": {
     "name": "#%%\n"
    }
   }
  },
  {
   "cell_type": "code",
   "execution_count": 65,
   "outputs": [],
   "source": [
    "def get_embeddings(subgraph):\n",
    "    for node in subgraph.vs:\n",
    "        name = node['name']\n",
    "        name, clean = name_to_sentence(name)\n",
    "        # print(name, clean)\n",
    "        if not clean:\n",
    "            clean = node['name']\n",
    "        embedding = nlp(clean).vector\n",
    "        yield name, clean, embedding"
   ],
   "metadata": {
    "collapsed": false,
    "pycharm": {
     "name": "#%%\n"
    }
   }
  },
  {
   "cell_type": "code",
   "execution_count": 66,
   "outputs": [
    {
     "name": "stderr",
     "output_type": "stream",
     "text": [
      "798it [00:28, 27.95it/s]\n",
      "644it [00:22, 28.30it/s]\n",
      "614it [00:22, 27.24it/s]\n",
      "519it [00:19, 27.07it/s]\n",
      "437it [00:15, 28.22it/s]\n",
      "284it [00:09, 28.59it/s]\n",
      "184it [00:06, 29.09it/s]\n",
      "153it [00:05, 29.10it/s]\n",
      "110it [00:03, 28.91it/s]\n",
      "104it [00:03, 28.52it/s]\n",
      "54it [00:01, 29.84it/s]\n"
     ]
    }
   ],
   "source": [
    "project_path = os.path.join(method, project)\n",
    "\n",
    "for i, subgraph in enumerate(subgraphs):\n",
    "    subgraph.write_graphml(os.path.join(project_path, f\"comm_{i}.graphml\"))\n",
    "    layout = subgraph.layout_fruchterman_reingold()\n",
    "    visual_style[\"layout\"] = layout\n",
    "    igraph.plot(subgraph, os.path.join(project_path, f\"comm_{i}.pdf\"), **visual_style)\n",
    "    # coo = get_coo_adj_list(subgraph)\n",
    "\n",
    "    # sparse.save_npz(f\"{project}_{method}_comm_{i}_coo.npz\", coo)\n",
    "    print(len(subgraph.gs), len(subgraph.es))\n",
    "    embeddings = get_embeddings(subgraph)\n",
    "    with open(os.path.join(project_path, f\"comm_{i}.vec\"), \"wt\", encoding=\"utf8\") as outf:\n",
    "        for name, cleanded, embedding in tqdm(embeddings):\n",
    "            rep = \" \".join([str(x) for x in embedding.tolist()])\n",
    "            line = name +\" \" + rep + \"\\n\"\n",
    "            outf.write(line)\n",
    "            # print(name, embedding, len(embedding))"
   ],
   "metadata": {
    "collapsed": false,
    "pycharm": {
     "name": "#%%\n"
    }
   }
  },
  {
   "cell_type": "code",
   "execution_count": 67,
   "outputs": [
    {
     "data": {
      "text/plain": "'/home/sasce/PycharmProjects/SemanticGraphEmbedding/semanticGraphEmbedding/community'"
     },
     "execution_count": 67,
     "metadata": {},
     "output_type": "execute_result"
    }
   ],
   "source": [
    "import os\n",
    "os.getcwd()"
   ],
   "metadata": {
    "collapsed": false,
    "pycharm": {
     "name": "#%%\n"
    }
   }
  },
  {
   "cell_type": "code",
   "execution_count": 81,
   "outputs": [],
   "source": [
    "from sgnn.dataset import *\n",
    "dataset = DependencyCommunityDataset(\"/home/sasce/PycharmProjects/SemanticGraphEmbedding/semanticGraphEmbedding/community\")"
   ],
   "metadata": {
    "collapsed": false,
    "pycharm": {
     "name": "#%%\n"
    }
   }
  },
  {
   "cell_type": "code",
   "execution_count": 82,
   "outputs": [
    {
     "name": "stdout",
     "output_type": "stream",
     "text": [
      "tensor([[ 0,  0,  1,  ..., 94, 94, 94],\n",
      "        [72, 81,  2,  ..., 31, 47, 50]])\n",
      "tensor([[ 0,  1,  1,  2,  2,  3,  3,  3,  3,  3,  4,  4,  4,  4,  4,  4,  5,  5,\n",
      "          5,  5,  5,  5,  5,  5,  5,  5,  5,  5,  5,  6,  7,  7,  7,  7,  7,  7,\n",
      "          7,  7,  8,  8,  8,  8,  8,  8,  8,  8,  8,  8,  8,  8,  8, 10, 10, 10,\n",
      "         10, 10, 10, 10, 10, 10, 10, 10, 10, 10, 10, 10, 10, 10, 10, 11, 11, 11,\n",
      "         11, 11, 12, 12, 12, 13, 13, 14, 14, 14, 14, 15, 15, 15, 15, 16, 16, 16,\n",
      "         16, 17, 17, 18, 18, 19, 19, 20, 20, 21, 21, 21, 21, 21, 21, 21, 21, 21,\n",
      "         21, 21, 21, 21, 21, 21, 21, 21, 21, 21, 21, 21, 21, 21, 21, 22, 22, 23,\n",
      "         23, 23, 23, 24, 24, 24, 24, 24, 24, 24, 24, 24, 24, 24, 24, 24, 24, 24,\n",
      "         24, 24, 24, 24, 24, 24, 24, 24, 24, 24, 24, 24, 24, 24, 24, 24, 24, 24,\n",
      "         24, 24, 24, 24, 24, 24, 24, 25, 25, 25, 25, 26, 26, 26, 26, 27, 27, 27,\n",
      "         27, 28, 29, 29, 29, 29, 29, 29, 29, 29, 29, 29, 29, 29, 29, 29, 29, 29,\n",
      "         29, 30, 30, 30, 30, 30, 30, 30, 30, 30, 30, 30, 30, 30, 30, 31, 31, 31,\n",
      "         31, 31, 31, 31, 31, 31, 31, 31, 31, 31, 31, 31, 31, 31, 31, 31, 31, 31,\n",
      "         31, 31, 31, 31, 31, 31, 31, 31, 31, 31, 31, 31, 32, 32, 32, 33, 33, 33,\n",
      "         33, 33, 33, 33, 34, 34, 34, 34, 35, 35, 35, 35, 36, 36, 36, 36, 37, 37,\n",
      "         38, 38, 38, 38, 39, 39, 39, 39, 40, 40, 40, 40, 41, 42, 42, 42, 42, 43,\n",
      "         44, 45, 45, 45, 45, 46, 46, 46, 46, 46, 46, 46, 46, 46, 47, 47, 48, 48,\n",
      "         49, 49, 51, 51, 52, 52, 52, 52, 52, 52, 52, 52, 52, 52, 52, 52, 52, 52,\n",
      "         52, 52, 52, 52, 52, 52, 52, 52, 52, 52, 52, 53, 53, 53, 53, 53, 53, 53,\n",
      "         53, 54, 54, 54, 54, 54, 54, 54, 54, 54, 54, 54, 54, 54, 54, 54, 54, 54,\n",
      "         54, 54, 54, 54, 54, 55, 55, 55, 56, 56, 56, 56, 56, 56, 56, 56, 56, 56,\n",
      "         56, 56, 56, 56, 56, 56, 56, 56, 56, 56, 56, 56, 56, 56, 59, 59, 60, 60,\n",
      "         61, 61, 61, 61, 61, 61, 61, 61, 61, 62, 62, 63, 63, 64, 64, 64, 64, 64,\n",
      "         64, 64, 64, 64, 66, 66, 66, 66, 66, 66, 66, 66, 66, 66, 66, 67, 67, 68,\n",
      "         68, 68, 68, 69, 69, 69, 69, 70, 70, 71, 71, 71, 72, 73, 73, 73, 73, 73,\n",
      "         74, 74, 74, 75, 75, 76, 76, 76, 76, 76, 76, 76, 76, 76, 76, 76, 76, 76,\n",
      "         76, 76, 76, 76, 77, 77, 77, 77, 77, 77, 77, 77, 77, 77, 77, 77, 77, 77,\n",
      "         77, 77, 77, 77, 77, 77, 77, 77, 77, 77, 77, 79, 79, 80],\n",
      "        [58, 22, 58, 58, 65,  9, 14, 58, 61, 79,  5,  6, 14, 55, 66, 67, 11, 13,\n",
      "         14, 15, 19, 22, 39, 40, 42, 45, 47, 55, 58, 14,  5, 14, 22, 24, 61, 66,\n",
      "         68, 72,  3,  5,  6, 11, 14, 17, 22, 47, 55, 58, 59, 61, 66,  5,  6, 11,\n",
      "         12, 13, 14, 15, 18, 19, 20, 22, 39, 48, 55, 67, 70, 71, 74,  5, 14, 22,\n",
      "         39, 58,  5, 14, 74,  5, 14,  5, 22, 58, 66,  5, 14, 22, 58,  9, 28, 58,\n",
      "         69,  5, 14, 14, 48,  5, 14, 14, 48,  5, 11, 13, 14, 15, 22, 23, 25, 26,\n",
      "         27, 28, 30, 31, 32, 33, 34, 35, 36, 37, 38, 39, 63, 66, 67,  9, 78,  9,\n",
      "         28, 57, 58,  5,  6, 11, 12, 13, 14, 15, 18, 19, 20, 22, 23, 25, 26, 27,\n",
      "         28, 34, 35, 36, 37, 38, 39, 40, 41, 42, 43, 44, 45, 47, 48, 49, 50, 55,\n",
      "         57, 58, 66, 67, 70, 71, 74,  9, 28, 57, 58,  9, 28, 57, 58,  9, 28, 57,\n",
      "         58, 57,  5,  6, 13, 14, 15, 22, 41, 42, 43, 45, 52, 55, 66, 67, 72, 73,\n",
      "         74,  5, 11, 14, 15, 19, 20, 22, 33, 39, 40, 41, 58, 63, 66,  5,  6,  8,\n",
      "         11, 12, 13, 14, 15, 17, 18, 19, 20, 22, 30, 39, 41, 42, 43, 44, 45, 46,\n",
      "         47, 48, 49, 50, 51, 55, 63, 66, 67, 70, 71, 74, 22, 58, 63,  5, 14, 15,\n",
      "         22, 39, 40, 58,  9, 28, 57, 58,  9, 28, 57, 58,  9, 28, 57, 58, 14, 41,\n",
      "          9, 28, 57, 58,  5, 14, 22, 58,  5, 14, 22, 58, 14,  5, 14, 17, 79, 14,\n",
      "         14,  5, 14, 17, 79,  5, 12, 14, 19, 20, 51, 55, 66, 70,  5, 14, 20, 41,\n",
      "         14, 48,  5, 14,  3,  5,  6,  7, 11, 13, 14, 15, 19, 20, 22, 39, 41, 42,\n",
      "         45, 48, 53, 55, 59, 61, 66, 68, 72, 74, 79,  3,  6,  9, 14, 58, 61, 66,\n",
      "         79,  3,  5,  6, 11, 12, 13, 14, 15, 17, 18, 20, 22, 39, 40, 41, 48, 55,\n",
      "         67, 68, 70, 71, 74,  5, 14, 67,  5, 13, 14, 15, 22, 24, 25, 27, 28, 34,\n",
      "         35, 36, 39, 40, 41, 42, 43, 45, 48, 50, 55, 57, 66, 67, 14, 61, 24, 66,\n",
      "          9, 14, 55, 58, 59, 62, 66, 72, 75, 59, 61, 22, 58,  3,  9, 14, 16, 41,\n",
      "         58, 61, 65, 79,  6,  8, 14, 22, 28, 37, 41, 50, 55, 58, 67,  6, 14,  3,\n",
      "          9, 16, 79,  9, 28, 57, 58, 14, 41, 14, 48, 70, 61,  7, 14, 17, 42, 66,\n",
      "         12, 14, 41, 59, 61,  2,  3,  5,  6,  7, 13, 14, 16, 28, 42, 55, 59, 61,\n",
      "         64, 66, 68, 72,  5, 13, 14, 15, 22, 24, 25, 27, 28, 34, 35, 36, 39, 40,\n",
      "         41, 42, 43, 45, 48, 50, 55, 57, 58, 66, 67,  9, 58, 58]])\n",
      "tensor([[0, 0, 1],\n",
      "        [1, 2, 2]])\n",
      "tensor([[ 1,  1,  1,  1,  1,  1,  1,  1,  1,  1,  1,  1,  1,  1,  1,  1,  1,  1,\n",
      "          1,  1,  1,  1,  1,  1,  1,  1,  1,  1,  1,  1,  1,  1,  2,  4,  4,  4,\n",
      "          5,  5,  5,  6,  6,  6,  7,  7,  7,  8,  8,  8,  9,  9,  9, 10, 10, 10,\n",
      "         11, 11, 11, 12, 12, 12, 13, 13, 13, 14, 14, 14, 15, 15, 15, 16, 16, 16,\n",
      "         17, 17, 17, 18, 18, 18, 19, 19, 19, 20, 20, 20, 21, 21, 21, 22, 22, 22,\n",
      "         23, 23, 23, 24, 24, 24, 25, 25, 25, 26, 26, 26, 27, 27, 27, 28, 28, 28,\n",
      "         29, 29, 29, 30, 30, 30, 31, 31, 31, 32, 32, 32, 33, 33, 34, 34, 34, 34],\n",
      "        [ 2,  3,  4,  5,  6,  7,  8,  9, 10, 11, 12, 13, 14, 15, 16, 17, 18, 19,\n",
      "         20, 21, 22, 23, 24, 25, 26, 28, 29, 30, 31, 32, 33, 34,  3,  0,  2,  3,\n",
      "          0,  3,  6,  0,  2,  3,  0,  2,  3,  0,  3, 18,  0,  3,  6,  0,  3, 20,\n",
      "          0,  3,  6,  0,  3,  6,  0,  3, 18,  0,  3,  6,  0,  3, 18,  0,  3,  6,\n",
      "          0,  3,  6,  0,  2,  3,  0,  3, 18,  0,  2,  3,  0,  2,  3,  0,  2,  3,\n",
      "          0,  3,  7,  0,  3,  6,  0,  3,  6,  0,  3, 21,  0,  2,  3,  0,  3, 18,\n",
      "          0,  2,  3,  0,  3, 18,  0,  3,  6,  0,  3, 18,  2,  3,  0,  2,  3, 33]])\n",
      "tensor([[1],\n",
      "        [0]])\n",
      "tensor([[ 0,  1,  1,  1,  1,  1,  1,  1,  3,  3,  3,  3,  3,  3,  3,  3,  4,  4,\n",
      "          4,  4,  4,  4,  5,  5,  6,  6,  6,  7,  7,  7,  8,  8,  8,  9,  9,  9,\n",
      "          9,  9,  9,  9,  9,  9,  9,  9,  9,  9,  9, 10, 10, 10, 10, 10, 11, 11,\n",
      "         11, 11, 11, 11, 11, 11, 11, 11, 11, 11, 11, 11, 11, 11, 12, 12, 12, 13,\n",
      "         13, 13, 13, 13, 15, 15, 15, 16, 16, 16, 17, 17, 17, 17, 17, 17, 17, 17,\n",
      "         17, 18, 18, 18, 19, 19, 19, 19, 19, 19, 20, 20, 20, 21, 21, 21, 22, 22,\n",
      "         22, 22, 23, 23, 23, 24, 24, 24, 24, 25, 25, 25, 26, 26, 26, 27, 27, 27,\n",
      "         27, 27, 27, 27, 27, 27, 27, 27, 27, 27, 28, 28, 28, 29, 29, 29, 29, 30,\n",
      "         30, 30, 31, 31, 32, 32, 32, 33, 33, 33, 34, 34, 34, 35, 35, 35, 35, 35,\n",
      "         36, 36, 36, 36, 36, 36, 37, 37, 37, 37, 37, 37, 38, 38, 38, 38, 38, 39,\n",
      "         39, 39, 40, 41, 41, 41, 42, 42, 42, 42, 42, 43, 43, 43, 43, 43, 43, 44,\n",
      "         44, 44, 44, 44, 45, 45, 45, 45, 46, 46, 46, 46, 46, 46, 47, 47, 47, 47,\n",
      "         47, 47, 48, 48, 49, 49, 49, 49, 49, 50, 50, 50, 51, 51, 51, 51, 52, 52,\n",
      "         52, 52, 52, 52, 52, 52, 52, 52, 53, 53, 53, 53, 53, 53, 53, 53, 53, 53,\n",
      "         54, 55, 56, 56, 56, 56, 56, 56, 56, 56, 56, 56, 56, 56, 56, 56, 56, 56,\n",
      "         56, 56, 56, 56, 56, 56, 56, 56, 56, 56, 56, 56, 57, 57, 57, 57, 57, 57,\n",
      "         57, 57, 57, 57, 57, 57, 57, 57, 57, 57, 57, 57, 57, 57, 57, 57, 57, 57,\n",
      "         57, 57, 57, 57, 57, 57, 57, 57, 57, 57, 57, 58, 58, 58, 59, 59, 59, 59,\n",
      "         60, 60, 60, 60, 60, 60, 60, 60, 60, 60, 60, 61, 61, 61, 62, 62, 62, 62,\n",
      "         62, 62, 62, 62, 62, 62, 62, 63, 63, 63, 64, 64, 64, 65, 65, 65, 66, 66,\n",
      "         66, 67, 67, 67, 68, 68, 68, 68, 68, 69, 69, 69, 69, 69, 69, 69, 70, 70,\n",
      "         70, 71, 71, 71, 72, 72, 72, 72, 72, 72, 72, 72, 72, 73, 73, 73, 73, 73,\n",
      "         73, 73, 73, 74, 74, 74, 74, 74, 74, 75, 75, 75, 75, 75, 76, 76, 77, 77,\n",
      "         78, 79, 79, 79, 79, 80, 80, 80, 81, 81, 81, 81, 82, 82, 82, 83, 83, 83],\n",
      "        [31,  2,  9, 21, 23, 27, 31, 72,  2,  9, 14, 19, 23, 27, 32, 37,  2,  9,\n",
      "         23, 27, 31, 72,  9, 29,  2, 40, 55,  8,  9, 55,  9, 31, 55,  6, 11, 19,\n",
      "         23, 27, 31, 42, 44, 46, 47, 48, 49, 54, 56,  2,  9, 11, 13, 14,  9, 13,\n",
      "         14, 19, 29, 31, 48, 63, 64, 65, 66, 67, 68, 69, 70, 71,  9, 29, 55,  9,\n",
      "         11, 14, 21, 40,  9, 29, 55,  2,  9, 17,  2,  9, 11, 14, 28, 29, 30, 33,\n",
      "         35,  2,  9, 19,  2,  9, 11, 31, 48, 49,  9, 12, 55,  2,  9, 19,  2,  9,\n",
      "         23, 24,  9, 49, 55,  2,  9, 23, 27,  9, 19, 55,  8,  9, 55,  2,  9, 11,\n",
      "         14, 19, 21, 23, 28, 29, 30, 31, 32, 33,  9, 29, 55,  5,  6,  9, 19,  9,\n",
      "         19, 55,  2,  9,  2,  9, 18,  2,  9, 19,  2,  9, 18,  2,  9, 21, 29, 54,\n",
      "          2,  9, 23, 27, 32, 37,  2,  9, 14, 23, 27, 32,  2,  9, 11, 39, 41,  9,\n",
      "         41, 55,  6,  9, 29, 55,  9, 14, 43, 44, 45,  9, 14, 31, 40, 76, 77,  9,\n",
      "         13, 14, 42, 61,  9, 13, 14, 31,  9, 11, 14, 43, 47, 55,  9, 13, 14, 40,\n",
      "         46, 61,  9, 23,  6,  9, 14, 19, 29,  9, 51, 55,  9, 13, 14, 61,  2, 11,\n",
      "         14, 21, 29, 39, 41, 53, 54, 57,  6, 11, 13, 19, 29, 31, 48, 49, 56, 62,\n",
      "         29,  6,  6,  9, 11, 13, 19, 23, 24, 27, 31, 38, 42, 43, 44, 45, 46, 47,\n",
      "         48, 49, 50, 51, 53, 54, 60, 74, 75, 76, 80, 81,  1,  3,  4,  6, 10, 11,\n",
      "         12, 13, 16, 17, 19, 20, 22, 23, 24, 27, 29, 33, 35, 36, 38, 41, 46, 47,\n",
      "         48, 49, 52, 53, 54, 56, 59, 73, 75, 79, 83,  2,  9, 19,  2,  9, 23, 36,\n",
      "          6,  9, 11, 19, 23, 27, 42, 44, 46, 47, 54,  9, 13, 31,  6,  9, 11, 19,\n",
      "         23, 27, 42, 44, 46, 47, 54,  9, 55, 64,  5,  9, 55,  5,  9, 55,  5,  9,\n",
      "         55,  5,  9, 55,  9, 13, 14, 19, 55,  6,  7,  8,  9, 26, 29, 31,  9, 55,\n",
      "         65,  9, 29, 55,  2,  9, 14, 19, 23, 27, 30, 31, 33,  2,  9, 14, 21, 23,\n",
      "         27, 32, 74,  2,  9, 14, 19, 23, 27,  2,  9, 23, 27, 74,  9, 45,  9, 31,\n",
      "         53,  9, 19, 29, 55,  9, 55, 81,  9, 13, 14, 61,  9, 13, 55,  2,  9, 35]])\n",
      "tensor([[  0,   0,   0,   0,   0,   0,   0,   0,   0,   0,   0,   0,   1,   1,\n",
      "           1,   1,   2,   2,   2,   2,   2,   2,   2,   3,   5,   5,   6,   6,\n",
      "           6,   6,   7,   8,   8,   9,   9,   9,   9,   9,   9,   9,   9,   9,\n",
      "           9,   9,   9,   9,  10,  10,  10,  10,  11,  11,  11,  11,  12,  12,\n",
      "          12,  12,  15,  15,  15,  16,  16,  16,  17,  17,  17,  17,  18,  18,\n",
      "          18,  18,  18,  19,  19,  19,  19,  19,  19,  19,  19,  19,  19,  19,\n",
      "          19,  19,  19,  19,  19,  19,  19,  19,  19,  19,  19,  19,  19,  21,\n",
      "          21,  21,  21,  21,  22,  23,  23,  23,  24,  24,  24,  25,  26,  26,\n",
      "          26,  26,  26,  26,  26,  28,  28,  28,  28,  28,  28,  28,  28,  28,\n",
      "          28,  28,  29,  29,  29,  30,  30,  30,  30,  31,  31,  31,  32,  32,\n",
      "          32,  32,  32,  32,  32,  32,  32,  32,  32,  32,  32,  32,  32,  32,\n",
      "          32,  32,  32,  32,  32,  32,  32,  32,  32,  33,  33,  33,  34,  34,\n",
      "          34,  35,  35,  36,  36,  37,  37,  37,  37,  37,  37,  37,  38,  38,\n",
      "          38,  38,  38,  39,  39,  39,  39,  39,  39,  39,  40,  40,  40,  40,\n",
      "          40,  40,  40,  40,  41,  41,  41,  41,  42,  42,  42,  42,  42,  42,\n",
      "          42,  42,  42,  42,  42,  42,  43,  43,  43,  43,  44,  44,  44,  44,\n",
      "          44,  44,  44,  45,  45,  45,  45,  45,  45,  45,  45,  45,  45,  45,\n",
      "          45,  45,  45,  45,  45,  45,  45,  45,  45,  46,  46,  46,  46,  46,\n",
      "          46,  46,  46,  46,  46,  47,  47,  48,  48,  48,  48,  48,  48,  48,\n",
      "          49,  49,  50,  50,  50,  50,  50,  50,  51,  51,  51,  52,  53,  53,\n",
      "          53,  53,  53,  54,  54,  56,  56,  56,  56,  56,  56,  56,  56,  57,\n",
      "          58,  58,  58,  58,  58,  58,  58,  58,  59,  60,  60,  60,  60,  61,\n",
      "          61,  62,  62,  62,  62,  62,  62,  62,  62,  62,  62,  62,  62,  62,\n",
      "          62,  63,  63,  63,  63,  63,  63,  63,  64,  64,  64,  64,  64,  65,\n",
      "          65,  65,  65,  65,  65,  65,  65,  65,  65,  65,  65,  65,  65,  66,\n",
      "          66,  66,  66,  67,  67,  67,  67,  67,  67,  67,  68,  69,  69,  69,\n",
      "          69,  69,  69,  70,  70,  70,  70,  71,  71,  71,  71,  71,  71,  71,\n",
      "          71,  71,  71,  71,  72,  72,  74,  74,  75,  75,  77,  77,  77,  77,\n",
      "          77,  77,  77,  77,  77,  77,  77,  77,  77,  77,  77,  78,  78,  78,\n",
      "          79,  79,  79,  79,  79,  79,  80,  80,  80,  81,  81,  81,  81,  81,\n",
      "          81,  82,  83,  83,  83,  85,  85,  85,  86,  86,  86,  86,  87,  87,\n",
      "          87,  88,  88,  89,  89,  89,  90,  90,  91,  91,  91,  91,  91,  92,\n",
      "          92,  92,  92,  92,  92,  93,  93,  93,  93,  94,  94,  94,  94,  95,\n",
      "          95,  95,  95,  96,  96,  96,  96,  96,  96,  97,  97,  97,  97,  99,\n",
      "          99,  99,  99,  99, 100, 100, 101, 101, 101, 101, 101, 101, 102, 102,\n",
      "         102, 102, 105, 105, 105, 105, 105, 105, 105, 106],\n",
      "        [ 13,  21,  29,  32,  39,  42,  47,  64,  83,  84,  85, 105,  44,  47,\n",
      "          49,  55,  13,  21,  28,  49,  55,  68,  98,   4,  34,  68,  13,  29,\n",
      "          55,  64,  75,  75,  80,   8,  13,  32,  42,  64,  81,  86,  91,  93,\n",
      "          94,  95,  97,  98,  80,  81,  84,  88,   8,   9,  81,  91,  10,  80,\n",
      "          81,  88,  33,  52,  80,  17,  18,  52,  32,  39,  54,  80,  16,  17,\n",
      "          19,  33,  45,   4,  16,  17,  18,  20,  21,  22,  23,  24,  25,  26,\n",
      "          27,  28,  29,  30,  31,  32,  34,  36,  38,  39,  40,  42,  80,  13,\n",
      "          29,  39,  42,  75,  27,  17,  39,  80,  17,  29,  80,  27,   0,   4,\n",
      "          21,  29,  32,  42,  85,   1,   2,  13,  21,  29,  47,  49,  55,  57,\n",
      "          99, 103,  13,  47,  49,  29,  47,  49,  80,  29,  40,  47,   0,   8,\n",
      "           9,  11,  13,  14,  18,  19,  21,  24,  28,  29,  39,  42,  47,  57,\n",
      "          59,  60,  63,  64,  70,  81,  83,  99, 103,  52,  75,  80,  13,  49,\n",
      "          55,  17,  52,  44,  80,  17,  20,  35,  39,  42,  65,  80,   1,  13,\n",
      "          29,  47,  49,  17,  23,  32,  42,  55,  65,  75,  13,  28,  29,  39,\n",
      "          47,  55,  64, 106,  17,  35,  52,  65,  17,  21,  24,  29,  32,  39,\n",
      "          52,  55,  59,  60,  63,  70,  17,  35,  52,  65,  13,  29,  47,  49,\n",
      "          55,  84, 106,   2,  17,  20,  29,  31,  32,  34,  35,  37,  40,  41,\n",
      "          42,  43,  46,  48,  49,  50,  51,  53,  80,   2,  13,  28,  29,  44,\n",
      "          49,  55,  75,  84,  88,  29,  49,  17,  20,  24,  29,  35,  52,  65,\n",
      "          13,  55,  17,  20,  35,  45,  52,  65,  21,  80,  92,  80,  17,  35,\n",
      "          45,  52,  65,  20,  55,  17,  20,  23,  24,  57,  58,  59,  60, 103,\n",
      "          17,  20,  23,  24,  42,  59,  60,  80,  24,  24,  42,  59,  80,  52,\n",
      "          80,  28,  29,  31,  32,  39,  40,  42,  44,  49,  64,  66,  67,  69,\n",
      "          80,  17,  24,  29,  32,  39,  55,  80,  13,  29,  39,  47,  55,  17,\n",
      "          20,  24,  29,  32,  39,  42,  44,  54,  55,  59,  63,  68,  80,  13,\n",
      "          49, 102, 104,   8,  32,  55,  64,  81,  92,  98, 103,  20,  32,  68,\n",
      "          71,  72,  79,  29,  59,  63,  80,  20,  29,  42,  59,  65,  68,  72,\n",
      "          73,  74,  76,  80,  20,  52,  20,  52,   8,  80,   0,  13,  21,  26,\n",
      "          29,  32,  42,  55,  64,  65,  75,  78,  82,  84,  85,  42,  80,  82,\n",
      "          20,  59,  68,  71,  72,  74,   8,  52,  75,  10,  12,  80,  84,  88,\n",
      "          98,  42,  21,  29,  32,  21,  32,  42,  64,  80,  87,  98,  64,  80,\n",
      "          98,  29,  84,  13,  49,  55,  21,  92,  86,  93,  94,  95,  97,   8,\n",
      "          21,  32,  81,  98,  99,  64,  80,  87,  98,  64,  80,  87,  98,  64,\n",
      "          80,  87,  98,   8,  21,  32,  81,  98,  99,  64,  80,  87,  98,   8,\n",
      "          21,  32,  81,  98,  42,  75,   8,  28,  49,  81,  84,  88,  13,  49,\n",
      "          55, 104,  21,  29,  32,  42,  64,  75,  98,  29]])\n",
      "tensor([[ 0,  0,  0,  0,  1,  1,  1,  1,  2,  3,  3,  4,  4,  4,  4,  4,  4,  4,\n",
      "          4,  6,  7,  7,  7,  7,  7,  7,  7,  7,  7,  8,  8,  8, 10, 10, 10, 10,\n",
      "         10, 11, 12, 13, 13, 13, 13, 13, 13, 14, 14, 14, 14, 14, 14, 15, 15, 15,\n",
      "         15, 15, 15, 16, 17, 20, 20, 20, 20, 20, 20, 20, 20, 21, 21, 22, 22, 23,\n",
      "         23, 23, 24, 24, 24, 24, 25, 25, 25, 25, 25, 26, 26, 26, 26, 26, 26, 27,\n",
      "         27, 27, 27, 28, 28, 29, 29, 31, 31, 31, 31, 31, 31, 31, 31, 31, 31, 31,\n",
      "         32, 33, 34, 35, 35, 38, 38, 38, 38, 38, 38, 38, 38, 38, 38, 38, 38, 39,\n",
      "         39, 41, 41, 42, 42, 44, 44, 44, 44, 45, 45, 45, 45, 45, 46, 46, 46, 49,\n",
      "         50, 51, 51, 51, 52, 53],\n",
      "        [ 1, 19, 28, 52,  8, 28, 51, 52,  5,  2,  6,  1,  2,  3,  5,  9, 17, 25,\n",
      "         53,  1,  0,  1,  5,  8,  9, 10, 11, 12, 28,  1, 28, 50,  1, 17, 23, 25,\n",
      "         52,  5,  1,  1,  2,  3,  6,  8, 28,  1,  2,  6,  9, 15, 19,  1,  6, 17,\n",
      "         19, 25, 28, 37,  1,  2,  3,  6,  8, 13, 14, 18, 19,  1, 28,  1, 28,  0,\n",
      "          1, 52,  1,  8, 28, 52,  1, 17, 46, 47, 48,  0,  1, 17, 23, 25, 28, 16,\n",
      "         28, 29, 30,  1, 50,  1, 30, 16, 27, 29, 30, 32, 33, 34, 35, 36, 37, 38,\n",
      "         29, 16, 30, 16, 34,  0,  1, 27, 28, 29, 30, 32, 33, 34, 35, 41, 42, 30,\n",
      "         40,  0, 23,  0, 19,  1, 29, 39, 40,  0,  1, 23, 28, 43,  0,  1, 17,  1,\n",
      "          1,  1, 19, 50,  1, 23]])\n",
      "tensor([[  0,   0,   0,  ..., 148, 148, 152],\n",
      "        [ 88, 100, 117,  ...,  88, 100,  71]])\n",
      "tensor([[  1,   1,   2,  ..., 640, 641, 642],\n",
      "        [ 15, 417,   0,  ..., 196, 643, 643]])\n",
      "tensor([[  1,   2,   2,   3,   3,   3,   4,   4,   4,   4,   4,   5,   5,   8,\n",
      "          10,  11,  12,  12,  13,  13,  13,  14,  14,  15,  16,  16,  16,  16,\n",
      "          17,  21,  21,  21,  21,  21,  21,  21,  23,  23,  23,  23,  23,  23,\n",
      "          23,  23,  23,  23,  23,  23,  23,  23,  23,  23,  23,  23,  23,  23,\n",
      "          23,  24,  24,  25,  25,  25,  25,  26,  26,  26,  26,  26,  26,  26,\n",
      "          26,  28,  29,  29,  29,  29,  30,  30,  31,  32,  32,  32,  32,  32,\n",
      "          34,  34,  34,  37,  37,  37,  38,  38,  40,  40,  41,  43,  43,  43,\n",
      "          44,  44,  44,  44,  46,  46,  46,  49,  49,  49,  51,  51,  51,  52,\n",
      "          52,  53,  54,  54,  54,  56,  56,  56,  56,  56,  56,  57,  58,  58,\n",
      "          58,  58,  59,  60,  60,  60,  60,  61,  61,  61,  62,  62,  62,  63,\n",
      "          63,  63,  63,  63,  63,  63,  64,  64,  64,  64,  64,  64,  65,  65,\n",
      "          65,  66,  66,  66,  66,  66,  66,  66,  67,  68,  68,  69,  69,  69,\n",
      "          69,  69,  71,  71,  71,  71,  72,  72,  72,  72,  73,  74,  74,  74,\n",
      "          74,  74,  74,  74,  74,  74,  74,  74,  74,  74,  74,  74,  74,  74,\n",
      "          74,  74,  74,  74,  74,  74,  74,  74,  75,  75,  75,  75,  75,  76,\n",
      "          76,  77,  77,  77,  78,  78,  78,  79,  79,  80,  80,  81,  81,  82,\n",
      "          82,  82,  82,  85,  86,  86,  86,  86,  86,  86,  86,  86,  86,  86,\n",
      "          86,  86,  86,  86,  86,  86,  86,  87,  88,  88,  88,  88,  88,  88,\n",
      "          88,  88,  89,  89,  90,  90,  90,  91,  92,  92,  92,  95,  96,  96,\n",
      "          96,  97,  98,  99,  99, 100, 101, 101, 102, 102, 102, 102, 102, 103,\n",
      "         103, 103, 103, 104, 104, 105, 106, 106, 106, 106, 108, 108, 108, 108,\n",
      "         108, 108, 108, 108, 108, 108, 109],\n",
      "        [ 84,   1,  83,   0,   8,   9,   1,  36,  75,  76,  83,  83,  85,   0,\n",
      "          85,  85,  99, 100,   5,  83,  85,  15,  16,  24,   1,  14,  20,  41,\n",
      "          18,   1,   5,  19,  22,  23, 103, 106,   0,   1,   3,   5,   8,  15,\n",
      "          16,  17,  18,  19,  20,  22,  24,  26,  27,  28,  29,  30, 102, 104,\n",
      "         106,  18,  25,  17,  18,  39,  40,  15,  22,  24,  25,  28,  30,  39,\n",
      "          85,  30,   1,  24,  42,  83,   1,  83, 107,  33,  34,  35,  36, 107,\n",
      "          33,  35,  36,  34,  36, 107,  33, 107,  17,  39,  16,  83,  85,  89,\n",
      "          45,  46,  47,  48,  45,  47,  48,   1,  50,  83,   1,  52,  83,   1,\n",
      "          83,  48,  47,  55,  89,  44,  45,  46,  47,  48,  57,  44,   1,  55,\n",
      "          59,  89,  55,   1,  52,  61,  83,  46,  52,  85,  47,  52,  85,  44,\n",
      "          45,  46,  47,  48,  56,  64,  44,  45,  46,  47,  48,  57,   1,  52,\n",
      "          83,  46,  47,  48,  53,  56,  67,  85,  46,   1,  83,   1,  46,  61,\n",
      "          70,  83,  48,  53,  55,  89,  46,  55,  67,  89,  83,   1,   2,  43,\n",
      "          46,  47,  48,  49,  51,  54,  55,  58,  60,  61,  65,  68,  69,  71,\n",
      "          72,  77,  78,  80,  81,  86,  90, 108,  34,  36,  76,  88, 107,  34,\n",
      "          36,   2,  61,  85,   1,  62,  83,  48,  85,   1,  83,   1,  83,  43,\n",
      "          44,  46,  57,   5,   1,  45,  46,  47,  48,  54,  56,  58,  59,  63,\n",
      "          65,  66,  67,  71,  72,  74,  89, 107,  33,  34,  35,  36,  37,  38,\n",
      "          75, 107,  43,  83,  43,  46,  55,  13,  93,  94,  95,  94,   0,  93,\n",
      "          94,  70,  83,   5,  83, 101,   5, 106,   0,   1,   3,  83, 103,   1,\n",
      "          83, 101, 104,   1,  83, 101,   1,   6,   7,  83,   1,  43,  46,  47,\n",
      "          48,  54,  58,  71,  72,  74,  85]])\n",
      "tensor([[  0,   0,   0,  ..., 517, 517, 517],\n",
      "        [ 68,  69,  77,  ..., 203, 205, 518]])\n",
      "tensor([[  0,   0,   1,   1,   2,   2,   3,   3,   3,   4,   4,   5,   6,   6,\n",
      "           6,   6,   6,   6,   6,   6,   6,   7,   7,   8,   8,   8,   8,   9,\n",
      "           9,  12,  12,  12,  12,  12,  12,  12,  12,  12,  12,  12,  12,  12,\n",
      "          12,  12,  12,  12,  12,  12,  12,  12,  12,  13,  13,  13,  13,  13,\n",
      "          13,  14,  15,  15,  15,  15,  15,  15,  15,  15,  16,  16,  16,  16,\n",
      "          16,  16,  16,  18,  18,  18,  18,  19,  19,  19,  20,  20,  20,  20,\n",
      "          20,  23,  23,  23,  23,  25,  25,  25,  25,  25,  25,  25,  25,  25,\n",
      "          25,  25,  25,  25,  26,  26,  26,  26,  26,  26,  26,  27,  27,  27,\n",
      "          28,  29,  29,  29,  31,  31,  31,  31,  31,  31,  32,  32,  32,  34,\n",
      "          34,  34,  35,  35,  35,  36,  36,  36,  36,  36,  37,  38,  38,  40,\n",
      "          41,  41,  41,  41,  42,  42,  42,  42,  43,  43,  43,  43,  43,  43,\n",
      "          44,  44,  44,  44,  44,  44,  44,  44,  44,  44,  44,  44,  44,  44,\n",
      "          44,  44,  44,  44,  44,  44,  44,  44,  44,  44,  45,  45,  45,  45,\n",
      "          45,  45,  45,  45,  45,  45,  45,  46,  46,  46,  46,  46,  46,  46,\n",
      "          46,  46,  46,  46,  47,  47,  47,  47,  47,  47,  47,  48,  48,  48,\n",
      "          49,  49,  49,  49,  49,  49,  50,  50,  50,  50,  50,  50,  51,  51,\n",
      "          51,  51,  51,  51,  51,  51,  51,  51,  51,  51,  51,  51,  51,  51,\n",
      "          51,  51,  52,  52,  52,  52,  52,  52,  52,  53,  53,  53,  53,  53,\n",
      "          53,  53,  54,  54,  54,  54,  54,  54,  54,  54,  54,  54,  54,  54,\n",
      "          54,  54,  54,  54,  54,  54,  54,  54,  54,  54,  54,  54,  54,  54,\n",
      "          54,  54,  54,  54,  54,  55,  55,  55,  55,  55,  55,  55,  55,  55,\n",
      "          55,  55,  55,  58,  58,  58,  58,  58,  58,  58,  58,  58,  58,  58,\n",
      "          58,  58,  58,  58,  58,  58,  58,  59,  59,  59,  59,  60,  60,  60,\n",
      "          60,  60,  60,  60,  60,  61,  63,  63,  63,  63,  63,  63,  64,  64,\n",
      "          64,  66,  66,  66,  66,  67,  67,  67,  67,  68,  70,  70,  70,  70,\n",
      "          70,  70,  70,  71,  71,  72,  72,  72,  72,  72,  72,  73,  73,  73,\n",
      "          73,  73,  73,  73,  73,  73,  73,  73,  74,  74,  74,  74,  74,  74,\n",
      "          74,  74,  74,  75,  75,  75,  76,  76,  76,  76,  76,  76,  76,  76,\n",
      "          76,  77,  77,  81,  81,  81,  81,  81,  81,  81,  83,  83,  83,  83,\n",
      "          85,  85,  85,  85,  85,  85,  85,  86,  86,  89,  89,  89,  89,  89,\n",
      "          90,  90,  91,  91,  92,  93,  93,  94,  95,  99, 100, 100, 101, 101,\n",
      "         101, 101, 102, 102, 103, 103, 103, 103, 103, 103, 103, 103, 103, 103],\n",
      "        [  1,  29,   7,  42,  24,  29,   7,  25,  36,  39,  42,   6,   5,   7,\n",
      "          10,  11,  14,  17,  19,  21,  36,   1,  42,   6,   9,  10,  42,   6,\n",
      "          42,   5,   6,   8,   9,  10,  11,  13,  14,  15,  16,  17,  18,  19,\n",
      "          20,  21,  22,  23,  24,  25,  36,  42,  76,   5,   6,   7,  19,  22,\n",
      "          36,  96,   5,   6,   7,  25,  31,  36,  79, 103,   6,   9,  19,  32,\n",
      "          33,  42,  87,   6,   9,  17,  42,   6,  22,  95,   6,   9,  26,  27,\n",
      "          42,   6,   9,  11,  42,   2,   7,  10,  23,  24,  26,  27,  28,  29,\n",
      "          35,  36,  64,  71,  25,  27,  28,  29,  30,  31,  42,   7,  25,  36,\n",
      "          25,   7,  27,  36,  25,  28,  39,  42,  69,  80,   9,  33,  42,   7,\n",
      "          35,  36,   7,  25,  36,   1,   6,   9,  24,  25,  42,  39,  42,  38,\n",
      "           6,  38,  40,  42,   1,   7,  95,  97,   1,  25,  28,  44,  45,  46,\n",
      "           1,  17,  24,  25,  27,  28,  31,  33,  45,  47,  48,  49,  50,  52,\n",
      "          53,  57,  62,  64,  71,  78,  80,  81,  82,  87,   7,  11,  23,  25,\n",
      "          26,  27,  28,  44,  59,  70,  85,   7,   8,   9,  18,  20,  23,  25,\n",
      "          32,  36,  44,  54,   1,  10,  25,  44,  48,  49,  50,   1,  25,  28,\n",
      "           7,  10,  23,  25,  33,  71,  10,  21,  42,  47,  68,  77,   1,   5,\n",
      "          21,  25,  28,  33,  43,  44,  46,  49,  50,  52,  53,  54,  55,  56,\n",
      "          57,  58,   7,   9,  25,  43,  44,  46,  78,   7,  25,  26,  28,  44,\n",
      "          45,  48,   1,   5,   6,   9,  12,  16,  21,  23,  24,  25,  26,  28,\n",
      "          32,  33,  44,  45,  46,  47,  49,  50,  53,  56,  57,  58,  60,  63,\n",
      "          67,  68,  72,  73,  74,   7,  20,  25,  26,  27,  28,  44,  45,  46,\n",
      "          53,  57,  59,   5,   6,   7,   9,  10,  25,  26,  28,  31,  32,  33,\n",
      "          44,  46,  47,  49,  50,  53,  76,   7,  25,  26,  57,   1,   8,  10,\n",
      "          25,  31,  44,  46,  49,   5,   7,  23,  25,  44,  46,  49,   7,  25,\n",
      "          36,   5,  21,  33,  51,   7,  25,  36,  46,  69,   7,  25,  26,  28,\n",
      "          44,  57,  59,   7,  17,   1,  21,  25,  32,  46,  54,  17,  18,  24,\n",
      "          25,  44,  46,  49,  71,  84,  97,  98,   1,  10,  23,  24,  25,  33,\n",
      "          49,  65,  71,  42,  76,  77,   5,   6,   7,  10,  11,  14,  17,  21,\n",
      "          36,  10,  42,   7,  25,  26,  27,  28,  44,  45,   5,  33,  44,  66,\n",
      "           7,  25,  26,  28,  44,  57,  59,   1,  87,  86,  87,  88,  90,  91,\n",
      "           1,  87,   1,  87,  42,  39,  42,  93,  42,  42,  39,  42,  33,  39,\n",
      "          42, 100,   1,  42,   5,   6,   8,   9,  10,  12,  19,  32,  42,  76]])\n",
      "tensor([[  0,   0,   1,  ..., 283, 283, 283],\n",
      "        [  1,  43,  43,  ..., 117, 224, 235]])\n",
      "tensor([[  0,   1,   1,  ..., 436, 436, 436],\n",
      "        [343,   6,   7,  ...,   1,   2, 343]])\n",
      "tensor([[  1,   1,   1,  ..., 182, 183, 183],\n",
      "        [ 12,  21,  24,  ..., 132, 130, 132]])\n",
      "tensor([[  0,   0,   2,  ..., 611, 613, 613],\n",
      "        [  1,  53,  91,  ..., 610,   9, 198]])\n",
      "tensor([[  0,   0,   1,  ..., 796, 797, 797],\n",
      "        [483, 540, 184,  ..., 555, 184, 663]])\n"
     ]
    }
   ],
   "source": [],
   "metadata": {
    "collapsed": false,
    "pycharm": {
     "name": "#%%\n"
    }
   }
  },
  {
   "cell_type": "code",
   "execution_count": null,
   "outputs": [],
   "source": [],
   "metadata": {
    "collapsed": false,
    "pycharm": {
     "name": "#%%\n"
    }
   }
  }
 ],
 "metadata": {
  "kernelspec": {
   "display_name": "Python 3",
   "language": "python",
   "name": "python3"
  },
  "language_info": {
   "codemirror_mode": {
    "name": "ipython",
    "version": 2
   },
   "file_extension": ".py",
   "mimetype": "text/x-python",
   "name": "python",
   "nbconvert_exporter": "python",
   "pygments_lexer": "ipython2",
   "version": "2.7.6"
  }
 },
 "nbformat": 4,
 "nbformat_minor": 0
}