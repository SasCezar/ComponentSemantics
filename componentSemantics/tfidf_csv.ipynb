{
 "cells": [
  {
   "cell_type": "code",
   "execution_count": 1,
   "outputs": [],
   "source": [
    "import os\n",
    "from collections import defaultdict, Counter\n",
    "\n",
    "from utils import load_embeddings, load_projects_new, load_stopwords"
   ],
   "metadata": {
    "collapsed": false,
    "pycharm": {
     "name": "#%%\n"
    }
   }
  },
  {
   "cell_type": "code",
   "execution_count": 2,
   "outputs": [],
   "source": [
    "projects, imapping = load_projects_new('.', 'java-projects .final.csv')\n",
    "labels = {k:v for k,v in zip(projects['names'], projects['labels_id'])}"
   ],
   "metadata": {
    "collapsed": false,
    "pycharm": {
     "name": "#%%\n"
    }
   }
  },
  {
   "cell_type": "code",
   "execution_count": 3,
   "outputs": [],
   "source": [
    "path = \"resources/java/stopwords.txt\"\n",
    "stopwords = load_stopwords(path)\n",
    "path = \"resources/en/stopwords.txt\"\n",
    "stopwords.update(load_stopwords(path))"
   ],
   "metadata": {
    "collapsed": false,
    "pycharm": {
     "name": "#%%\n"
    }
   }
  },
  {
   "cell_type": "code",
   "execution_count": 4,
   "outputs": [],
   "source": [
    "\n",
    "terms_path = '../data/embeddings/terms-count/'\n",
    "mapping = {v:k for k,v in imapping.items()}"
   ],
   "metadata": {
    "collapsed": false,
    "pycharm": {
     "name": "#%%\n"
    }
   }
  },
  {
   "cell_type": "code",
   "execution_count": 5,
   "outputs": [
    {
     "name": "stdout",
     "output_type": "stream",
     "text": [
      "[Errno 2] No such file or directory: '../data/embeddings/terms-count/asm.vec'\n",
      "[Errno 2] No such file or directory: '../data/embeddings/terms-count/infinispan.vec'\n",
      "[Errno 2] No such file or directory: '../data/embeddings/terms-count/infer.vec'\n",
      "[Errno 2] No such file or directory: '../data/embeddings/terms-count/source.vec'\n",
      "[Errno 2] No such file or directory: '../data/embeddings/terms-count/org.aspectj.vec'\n",
      "[Errno 2] No such file or directory: '../data/embeddings/terms-count/JGroups.vec'\n",
      "[Errno 2] No such file or directory: '../data/embeddings/terms-count/checker-framework.vec'\n",
      "[Errno 2] No such file or directory: '../data/embeddings/terms-count/libgdx.vec'\n",
      "[Errno 2] No such file or directory: '../data/embeddings/terms-count/eclipse.platform.swt.vec'\n",
      "[Errno 2] No such file or directory: '../data/embeddings/terms-count/reflectasm.vec'\n",
      "[Errno 2] No such file or directory: '../data/embeddings/terms-count/flink.vec'\n",
      "[Errno 2] No such file or directory: '../data/embeddings/terms-count/Smack.vec'\n",
      "Skipped cqengine\n",
      "Skipped java-design-patterns\n",
      "Skipped ff4j\n",
      "Skipped javacv\n",
      "Skipped jbake\n",
      "Skipped jbot\n",
      "Skipped jimfs\n",
      "Skipped joda-money\n",
      "Skipped maven-wrapper\n",
      "Skipped modernizer-maven-plugin\n",
      "Skipped pipelinr\n",
      "Skipped polyglot-maven\n",
      "Skipped simple-java-mail\n",
      "Skipped smooks\n",
      "Skipped togglz\n",
      "Skipped typetools\n",
      "Skipped yGuard\n",
      "[Errno 2] No such file or directory: '../data/embeddings/terms-count/Sysmon.vec'\n",
      "Skipped javacpp\n",
      "Skipped jna\n",
      "Skipped jnr-ffi\n",
      "[Errno 2] No such file or directory: '../data/embeddings/terms-count/cogcomp-nlp.vec'\n",
      "[Errno 2] No such file or directory: '../data/embeddings/terms-count/CoreNLP.vec'\n",
      "[Errno 2] No such file or directory: '../data/embeddings/terms-count/kryonet.vec'\n",
      "[Errno 2] No such file or directory: '../data/embeddings/terms-count/commons-classscan.vec'\n",
      "Skipped Orienteer\n",
      "[Errno 2] No such file or directory: '../data/embeddings/terms-count/gs-core.vec'\n",
      "[Errno 2] No such file or directory: '../data/embeddings/terms-count/jgraphx.vec'\n",
      "[Errno 2] No such file or directory: '../data/embeddings/terms-count/lucene-solr.vec'\n",
      "Skipped freemarker\n",
      "Skipped handlebars.java\n",
      "Skipped jade4j\n",
      "Skipped pebble\n",
      "Skipped rocker\n",
      "Skipped thymeleaf\n",
      "[Errno 2] No such file or directory: '../data/embeddings/terms-count/xmlunit.vec'\n",
      "Skipped arthas\n",
      "Skipped bucket4j\n",
      "Skipped cactoos\n",
      "Skipped crash\n",
      "Skipped ch.vorburger.fswatch\n",
      "Skipped gephi\n",
      "Skipped guava\n",
      "Skipped jgit\n",
      "Skipped webprotege\n",
      "Skipped underscore-java\n",
      "[Errno 2] No such file or directory: '../data/embeddings/terms-count/nutch.apache.org.vec'\n"
     ]
    }
   ],
   "source": [
    "from textblob import  Word\n",
    "\n",
    "category_terms_count = defaultdict(lambda: Counter())\n",
    "category_terms_occ = defaultdict(lambda: Counter())\n",
    "text = []\n",
    "lab = []\n",
    "for project in labels:\n",
    "    category = mapping[labels[project]]\n",
    "    if category in ['Miscellaneous', '']:\n",
    "        print('Skipped', project)\n",
    "        continue\n",
    "    try:\n",
    "        terms_count = load_embeddings(os.path.join(terms_path, f\"{project}.vec\"))\n",
    "        terms = []\n",
    "        for x, y in terms_count.items():\n",
    "            lemma = Word(x).lemmatize()\n",
    "            if lemma not in stopwords and len(x) > 1 and x not in stopwords:\n",
    "                tokens = [lemma] * int(y[0])\n",
    "                terms.extend(tokens)\n",
    "        #terms = [[Word(x).lemmatize()] * int(y[0]) for x, y in terms_count.items() if Word(x).lemmatize() not in stopwords and len(x) > 1]\n",
    "        text.append(\" \".join(terms))\n",
    "        lab.append(category)\n",
    "    except Exception as e:\n",
    "        print(e)"
   ],
   "metadata": {
    "collapsed": false,
    "pycharm": {
     "name": "#%%\n"
    }
   }
  },
  {
   "cell_type": "code",
   "execution_count": 6,
   "outputs": [],
   "source": [
    "import pandas\n",
    "\n",
    "df = pandas.DataFrame({'text': text, 'label': lab})\n",
    "df['label'] = df['label'].fillna('NA')\n",
    "df = df[~df['label'].isin(['NA', 'Miscellaneous'])]\n",
    "\n",
    "y = df['label'].to_frame()\n",
    "X = df['text']\n",
    "\n",
    "\n",
    "\n",
    "from sklearn.feature_extraction.text import TfidfVectorizer\n",
    "\n",
    "\n",
    "vectorizer = TfidfVectorizer(max_features=1000)\n",
    "vectorizer.fit(X)\n",
    "X_mat = vectorizer.transform(X)"
   ],
   "metadata": {
    "collapsed": false,
    "pycharm": {
     "name": "#%%\n"
    }
   }
  },
  {
   "cell_type": "code",
   "execution_count": 7,
   "outputs": [],
   "source": [
    "X_mat = X_mat.todense()"
   ],
   "metadata": {
    "collapsed": false,
    "pycharm": {
     "name": "#%%\n"
    }
   }
  },
  {
   "cell_type": "code",
   "execution_count": 8,
   "outputs": [
    {
     "data": {
      "text/plain": "1000"
     },
     "execution_count": 8,
     "metadata": {},
     "output_type": "execute_result"
    }
   ],
   "source": [
    "len(vectorizer.get_feature_names())"
   ],
   "metadata": {
    "collapsed": false,
    "pycharm": {
     "name": "#%%\n"
    }
   }
  },
  {
   "cell_type": "code",
   "execution_count": 9,
   "outputs": [
    {
     "data": {
      "text/plain": "numpy.matrix"
     },
     "execution_count": 9,
     "metadata": {},
     "output_type": "execute_result"
    }
   ],
   "source": [
    "type(X_mat)"
   ],
   "metadata": {
    "collapsed": false,
    "pycharm": {
     "name": "#%%\n"
    }
   }
  },
  {
   "cell_type": "code",
   "execution_count": 10,
   "outputs": [],
   "source": [
    "out = pandas.DataFrame(X_mat, columns=vectorizer.get_feature_names())"
   ],
   "metadata": {
    "collapsed": false,
    "pycharm": {
     "name": "#%%\n"
    }
   }
  },
  {
   "cell_type": "code",
   "execution_count": 11,
   "outputs": [
    {
     "data": {
      "text/plain": "   absolute    accept    access  accessor  accessors   account  ack    action  \\\n0  0.000054  0.004101  0.000087  0.000075   0.000000  0.770056  0.0  0.000581   \n1  0.000000  0.000000  0.005596  0.004512   0.000000  0.000000  0.0  0.000000   \n2  0.000000  0.000000  0.000000  0.000000   0.000000  0.000000  0.0  0.000000   \n3  0.000000  0.001930  0.000487  0.172625   0.039102  0.000000  0.0  0.000000   \n4  0.000000  0.000280  0.032079  0.083202   0.068412  0.000000  0.0  0.000000   \n\n   active  actor  ...      wrap   wrapper     write    writer  xlink  \\\n0     0.0    0.0  ...  0.000000  0.006776  0.019786  0.016711    0.0   \n1     0.0    0.0  ...  0.000265  0.001247  0.005690  0.000000    0.0   \n2     0.0    0.0  ...  0.000000  0.000000  0.000000  0.000000    0.0   \n3     0.0    0.0  ...  0.000000  0.027479  0.020356  0.020407    0.0   \n4     0.0    0.0  ...  0.000000  0.018271  0.000477  0.075876    0.0   \n\n        xml      year  yield     zero      zone  \n0  0.000000  0.004608    0.0  0.00000  0.000252  \n1  0.085151  0.000000    0.0  0.00000  0.001892  \n2  0.000000  0.000000    0.0  0.00000  0.000000  \n3  0.020996  0.000000    0.0  0.01673  0.003323  \n4  0.008466  0.000000    0.0  0.00000  0.001461  \n\n[5 rows x 1000 columns]",
      "text/html": "<div>\n<style scoped>\n    .dataframe tbody tr th:only-of-type {\n        vertical-align: middle;\n    }\n\n    .dataframe tbody tr th {\n        vertical-align: top;\n    }\n\n    .dataframe thead th {\n        text-align: right;\n    }\n</style>\n<table border=\"1\" class=\"dataframe\">\n  <thead>\n    <tr style=\"text-align: right;\">\n      <th></th>\n      <th>absolute</th>\n      <th>accept</th>\n      <th>access</th>\n      <th>accessor</th>\n      <th>accessors</th>\n      <th>account</th>\n      <th>ack</th>\n      <th>action</th>\n      <th>active</th>\n      <th>actor</th>\n      <th>...</th>\n      <th>wrap</th>\n      <th>wrapper</th>\n      <th>write</th>\n      <th>writer</th>\n      <th>xlink</th>\n      <th>xml</th>\n      <th>year</th>\n      <th>yield</th>\n      <th>zero</th>\n      <th>zone</th>\n    </tr>\n  </thead>\n  <tbody>\n    <tr>\n      <th>0</th>\n      <td>0.000054</td>\n      <td>0.004101</td>\n      <td>0.000087</td>\n      <td>0.000075</td>\n      <td>0.000000</td>\n      <td>0.770056</td>\n      <td>0.0</td>\n      <td>0.000581</td>\n      <td>0.0</td>\n      <td>0.0</td>\n      <td>...</td>\n      <td>0.000000</td>\n      <td>0.006776</td>\n      <td>0.019786</td>\n      <td>0.016711</td>\n      <td>0.0</td>\n      <td>0.000000</td>\n      <td>0.004608</td>\n      <td>0.0</td>\n      <td>0.00000</td>\n      <td>0.000252</td>\n    </tr>\n    <tr>\n      <th>1</th>\n      <td>0.000000</td>\n      <td>0.000000</td>\n      <td>0.005596</td>\n      <td>0.004512</td>\n      <td>0.000000</td>\n      <td>0.000000</td>\n      <td>0.0</td>\n      <td>0.000000</td>\n      <td>0.0</td>\n      <td>0.0</td>\n      <td>...</td>\n      <td>0.000265</td>\n      <td>0.001247</td>\n      <td>0.005690</td>\n      <td>0.000000</td>\n      <td>0.0</td>\n      <td>0.085151</td>\n      <td>0.000000</td>\n      <td>0.0</td>\n      <td>0.00000</td>\n      <td>0.001892</td>\n    </tr>\n    <tr>\n      <th>2</th>\n      <td>0.000000</td>\n      <td>0.000000</td>\n      <td>0.000000</td>\n      <td>0.000000</td>\n      <td>0.000000</td>\n      <td>0.000000</td>\n      <td>0.0</td>\n      <td>0.000000</td>\n      <td>0.0</td>\n      <td>0.0</td>\n      <td>...</td>\n      <td>0.000000</td>\n      <td>0.000000</td>\n      <td>0.000000</td>\n      <td>0.000000</td>\n      <td>0.0</td>\n      <td>0.000000</td>\n      <td>0.000000</td>\n      <td>0.0</td>\n      <td>0.00000</td>\n      <td>0.000000</td>\n    </tr>\n    <tr>\n      <th>3</th>\n      <td>0.000000</td>\n      <td>0.001930</td>\n      <td>0.000487</td>\n      <td>0.172625</td>\n      <td>0.039102</td>\n      <td>0.000000</td>\n      <td>0.0</td>\n      <td>0.000000</td>\n      <td>0.0</td>\n      <td>0.0</td>\n      <td>...</td>\n      <td>0.000000</td>\n      <td>0.027479</td>\n      <td>0.020356</td>\n      <td>0.020407</td>\n      <td>0.0</td>\n      <td>0.020996</td>\n      <td>0.000000</td>\n      <td>0.0</td>\n      <td>0.01673</td>\n      <td>0.003323</td>\n    </tr>\n    <tr>\n      <th>4</th>\n      <td>0.000000</td>\n      <td>0.000280</td>\n      <td>0.032079</td>\n      <td>0.083202</td>\n      <td>0.068412</td>\n      <td>0.000000</td>\n      <td>0.0</td>\n      <td>0.000000</td>\n      <td>0.0</td>\n      <td>0.0</td>\n      <td>...</td>\n      <td>0.000000</td>\n      <td>0.018271</td>\n      <td>0.000477</td>\n      <td>0.075876</td>\n      <td>0.0</td>\n      <td>0.008466</td>\n      <td>0.000000</td>\n      <td>0.0</td>\n      <td>0.00000</td>\n      <td>0.001461</td>\n    </tr>\n  </tbody>\n</table>\n<p>5 rows × 1000 columns</p>\n</div>"
     },
     "execution_count": 11,
     "metadata": {},
     "output_type": "execute_result"
    }
   ],
   "source": [
    "out.head()"
   ],
   "metadata": {
    "collapsed": false,
    "pycharm": {
     "name": "#%%\n"
    }
   }
  },
  {
   "cell_type": "code",
   "execution_count": 12,
   "outputs": [
    {
     "data": {
      "text/plain": "False"
     },
     "execution_count": 12,
     "metadata": {},
     "output_type": "execute_result"
    }
   ],
   "source": [
    "'class' in vectorizer.get_feature_names()"
   ],
   "metadata": {
    "collapsed": false,
    "pycharm": {
     "name": "#%%\n"
    }
   }
  },
  {
   "cell_type": "code",
   "execution_count": 13,
   "outputs": [],
   "source": [
    "out['y'] = df['label']"
   ],
   "metadata": {
    "collapsed": false,
    "pycharm": {
     "name": "#%%\n"
    }
   }
  },
  {
   "cell_type": "code",
   "execution_count": 14,
   "outputs": [
    {
     "data": {
      "text/plain": "   absolute    accept    access  accessor  accessors   account  ack    action  \\\n0  0.000054  0.004101  0.000087  0.000075   0.000000  0.770056  0.0  0.000581   \n1  0.000000  0.000000  0.005596  0.004512   0.000000  0.000000  0.0  0.000000   \n2  0.000000  0.000000  0.000000  0.000000   0.000000  0.000000  0.0  0.000000   \n3  0.000000  0.001930  0.000487  0.172625   0.039102  0.000000  0.0  0.000000   \n4  0.000000  0.000280  0.032079  0.083202   0.068412  0.000000  0.0  0.000000   \n\n   active  actor  ...   wrapper     write    writer  xlink       xml  \\\n0     0.0    0.0  ...  0.006776  0.019786  0.016711    0.0  0.000000   \n1     0.0    0.0  ...  0.001247  0.005690  0.000000    0.0  0.085151   \n2     0.0    0.0  ...  0.000000  0.000000  0.000000    0.0  0.000000   \n3     0.0    0.0  ...  0.027479  0.020356  0.020407    0.0  0.020996   \n4     0.0    0.0  ...  0.018271  0.000477  0.075876    0.0  0.008466   \n\n       year  yield     zero      zone              y  \n0  0.004608    0.0  0.00000  0.000252  Introspection  \n1  0.000000    0.0  0.00000  0.001892  Introspection  \n2  0.000000    0.0  0.00000  0.000000  Introspection  \n3  0.000000    0.0  0.01673  0.003323  Introspection  \n4  0.000000    0.0  0.00000  0.001461  Introspection  \n\n[5 rows x 1001 columns]",
      "text/html": "<div>\n<style scoped>\n    .dataframe tbody tr th:only-of-type {\n        vertical-align: middle;\n    }\n\n    .dataframe tbody tr th {\n        vertical-align: top;\n    }\n\n    .dataframe thead th {\n        text-align: right;\n    }\n</style>\n<table border=\"1\" class=\"dataframe\">\n  <thead>\n    <tr style=\"text-align: right;\">\n      <th></th>\n      <th>absolute</th>\n      <th>accept</th>\n      <th>access</th>\n      <th>accessor</th>\n      <th>accessors</th>\n      <th>account</th>\n      <th>ack</th>\n      <th>action</th>\n      <th>active</th>\n      <th>actor</th>\n      <th>...</th>\n      <th>wrapper</th>\n      <th>write</th>\n      <th>writer</th>\n      <th>xlink</th>\n      <th>xml</th>\n      <th>year</th>\n      <th>yield</th>\n      <th>zero</th>\n      <th>zone</th>\n      <th>y</th>\n    </tr>\n  </thead>\n  <tbody>\n    <tr>\n      <th>0</th>\n      <td>0.000054</td>\n      <td>0.004101</td>\n      <td>0.000087</td>\n      <td>0.000075</td>\n      <td>0.000000</td>\n      <td>0.770056</td>\n      <td>0.0</td>\n      <td>0.000581</td>\n      <td>0.0</td>\n      <td>0.0</td>\n      <td>...</td>\n      <td>0.006776</td>\n      <td>0.019786</td>\n      <td>0.016711</td>\n      <td>0.0</td>\n      <td>0.000000</td>\n      <td>0.004608</td>\n      <td>0.0</td>\n      <td>0.00000</td>\n      <td>0.000252</td>\n      <td>Introspection</td>\n    </tr>\n    <tr>\n      <th>1</th>\n      <td>0.000000</td>\n      <td>0.000000</td>\n      <td>0.005596</td>\n      <td>0.004512</td>\n      <td>0.000000</td>\n      <td>0.000000</td>\n      <td>0.0</td>\n      <td>0.000000</td>\n      <td>0.0</td>\n      <td>0.0</td>\n      <td>...</td>\n      <td>0.001247</td>\n      <td>0.005690</td>\n      <td>0.000000</td>\n      <td>0.0</td>\n      <td>0.085151</td>\n      <td>0.000000</td>\n      <td>0.0</td>\n      <td>0.00000</td>\n      <td>0.001892</td>\n      <td>Introspection</td>\n    </tr>\n    <tr>\n      <th>2</th>\n      <td>0.000000</td>\n      <td>0.000000</td>\n      <td>0.000000</td>\n      <td>0.000000</td>\n      <td>0.000000</td>\n      <td>0.000000</td>\n      <td>0.0</td>\n      <td>0.000000</td>\n      <td>0.0</td>\n      <td>0.0</td>\n      <td>...</td>\n      <td>0.000000</td>\n      <td>0.000000</td>\n      <td>0.000000</td>\n      <td>0.0</td>\n      <td>0.000000</td>\n      <td>0.000000</td>\n      <td>0.0</td>\n      <td>0.00000</td>\n      <td>0.000000</td>\n      <td>Introspection</td>\n    </tr>\n    <tr>\n      <th>3</th>\n      <td>0.000000</td>\n      <td>0.001930</td>\n      <td>0.000487</td>\n      <td>0.172625</td>\n      <td>0.039102</td>\n      <td>0.000000</td>\n      <td>0.0</td>\n      <td>0.000000</td>\n      <td>0.0</td>\n      <td>0.0</td>\n      <td>...</td>\n      <td>0.027479</td>\n      <td>0.020356</td>\n      <td>0.020407</td>\n      <td>0.0</td>\n      <td>0.020996</td>\n      <td>0.000000</td>\n      <td>0.0</td>\n      <td>0.01673</td>\n      <td>0.003323</td>\n      <td>Introspection</td>\n    </tr>\n    <tr>\n      <th>4</th>\n      <td>0.000000</td>\n      <td>0.000280</td>\n      <td>0.032079</td>\n      <td>0.083202</td>\n      <td>0.068412</td>\n      <td>0.000000</td>\n      <td>0.0</td>\n      <td>0.000000</td>\n      <td>0.0</td>\n      <td>0.0</td>\n      <td>...</td>\n      <td>0.018271</td>\n      <td>0.000477</td>\n      <td>0.075876</td>\n      <td>0.0</td>\n      <td>0.008466</td>\n      <td>0.000000</td>\n      <td>0.0</td>\n      <td>0.00000</td>\n      <td>0.001461</td>\n      <td>Introspection</td>\n    </tr>\n  </tbody>\n</table>\n<p>5 rows × 1001 columns</p>\n</div>"
     },
     "execution_count": 14,
     "metadata": {},
     "output_type": "execute_result"
    }
   ],
   "source": [
    "out.head()"
   ],
   "metadata": {
    "collapsed": false,
    "pycharm": {
     "name": "#%%\n"
    }
   }
  },
  {
   "cell_type": "code",
   "execution_count": 15,
   "outputs": [],
   "source": [
    "out.to_csv('our_tfidf_1000_wo_miscellaneous.csv', index=False)"
   ],
   "metadata": {
    "collapsed": false,
    "pycharm": {
     "name": "#%%\n"
    }
   }
  },
  {
   "cell_type": "code",
   "execution_count": 15,
   "outputs": [],
   "source": [],
   "metadata": {
    "collapsed": false,
    "pycharm": {
     "name": "#%%\n"
    }
   }
  }
 ],
 "metadata": {
  "kernelspec": {
   "display_name": "Python 3",
   "language": "python",
   "name": "python3"
  },
  "language_info": {
   "codemirror_mode": {
    "name": "ipython",
    "version": 2
   },
   "file_extension": ".py",
   "mimetype": "text/x-python",
   "name": "python",
   "nbconvert_exporter": "python",
   "pygments_lexer": "ipython2",
   "version": "2.7.6"
  }
 },
 "nbformat": 4,
 "nbformat_minor": 0
}